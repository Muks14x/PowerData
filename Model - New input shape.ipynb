{
 "cells": [
  {
   "cell_type": "code",
   "execution_count": 1,
   "metadata": {
    "collapsed": true
   },
   "outputs": [],
   "source": [
    "import pandas as pd\n",
    "import numpy as np\n",
    "import numpy\n",
    "import matplotlib.pyplot as plt\n",
    "import os\n",
    "import glob"
   ]
  },
  {
   "cell_type": "code",
   "execution_count": 3,
   "metadata": {
    "collapsed": true
   },
   "outputs": [],
   "source": [
    "df_train = pd.read_pickle('df_train')\n",
    "df_test = pd.read_pickle('df_test')\n",
    "del(df_train['DateTime'])"
   ]
  },
  {
   "cell_type": "code",
   "execution_count": 4,
   "metadata": {
    "collapsed": true
   },
   "outputs": [],
   "source": [
    "std = {'W': 1.5e5, 'HiT': 5, 'LoT' : 5}"
   ]
  },
  {
   "cell_type": "code",
   "execution_count": 5,
   "metadata": {},
   "outputs": [
    {
     "data": {
      "text/plain": [
       "562629.0730947304"
      ]
     },
     "execution_count": 5,
     "metadata": {},
     "output_type": "execute_result"
    }
   ],
   "source": [
    "df_train['W'].mean()"
   ]
  },
  {
   "cell_type": "code",
   "execution_count": 6,
   "metadata": {
    "collapsed": true
   },
   "outputs": [],
   "source": [
    "df_train['W'] = df_train['W'] / std['W']\n",
    "for param in ['HiT', 'LoT']:\n",
    "    df_train[param] = df_train[param] / std[param]\n",
    "    df_test[param] = df_test[param] / std[param]"
   ]
  },
  {
   "cell_type": "code",
   "execution_count": 7,
   "metadata": {
    "scrolled": true
   },
   "outputs": [
    {
     "data": {
      "text/html": [
       "<div>\n",
       "<style>\n",
       "    .dataframe thead tr:only-child th {\n",
       "        text-align: right;\n",
       "    }\n",
       "\n",
       "    .dataframe thead th {\n",
       "        text-align: left;\n",
       "    }\n",
       "\n",
       "    .dataframe tbody tr th {\n",
       "        vertical-align: top;\n",
       "    }\n",
       "</style>\n",
       "<table border=\"1\" class=\"dataframe\">\n",
       "  <thead>\n",
       "    <tr style=\"text-align: right;\">\n",
       "      <th></th>\n",
       "      <th>W</th>\n",
       "      <th>HiT</th>\n",
       "      <th>LoT</th>\n",
       "      <th>isWeekend</th>\n",
       "    </tr>\n",
       "  </thead>\n",
       "  <tbody>\n",
       "    <tr>\n",
       "      <th>0</th>\n",
       "      <td>3.463985</td>\n",
       "      <td>6.0</td>\n",
       "      <td>3.6</td>\n",
       "      <td>0</td>\n",
       "    </tr>\n",
       "    <tr>\n",
       "      <th>1</th>\n",
       "      <td>3.322316</td>\n",
       "      <td>6.0</td>\n",
       "      <td>3.6</td>\n",
       "      <td>0</td>\n",
       "    </tr>\n",
       "    <tr>\n",
       "      <th>2</th>\n",
       "      <td>3.228695</td>\n",
       "      <td>6.0</td>\n",
       "      <td>3.6</td>\n",
       "      <td>0</td>\n",
       "    </tr>\n",
       "    <tr>\n",
       "      <th>3</th>\n",
       "      <td>3.109198</td>\n",
       "      <td>6.0</td>\n",
       "      <td>3.6</td>\n",
       "      <td>0</td>\n",
       "    </tr>\n",
       "    <tr>\n",
       "      <th>4</th>\n",
       "      <td>3.237810</td>\n",
       "      <td>6.0</td>\n",
       "      <td>3.6</td>\n",
       "      <td>0</td>\n",
       "    </tr>\n",
       "    <tr>\n",
       "      <th>5</th>\n",
       "      <td>3.122625</td>\n",
       "      <td>6.0</td>\n",
       "      <td>3.6</td>\n",
       "      <td>0</td>\n",
       "    </tr>\n",
       "    <tr>\n",
       "      <th>6</th>\n",
       "      <td>2.610293</td>\n",
       "      <td>6.0</td>\n",
       "      <td>3.6</td>\n",
       "      <td>0</td>\n",
       "    </tr>\n",
       "    <tr>\n",
       "      <th>7</th>\n",
       "      <td>2.879477</td>\n",
       "      <td>6.0</td>\n",
       "      <td>3.6</td>\n",
       "      <td>0</td>\n",
       "    </tr>\n",
       "    <tr>\n",
       "      <th>8</th>\n",
       "      <td>3.389768</td>\n",
       "      <td>6.0</td>\n",
       "      <td>3.6</td>\n",
       "      <td>0</td>\n",
       "    </tr>\n",
       "    <tr>\n",
       "      <th>9</th>\n",
       "      <td>4.812751</td>\n",
       "      <td>6.0</td>\n",
       "      <td>3.6</td>\n",
       "      <td>0</td>\n",
       "    </tr>\n",
       "    <tr>\n",
       "      <th>10</th>\n",
       "      <td>5.289655</td>\n",
       "      <td>6.0</td>\n",
       "      <td>3.6</td>\n",
       "      <td>0</td>\n",
       "    </tr>\n",
       "    <tr>\n",
       "      <th>11</th>\n",
       "      <td>5.141343</td>\n",
       "      <td>6.0</td>\n",
       "      <td>3.6</td>\n",
       "      <td>0</td>\n",
       "    </tr>\n",
       "    <tr>\n",
       "      <th>12</th>\n",
       "      <td>5.526908</td>\n",
       "      <td>6.0</td>\n",
       "      <td>3.6</td>\n",
       "      <td>0</td>\n",
       "    </tr>\n",
       "    <tr>\n",
       "      <th>13</th>\n",
       "      <td>5.151816</td>\n",
       "      <td>6.0</td>\n",
       "      <td>3.6</td>\n",
       "      <td>0</td>\n",
       "    </tr>\n",
       "    <tr>\n",
       "      <th>14</th>\n",
       "      <td>4.930735</td>\n",
       "      <td>6.0</td>\n",
       "      <td>3.6</td>\n",
       "      <td>0</td>\n",
       "    </tr>\n",
       "    <tr>\n",
       "      <th>15</th>\n",
       "      <td>5.219530</td>\n",
       "      <td>6.0</td>\n",
       "      <td>3.6</td>\n",
       "      <td>0</td>\n",
       "    </tr>\n",
       "    <tr>\n",
       "      <th>16</th>\n",
       "      <td>4.863530</td>\n",
       "      <td>6.0</td>\n",
       "      <td>3.6</td>\n",
       "      <td>0</td>\n",
       "    </tr>\n",
       "    <tr>\n",
       "      <th>17</th>\n",
       "      <td>4.714960</td>\n",
       "      <td>6.0</td>\n",
       "      <td>3.6</td>\n",
       "      <td>0</td>\n",
       "    </tr>\n",
       "    <tr>\n",
       "      <th>18</th>\n",
       "      <td>4.559728</td>\n",
       "      <td>6.0</td>\n",
       "      <td>3.6</td>\n",
       "      <td>0</td>\n",
       "    </tr>\n",
       "    <tr>\n",
       "      <th>19</th>\n",
       "      <td>4.334817</td>\n",
       "      <td>6.0</td>\n",
       "      <td>3.6</td>\n",
       "      <td>0</td>\n",
       "    </tr>\n",
       "    <tr>\n",
       "      <th>20</th>\n",
       "      <td>4.184715</td>\n",
       "      <td>6.0</td>\n",
       "      <td>3.6</td>\n",
       "      <td>0</td>\n",
       "    </tr>\n",
       "    <tr>\n",
       "      <th>21</th>\n",
       "      <td>4.044635</td>\n",
       "      <td>6.0</td>\n",
       "      <td>3.6</td>\n",
       "      <td>0</td>\n",
       "    </tr>\n",
       "    <tr>\n",
       "      <th>22</th>\n",
       "      <td>3.935146</td>\n",
       "      <td>6.0</td>\n",
       "      <td>3.6</td>\n",
       "      <td>0</td>\n",
       "    </tr>\n",
       "    <tr>\n",
       "      <th>23</th>\n",
       "      <td>3.622731</td>\n",
       "      <td>6.0</td>\n",
       "      <td>3.6</td>\n",
       "      <td>0</td>\n",
       "    </tr>\n",
       "    <tr>\n",
       "      <th>24</th>\n",
       "      <td>3.440633</td>\n",
       "      <td>6.4</td>\n",
       "      <td>3.6</td>\n",
       "      <td>0</td>\n",
       "    </tr>\n",
       "    <tr>\n",
       "      <th>25</th>\n",
       "      <td>3.274538</td>\n",
       "      <td>6.4</td>\n",
       "      <td>3.6</td>\n",
       "      <td>0</td>\n",
       "    </tr>\n",
       "    <tr>\n",
       "      <th>26</th>\n",
       "      <td>3.185594</td>\n",
       "      <td>6.4</td>\n",
       "      <td>3.6</td>\n",
       "      <td>0</td>\n",
       "    </tr>\n",
       "    <tr>\n",
       "      <th>27</th>\n",
       "      <td>3.118055</td>\n",
       "      <td>6.4</td>\n",
       "      <td>3.6</td>\n",
       "      <td>0</td>\n",
       "    </tr>\n",
       "    <tr>\n",
       "      <th>28</th>\n",
       "      <td>3.154375</td>\n",
       "      <td>6.4</td>\n",
       "      <td>3.6</td>\n",
       "      <td>0</td>\n",
       "    </tr>\n",
       "    <tr>\n",
       "      <th>29</th>\n",
       "      <td>3.052466</td>\n",
       "      <td>6.4</td>\n",
       "      <td>3.6</td>\n",
       "      <td>0</td>\n",
       "    </tr>\n",
       "    <tr>\n",
       "      <th>...</th>\n",
       "      <td>...</td>\n",
       "      <td>...</td>\n",
       "      <td>...</td>\n",
       "      <td>...</td>\n",
       "    </tr>\n",
       "    <tr>\n",
       "      <th>1818</th>\n",
       "      <td>6.943750</td>\n",
       "      <td>3.8</td>\n",
       "      <td>1.8</td>\n",
       "      <td>0</td>\n",
       "    </tr>\n",
       "    <tr>\n",
       "      <th>1819</th>\n",
       "      <td>6.545413</td>\n",
       "      <td>3.8</td>\n",
       "      <td>1.8</td>\n",
       "      <td>0</td>\n",
       "    </tr>\n",
       "    <tr>\n",
       "      <th>1820</th>\n",
       "      <td>6.307789</td>\n",
       "      <td>3.8</td>\n",
       "      <td>1.8</td>\n",
       "      <td>0</td>\n",
       "    </tr>\n",
       "    <tr>\n",
       "      <th>1821</th>\n",
       "      <td>6.215786</td>\n",
       "      <td>3.8</td>\n",
       "      <td>1.8</td>\n",
       "      <td>0</td>\n",
       "    </tr>\n",
       "    <tr>\n",
       "      <th>1822</th>\n",
       "      <td>6.272914</td>\n",
       "      <td>3.8</td>\n",
       "      <td>1.8</td>\n",
       "      <td>0</td>\n",
       "    </tr>\n",
       "    <tr>\n",
       "      <th>1823</th>\n",
       "      <td>5.965230</td>\n",
       "      <td>3.8</td>\n",
       "      <td>1.8</td>\n",
       "      <td>0</td>\n",
       "    </tr>\n",
       "    <tr>\n",
       "      <th>1824</th>\n",
       "      <td>5.654907</td>\n",
       "      <td>3.4</td>\n",
       "      <td>1.6</td>\n",
       "      <td>0</td>\n",
       "    </tr>\n",
       "    <tr>\n",
       "      <th>1825</th>\n",
       "      <td>5.218493</td>\n",
       "      <td>3.4</td>\n",
       "      <td>1.6</td>\n",
       "      <td>0</td>\n",
       "    </tr>\n",
       "    <tr>\n",
       "      <th>1826</th>\n",
       "      <td>4.921540</td>\n",
       "      <td>3.4</td>\n",
       "      <td>1.6</td>\n",
       "      <td>0</td>\n",
       "    </tr>\n",
       "    <tr>\n",
       "      <th>1827</th>\n",
       "      <td>4.909021</td>\n",
       "      <td>3.4</td>\n",
       "      <td>1.6</td>\n",
       "      <td>0</td>\n",
       "    </tr>\n",
       "    <tr>\n",
       "      <th>1828</th>\n",
       "      <td>4.759489</td>\n",
       "      <td>3.4</td>\n",
       "      <td>1.6</td>\n",
       "      <td>0</td>\n",
       "    </tr>\n",
       "    <tr>\n",
       "      <th>1829</th>\n",
       "      <td>4.949052</td>\n",
       "      <td>3.4</td>\n",
       "      <td>1.6</td>\n",
       "      <td>0</td>\n",
       "    </tr>\n",
       "    <tr>\n",
       "      <th>1830</th>\n",
       "      <td>4.771395</td>\n",
       "      <td>3.4</td>\n",
       "      <td>1.6</td>\n",
       "      <td>0</td>\n",
       "    </tr>\n",
       "    <tr>\n",
       "      <th>1831</th>\n",
       "      <td>4.582617</td>\n",
       "      <td>3.4</td>\n",
       "      <td>1.6</td>\n",
       "      <td>0</td>\n",
       "    </tr>\n",
       "    <tr>\n",
       "      <th>1832</th>\n",
       "      <td>5.599603</td>\n",
       "      <td>3.4</td>\n",
       "      <td>1.6</td>\n",
       "      <td>0</td>\n",
       "    </tr>\n",
       "    <tr>\n",
       "      <th>1833</th>\n",
       "      <td>6.256426</td>\n",
       "      <td>3.4</td>\n",
       "      <td>1.6</td>\n",
       "      <td>0</td>\n",
       "    </tr>\n",
       "    <tr>\n",
       "      <th>1834</th>\n",
       "      <td>6.733124</td>\n",
       "      <td>3.4</td>\n",
       "      <td>1.6</td>\n",
       "      <td>0</td>\n",
       "    </tr>\n",
       "    <tr>\n",
       "      <th>1835</th>\n",
       "      <td>6.708533</td>\n",
       "      <td>3.4</td>\n",
       "      <td>1.6</td>\n",
       "      <td>0</td>\n",
       "    </tr>\n",
       "    <tr>\n",
       "      <th>1836</th>\n",
       "      <td>6.695493</td>\n",
       "      <td>3.4</td>\n",
       "      <td>1.6</td>\n",
       "      <td>0</td>\n",
       "    </tr>\n",
       "    <tr>\n",
       "      <th>1837</th>\n",
       "      <td>6.419834</td>\n",
       "      <td>3.4</td>\n",
       "      <td>1.6</td>\n",
       "      <td>0</td>\n",
       "    </tr>\n",
       "    <tr>\n",
       "      <th>1838</th>\n",
       "      <td>6.024301</td>\n",
       "      <td>3.4</td>\n",
       "      <td>1.6</td>\n",
       "      <td>0</td>\n",
       "    </tr>\n",
       "    <tr>\n",
       "      <th>1839</th>\n",
       "      <td>5.988680</td>\n",
       "      <td>3.4</td>\n",
       "      <td>1.6</td>\n",
       "      <td>0</td>\n",
       "    </tr>\n",
       "    <tr>\n",
       "      <th>1840</th>\n",
       "      <td>5.862726</td>\n",
       "      <td>3.4</td>\n",
       "      <td>1.6</td>\n",
       "      <td>0</td>\n",
       "    </tr>\n",
       "    <tr>\n",
       "      <th>1841</th>\n",
       "      <td>6.210493</td>\n",
       "      <td>3.4</td>\n",
       "      <td>1.6</td>\n",
       "      <td>0</td>\n",
       "    </tr>\n",
       "    <tr>\n",
       "      <th>1842</th>\n",
       "      <td>6.526997</td>\n",
       "      <td>3.4</td>\n",
       "      <td>1.6</td>\n",
       "      <td>0</td>\n",
       "    </tr>\n",
       "    <tr>\n",
       "      <th>1843</th>\n",
       "      <td>6.586719</td>\n",
       "      <td>3.4</td>\n",
       "      <td>1.6</td>\n",
       "      <td>0</td>\n",
       "    </tr>\n",
       "    <tr>\n",
       "      <th>1844</th>\n",
       "      <td>6.262180</td>\n",
       "      <td>3.4</td>\n",
       "      <td>1.6</td>\n",
       "      <td>0</td>\n",
       "    </tr>\n",
       "    <tr>\n",
       "      <th>1845</th>\n",
       "      <td>6.196034</td>\n",
       "      <td>3.4</td>\n",
       "      <td>1.6</td>\n",
       "      <td>0</td>\n",
       "    </tr>\n",
       "    <tr>\n",
       "      <th>1846</th>\n",
       "      <td>6.388007</td>\n",
       "      <td>3.4</td>\n",
       "      <td>1.6</td>\n",
       "      <td>0</td>\n",
       "    </tr>\n",
       "    <tr>\n",
       "      <th>1847</th>\n",
       "      <td>6.171583</td>\n",
       "      <td>3.4</td>\n",
       "      <td>1.6</td>\n",
       "      <td>0</td>\n",
       "    </tr>\n",
       "  </tbody>\n",
       "</table>\n",
       "<p>1848 rows × 4 columns</p>\n",
       "</div>"
      ],
      "text/plain": [
       "             W  HiT  LoT  isWeekend\n",
       "0     3.463985  6.0  3.6          0\n",
       "1     3.322316  6.0  3.6          0\n",
       "2     3.228695  6.0  3.6          0\n",
       "3     3.109198  6.0  3.6          0\n",
       "4     3.237810  6.0  3.6          0\n",
       "5     3.122625  6.0  3.6          0\n",
       "6     2.610293  6.0  3.6          0\n",
       "7     2.879477  6.0  3.6          0\n",
       "8     3.389768  6.0  3.6          0\n",
       "9     4.812751  6.0  3.6          0\n",
       "10    5.289655  6.0  3.6          0\n",
       "11    5.141343  6.0  3.6          0\n",
       "12    5.526908  6.0  3.6          0\n",
       "13    5.151816  6.0  3.6          0\n",
       "14    4.930735  6.0  3.6          0\n",
       "15    5.219530  6.0  3.6          0\n",
       "16    4.863530  6.0  3.6          0\n",
       "17    4.714960  6.0  3.6          0\n",
       "18    4.559728  6.0  3.6          0\n",
       "19    4.334817  6.0  3.6          0\n",
       "20    4.184715  6.0  3.6          0\n",
       "21    4.044635  6.0  3.6          0\n",
       "22    3.935146  6.0  3.6          0\n",
       "23    3.622731  6.0  3.6          0\n",
       "24    3.440633  6.4  3.6          0\n",
       "25    3.274538  6.4  3.6          0\n",
       "26    3.185594  6.4  3.6          0\n",
       "27    3.118055  6.4  3.6          0\n",
       "28    3.154375  6.4  3.6          0\n",
       "29    3.052466  6.4  3.6          0\n",
       "...        ...  ...  ...        ...\n",
       "1818  6.943750  3.8  1.8          0\n",
       "1819  6.545413  3.8  1.8          0\n",
       "1820  6.307789  3.8  1.8          0\n",
       "1821  6.215786  3.8  1.8          0\n",
       "1822  6.272914  3.8  1.8          0\n",
       "1823  5.965230  3.8  1.8          0\n",
       "1824  5.654907  3.4  1.6          0\n",
       "1825  5.218493  3.4  1.6          0\n",
       "1826  4.921540  3.4  1.6          0\n",
       "1827  4.909021  3.4  1.6          0\n",
       "1828  4.759489  3.4  1.6          0\n",
       "1829  4.949052  3.4  1.6          0\n",
       "1830  4.771395  3.4  1.6          0\n",
       "1831  4.582617  3.4  1.6          0\n",
       "1832  5.599603  3.4  1.6          0\n",
       "1833  6.256426  3.4  1.6          0\n",
       "1834  6.733124  3.4  1.6          0\n",
       "1835  6.708533  3.4  1.6          0\n",
       "1836  6.695493  3.4  1.6          0\n",
       "1837  6.419834  3.4  1.6          0\n",
       "1838  6.024301  3.4  1.6          0\n",
       "1839  5.988680  3.4  1.6          0\n",
       "1840  5.862726  3.4  1.6          0\n",
       "1841  6.210493  3.4  1.6          0\n",
       "1842  6.526997  3.4  1.6          0\n",
       "1843  6.586719  3.4  1.6          0\n",
       "1844  6.262180  3.4  1.6          0\n",
       "1845  6.196034  3.4  1.6          0\n",
       "1846  6.388007  3.4  1.6          0\n",
       "1847  6.171583  3.4  1.6          0\n",
       "\n",
       "[1848 rows x 4 columns]"
      ]
     },
     "execution_count": 7,
     "metadata": {},
     "output_type": "execute_result"
    }
   ],
   "source": [
    "df_train"
   ]
  },
  {
   "cell_type": "code",
   "execution_count": 8,
   "metadata": {
    "scrolled": false
   },
   "outputs": [
    {
     "data": {
      "image/png": "[encoded data removed]",
      "text/plain": [
       "<matplotlib.figure.Figure at 0x113fbc860>"
      ]
     },
     "metadata": {},
     "output_type": "display_data"
    }
   ],
   "source": [
    "plt.plot(df_train['W'][:])\n",
    "plt.show()"
   ]
  },
  {
   "cell_type": "code",
   "execution_count": 9,
   "metadata": {},
   "outputs": [
    {
     "data": {
      "text/plain": [
       "1.5103111618364438"
      ]
     },
     "execution_count": 9,
     "metadata": {},
     "output_type": "execute_result"
    }
   ],
   "source": [
    "df_train['W'][326:393].mean()"
   ]
  },
  {
   "cell_type": "code",
   "execution_count": 10,
   "metadata": {},
   "outputs": [
    {
     "name": "stderr",
     "output_type": "stream",
     "text": [
      "/Users/Muks/anaconda3/lib/python3.6/site-packages/ipykernel/__main__.py:1: SettingWithCopyWarning: \n",
      "A value is trying to be set on a copy of a slice from a DataFrame\n",
      "\n",
      "See the caveats in the documentation: http://pandas.pydata.org/pandas-docs/stable/indexing.html#indexing-view-versus-copy\n",
      "  if __name__ == '__main__':\n"
     ]
    }
   ],
   "source": [
    "df_train['W'][326:396] += df_train['W'][0:1500].mean() - df_train['W'][326:393].mean()"
   ]
  },
  {
   "cell_type": "code",
   "execution_count": 11,
   "metadata": {},
   "outputs": [
    {
     "data": {
      "image/png": "[encoded data removed]",
      "text/plain": [
       "<matplotlib.figure.Figure at 0x1173f2f98>"
      ]
     },
     "metadata": {},
     "output_type": "display_data"
    }
   ],
   "source": [
    "plt.plot(df_train['W'][:])\n",
    "plt.show()"
   ]
  },
  {
   "cell_type": "code",
   "execution_count": 12,
   "metadata": {
    "collapsed": true
   },
   "outputs": [],
   "source": [
    "# convert an array of values into a dataset matrix\n",
    "def create_dataset(dataset, look_back=1):\n",
    "\tdataX, dataY = [], []\n",
    "\tfor i in range(len(dataset)-look_back):\n",
    "\t\ta = dataset[i:(i+look_back)]\n",
    "\t\tdataX.append(a)\n",
    "\t\tdataY.append(dataset[i + look_back, :, 0])\n",
    "\treturn numpy.array(dataX), numpy.array(dataY)"
   ]
  },
  {
   "cell_type": "code",
   "execution_count": 13,
   "metadata": {
    "collapsed": true
   },
   "outputs": [],
   "source": [
    "dataset = df_train.values.reshape((-1, 24, 4))"
   ]
  },
  {
   "cell_type": "code",
   "execution_count": 14,
   "metadata": {},
   "outputs": [
    {
     "data": {
      "text/plain": [
       "(77, 24, 4)"
      ]
     },
     "execution_count": 14,
     "metadata": {},
     "output_type": "execute_result"
    }
   ],
   "source": [
    "dataset.shape"
   ]
  },
  {
   "cell_type": "code",
   "execution_count": 21,
   "metadata": {
    "collapsed": true
   },
   "outputs": [],
   "source": [
    "X, y = create_dataset(dataset, look_back=7)\n",
    "X = X.reshape((X.shape[0], 7, -1))"
   ]
  },
  {
   "cell_type": "code",
   "execution_count": 22,
   "metadata": {},
   "outputs": [
    {
     "data": {
      "text/plain": [
       "((70, 7, 96), (70, 24))"
      ]
     },
     "execution_count": 22,
     "metadata": {},
     "output_type": "execute_result"
    }
   ],
   "source": [
    "X.shape, y.shape"
   ]
  },
  {
   "cell_type": "code",
   "execution_count": 67,
   "metadata": {},
   "outputs": [],
   "source": [
    "from keras.models import Sequential\n",
    "from keras.layers import Dense\n",
    "from keras.layers import LSTM\n",
    "from keras.layers import Input\n",
    "from keras.callbacks import Callback\n",
    "from keras.optimizers import adagrad, adam\n",
    "from sklearn.preprocessing import MinMaxScaler\n",
    "from sklearn.metrics import mean_squared_error\n",
    "from IPython.display import clear_output"
   ]
  },
  {
   "cell_type": "code",
   "execution_count": 70,
   "metadata": {},
   "outputs": [],
   "source": [
    "# create and fit the LSTM network\n",
    "model = Sequential()\n",
    "model.add(LSTM(100, input_shape=(7 , 24 * 4)))\n",
    "model.add(Dense(50, activation='relu'))\n",
    "model.add(Dense(24))"
   ]
  },
  {
   "cell_type": "code",
   "execution_count": 71,
   "metadata": {},
   "outputs": [
    {
     "name": "stdout",
     "output_type": "stream",
     "text": [
      "_________________________________________________________________\n",
      "Layer (type)                 Output Shape              Param #   \n",
      "=================================================================\n",
      "lstm_6 (LSTM)                (None, 100)               78800     \n",
      "_________________________________________________________________\n",
      "dense_9 (Dense)              (None, 50)                5050      \n",
      "_________________________________________________________________\n",
      "dense_10 (Dense)             (None, 24)                1224      \n",
      "=================================================================\n",
      "Total params: 85,074\n",
      "Trainable params: 85,074\n",
      "Non-trainable params: 0\n",
      "_________________________________________________________________\n"
     ]
    }
   ],
   "source": [
    "model.summary()"
   ]
  },
  {
   "cell_type": "code",
   "execution_count": 73,
   "metadata": {
    "collapsed": true
   },
   "outputs": [],
   "source": [
    "# model.compile(loss='mean_squared_error', optimizer=adagrad(lr=0.01))\n",
    "model.compile(loss='mean_squared_error', optimizer='adam')"
   ]
  },
  {
   "cell_type": "code",
   "execution_count": 74,
   "metadata": {
    "collapsed": true
   },
   "outputs": [],
   "source": [
    "num_train = 64\n",
    "X_train = X[ : num_train]\n",
    "y_train = y[ : num_train]\n",
    "X_test = X[num_train : ]\n",
    "y_test = y[num_train : ]"
   ]
  },
  {
   "cell_type": "code",
   "execution_count": 75,
   "metadata": {},
   "outputs": [],
   "source": [
    "## From https://gist.github.com/stared/dfb4dfaf6d9a8501cd1cc8b8cb806d2e\n",
    "\n",
    "class PlotLosses(Callback):\n",
    "    def on_train_begin(self, logs={}):\n",
    "        self.i = 0\n",
    "        self.x = []\n",
    "        self.losses = []\n",
    "        self.val_losses = []\n",
    "        \n",
    "        self.fig = plt.figure()\n",
    "        \n",
    "        self.logs = []\n",
    "\n",
    "    def on_epoch_end(self, epoch, logs={}):\n",
    "        \n",
    "        self.logs.append(logs)\n",
    "        self.x.append(self.i)\n",
    "        self.losses.append(logs.get('loss'))\n",
    "        self.val_losses.append(logs.get('val_loss'))\n",
    "        self.i += 1\n",
    "        \n",
    "        clear_output(wait=True)\n",
    "        plt.plot(self.x, self.losses, label=\"loss\")\n",
    "        plt.plot(self.x, self.val_losses, label=\"val_loss\")\n",
    "        plt.legend()\n",
    "        plt.show();\n",
    "        \n",
    "plot_losses = PlotLosses()"
   ]
  },
  {
   "cell_type": "code",
   "execution_count": 76,
   "metadata": {},
   "outputs": [
    {
     "data": {
      "image/png": "[encoded data removed]",
      "text/plain": [
       "<matplotlib.figure.Figure at 0x12d4beba8>"
      ]
     },
     "metadata": {},
     "output_type": "display_data"
    },
    {
     "name": "stdout",
     "output_type": "stream",
     "text": [
      "64/64 [==============================] - 0s - loss: 0.2694     \n"
     ]
    },
    {
     "data": {
      "text/plain": [
       "<keras.callbacks.History at 0x12d0b8d68>"
      ]
     },
     "execution_count": 76,
     "metadata": {},
     "output_type": "execute_result"
    }
   ],
   "source": [
    "model.fit(X_train, y_train, epochs=20, callbacks=[plot_losses], batch_size=4)"
   ]
  },
  {
   "cell_type": "code",
   "execution_count": 77,
   "metadata": {
    "scrolled": true
   },
   "outputs": [
    {
     "data": {
      "image/png": "[encoded data removed]",
      "text/plain": [
       "<matplotlib.figure.Figure at 0x12e38b5c0>"
      ]
     },
     "metadata": {},
     "output_type": "display_data"
    },
    {
     "name": "stdout",
     "output_type": "stream",
     "text": [
      "64/64 [==============================] - 0s - loss: 0.0330     \n"
     ]
    }
   ],
   "source": [
    "history = model.fit(X_train, y_train, epochs=500, callbacks=[plot_losses], batch_size=4, initial_epoch=21)"
   ]
  },
  {
   "cell_type": "code",
   "execution_count": 85,
   "metadata": {},
   "outputs": [
    {
     "data": {
      "text/plain": [
       "[0.24531780462712049,\n",
       " 0.20673205889761448,\n",
       " 0.18736038892529905,\n",
       " 0.18345530587248504,\n",
       " 0.14901479915715754,\n",
       " 0.14632878242991865,\n",
       " 0.14901840430684388,\n",
       " 0.18473571026697755,\n",
       " 0.17100213933736086,\n",
       " 0.14832018758170307,\n",
       " 0.12667558272369206,\n",
       " 0.13080109539441764,\n",
       " 0.12270744610577822,\n",
       " 0.11903279763646424,\n",
       " 0.12057040748186409,\n",
       " 0.11996869882568717,\n",
       " 0.12008548085577786,\n",
       " 0.10850810492411256,\n",
       " 0.10733280004933476,\n",
       " 0.12254461273550987,\n",
       " 0.10061452002264559,\n",
       " 0.10078861704096198,\n",
       " 0.091988678206689656,\n",
       " 0.08757218043319881,\n",
       " 0.10737785324454308,\n",
       " 0.091520201647654176,\n",
       " 0.099201918113976717,\n",
       " 0.10719600366428494,\n",
       " 0.096693897619843483,\n",
       " 0.10807349439710379,\n",
       " 0.088560242438688874,\n",
       " 0.092785569257102907,\n",
       " 0.096562768798321486,\n",
       " 0.084677812177687883,\n",
       " 0.086889182450249791,\n",
       " 0.090548416832461953,\n",
       " 0.099523428711108863,\n",
       " 0.084207263775169849,\n",
       " 0.087906436761841178,\n",
       " 0.092698516556993127,\n",
       " 0.096775034326128662,\n",
       " 0.08786392561160028,\n",
       " 0.094340271083638072,\n",
       " 0.088502971339039505,\n",
       " 0.078340321430005133,\n",
       " 0.076661909348331392,\n",
       " 0.075221949955448508,\n",
       " 0.076092107454314828,\n",
       " 0.074747578939422965,\n",
       " 0.070950342807918787,\n",
       " 0.086479620076715946,\n",
       " 0.11410219711251557,\n",
       " 0.10287180391605943,\n",
       " 0.086091790813952684,\n",
       " 0.0839029501657933,\n",
       " 0.075459913350641727,\n",
       " 0.074363490217365324,\n",
       " 0.074820435955189168,\n",
       " 0.076393837342038751,\n",
       " 0.088954707840457559,\n",
       " 0.077234739903360605,\n",
       " 0.073963201371952891,\n",
       " 0.073547033709473908,\n",
       " 0.069753274321556091,\n",
       " 0.066643498721532524,\n",
       " 0.068389770109206438,\n",
       " 0.072359029436483979,\n",
       " 0.069658795022405684,\n",
       " 0.074466064339503646,\n",
       " 0.069593182532116771,\n",
       " 0.070408030645921826,\n",
       " 0.080193566158413887,\n",
       " 0.068292176001705229,\n",
       " 0.066363447578623891,\n",
       " 0.067066063638776541,\n",
       " 0.065407876623794436,\n",
       " 0.069175758864730597,\n",
       " 0.066742752213031054,\n",
       " 0.067638442502357066,\n",
       " 0.065101076499558985,\n",
       " 0.066363237332552671,\n",
       " 0.063758542994037271,\n",
       " 0.064168910728767514,\n",
       " 0.066444640280678868,\n",
       " 0.067652185214683414,\n",
       " 0.07338445505592972,\n",
       " 0.060365601093508303,\n",
       " 0.061638629529625177,\n",
       " 0.066283137537539005,\n",
       " 0.079384917276911438,\n",
       " 0.059599574073217809,\n",
       " 0.066228465642780066,\n",
       " 0.066415984416380525,\n",
       " 0.065573219209909439,\n",
       " 0.061814215499907732,\n",
       " 0.057332522817887366,\n",
       " 0.058664057753048837,\n",
       " 0.062305590370669961,\n",
       " 0.063468310865573585,\n",
       " 0.061623548623174429,\n",
       " 0.061464732745662332,\n",
       " 0.06029493163805455,\n",
       " 0.066387515747919679,\n",
       " 0.058787323767319322,\n",
       " 0.06468412047252059,\n",
       " 0.060970859136432409,\n",
       " 0.059574168059043586,\n",
       " 0.056809403467923403,\n",
       " 0.055704037426039577,\n",
       " 0.055875019170343876,\n",
       " 0.053938344935886562,\n",
       " 0.056115957908332348,\n",
       " 0.065391294891014695,\n",
       " 0.06120312656275928,\n",
       " 0.059339594095945358,\n",
       " 0.062399161397479475,\n",
       " 0.05824822629801929,\n",
       " 0.06131200841628015,\n",
       " 0.073963351082056761,\n",
       " 0.059634505771100521,\n",
       " 0.058305571554228663,\n",
       " 0.052095858962275088,\n",
       " 0.057926318026147783,\n",
       " 0.066648930311203003,\n",
       " 0.094410987803712487,\n",
       " 0.086978688137605786,\n",
       " 0.077420946443453431,\n",
       " 0.066634283517487347,\n",
       " 0.050824402249418199,\n",
       " 0.058007256709970534,\n",
       " 0.053552850731648505,\n",
       " 0.057945907348766923,\n",
       " 0.063745719846338034,\n",
       " 0.056182728731073439,\n",
       " 0.051605293643660843,\n",
       " 0.052570344880223274,\n",
       " 0.052982284338213503,\n",
       " 0.051325951237231493,\n",
       " 0.051706274622119963,\n",
       " 0.071480285376310349,\n",
       " 0.078067824244499207,\n",
       " 0.059400025173090398,\n",
       " 0.060945866978727281,\n",
       " 0.06197174999397248,\n",
       " 0.054140634601935744,\n",
       " 0.049312554067000747,\n",
       " 0.048801572760567069,\n",
       " 0.053275521146133542,\n",
       " 0.056300731841474771,\n",
       " 0.052588332677260041,\n",
       " 0.060745092341676354,\n",
       " 0.056843104073777795,\n",
       " 0.04992598295211792,\n",
       " 0.051131053362041712,\n",
       " 0.049279244034551084,\n",
       " 0.047498340310994536,\n",
       " 0.050916410051286221,\n",
       " 0.047802202869206667,\n",
       " 0.053868968272581697,\n",
       " 0.051638155477121472,\n",
       " 0.050924193114042282,\n",
       " 0.050584020675159991,\n",
       " 0.045803169487044215,\n",
       " 0.047456753731239587,\n",
       " 0.049053339171223342,\n",
       " 0.052309511636849493,\n",
       " 0.047828566050156951,\n",
       " 0.045919590280391276,\n",
       " 0.052453075768426061,\n",
       " 0.046087580150924623,\n",
       " 0.052430389914661646,\n",
       " 0.048825304605998099,\n",
       " 0.04684040741994977,\n",
       " 0.046537465881556273,\n",
       " 0.044650868105236441,\n",
       " 0.046198699972592294,\n",
       " 0.051056719268672168,\n",
       " 0.054232926922850311,\n",
       " 0.052209059824235737,\n",
       " 0.050598764093592763,\n",
       " 0.045933448593132198,\n",
       " 0.043825527536682785,\n",
       " 0.044762717676348984,\n",
       " 0.046789339394308627,\n",
       " 0.044011221034452319,\n",
       " 0.043092734878882766,\n",
       " 0.042827088851481676,\n",
       " 0.043200510204769671,\n",
       " 0.048881617374718189,\n",
       " 0.045205265516415238,\n",
       " 0.045753591461107135,\n",
       " 0.047030304092913866,\n",
       " 0.045385970850475132,\n",
       " 0.048688353504985571,\n",
       " 0.045513123506680131,\n",
       " 0.045308801054488868,\n",
       " 0.045734160579741001,\n",
       " 0.048734636278823018,\n",
       " 0.042614276928361505,\n",
       " 0.045320754463318735,\n",
       " 0.052472193376161158,\n",
       " 0.049242143169976771,\n",
       " 0.049252406810410321,\n",
       " 0.052465502521954477,\n",
       " 0.055465309298597276,\n",
       " 0.046030427562072873,\n",
       " 0.044900448992848396,\n",
       " 0.041720377397723496,\n",
       " 0.04310874710790813,\n",
       " 0.042309241543989629,\n",
       " 0.050431514158844948,\n",
       " 0.045582510996609926,\n",
       " 0.044559016765560955,\n",
       " 0.050509067485108972,\n",
       " 0.049152664840221405,\n",
       " 0.05042184132616967,\n",
       " 0.04195497720502317,\n",
       " 0.044713545474223793,\n",
       " 0.054296822985634208,\n",
       " 0.050979594350792468,\n",
       " 0.05643504427280277,\n",
       " 0.043344424804672599,\n",
       " 0.042463624151423573,\n",
       " 0.042965385830029845,\n",
       " 0.041260618600063026,\n",
       " 0.046696888690348715,\n",
       " 0.047911944682709873,\n",
       " 0.044774607580620795,\n",
       " 0.043637432740069926,\n",
       " 0.044877512962557375,\n",
       " 0.044384074106346816,\n",
       " 0.041819174191914499,\n",
       " 0.04103112721350044,\n",
       " 0.040663648163899779,\n",
       " 0.041182783548720181,\n",
       " 0.040953263407573104,\n",
       " 0.042443061480298638,\n",
       " 0.041651990031823516,\n",
       " 0.0419458580436185,\n",
       " 0.041277137352153659,\n",
       " 0.041223011678084731,\n",
       " 0.041563511709682643,\n",
       " 0.054651714279316366,\n",
       " 0.045216611935757101,\n",
       " 0.042199484654702246,\n",
       " 0.043944885663222522,\n",
       " 0.044778733165003359,\n",
       " 0.0457825010525994,\n",
       " 0.039006795093882829,\n",
       " 0.040989869856275618,\n",
       " 0.04530454718042165,\n",
       " 0.042755096103064716,\n",
       " 0.04738155665108934,\n",
       " 0.057930760201998055,\n",
       " 0.048586694232653826,\n",
       " 0.039761183550581336,\n",
       " 0.041181814856827259,\n",
       " 0.038820107001811266,\n",
       " 0.039269559492822737,\n",
       " 0.038372412556782365,\n",
       " 0.043217671802267432,\n",
       " 0.048991418560035527,\n",
       " 0.040892547753173858,\n",
       " 0.041016690956894308,\n",
       " 0.04125360690522939,\n",
       " 0.040769080398604274,\n",
       " 0.042247563425917178,\n",
       " 0.040830006939359009,\n",
       " 0.045193677418865263,\n",
       " 0.044965242501348257,\n",
       " 0.048471880378201604,\n",
       " 0.044362094718962908,\n",
       " 0.040529484103899449,\n",
       " 0.039590319502167404,\n",
       " 0.038899431587196887,\n",
       " 0.040958703961223364,\n",
       " 0.039229172340128571,\n",
       " 0.036627619410865009,\n",
       " 0.044379997998476028,\n",
       " 0.045731137739494443,\n",
       " 0.050686759990639985,\n",
       " 0.048136967816390097,\n",
       " 0.046542847412638366,\n",
       " 0.045319644443225116,\n",
       " 0.041296617826446891,\n",
       " 0.049646758008748293,\n",
       " 0.04595382564002648,\n",
       " 0.050089121679775417,\n",
       " 0.061779002950061113,\n",
       " 0.048913071397691965,\n",
       " 0.043021811987273395,\n",
       " 0.044259316462557763,\n",
       " 0.044413738884031773,\n",
       " 0.050959666259586811,\n",
       " 0.043898701493162662,\n",
       " 0.040101153135765344,\n",
       " 0.045022844686172903,\n",
       " 0.047370710526593029,\n",
       " 0.043432132108137012,\n",
       " 0.040873025311157107,\n",
       " 0.041786854213569313,\n",
       " 0.0421747793443501,\n",
       " 0.039303523604758084,\n",
       " 0.035835903545375913,\n",
       " 0.038235762913245708,\n",
       " 0.03756807092577219,\n",
       " 0.040794735541567206,\n",
       " 0.037168943730648607,\n",
       " 0.039077873807400465,\n",
       " 0.03738779277773574,\n",
       " 0.037998898304067552,\n",
       " 0.040365687978919595,\n",
       " 0.039660435286350548,\n",
       " 0.036946103209629655,\n",
       " 0.037818711542058736,\n",
       " 0.038440565927885473,\n",
       " 0.03600089467363432,\n",
       " 0.041868879809044302,\n",
       " 0.037175038538407534,\n",
       " 0.03920573357027024,\n",
       " 0.040589483920484781,\n",
       " 0.037012595043051988,\n",
       " 0.03946828591870144,\n",
       " 0.038978185504674911,\n",
       " 0.03991587262134999,\n",
       " 0.038953117618802935,\n",
       " 0.041122086928226054,\n",
       " 0.042920901672914624,\n",
       " 0.037661823094822466,\n",
       " 0.037080406618770212,\n",
       " 0.039968277793377638,\n",
       " 0.045705655589699745,\n",
       " 0.049928466673009098,\n",
       " 0.045786520815454423,\n",
       " 0.045155586267355829,\n",
       " 0.043521600076928735,\n",
       " 0.043529742513783276,\n",
       " 0.046583316754549742,\n",
       " 0.039953351602889597,\n",
       " 0.03427414532052353,\n",
       " 0.039372973958961666,\n",
       " 0.036500356043688953,\n",
       " 0.035533305199351162,\n",
       " 0.039544141094665974,\n",
       " 0.036367689492180943,\n",
       " 0.036424621066544205,\n",
       " 0.036086823383811861,\n",
       " 0.037837730313185602,\n",
       " 0.039552409609314054,\n",
       " 0.036759582988452166,\n",
       " 0.036780356138478965,\n",
       " 0.042240434209816158,\n",
       " 0.042163355392403901,\n",
       " 0.04041772207710892,\n",
       " 0.040644912049174309,\n",
       " 0.044438523415010422,\n",
       " 0.038778641668614,\n",
       " 0.035752341442275792,\n",
       " 0.03675966034643352,\n",
       " 0.035359876463189721,\n",
       " 0.043010942870751023,\n",
       " 0.041521416278555989,\n",
       " 0.045502521330490708,\n",
       " 0.038978419499471784,\n",
       " 0.039401842572260648,\n",
       " 0.038766718935221434,\n",
       " 0.035607512108981609,\n",
       " 0.034517763531766832,\n",
       " 0.038256581348832697,\n",
       " 0.034988091210834682,\n",
       " 0.034672800975386053,\n",
       " 0.036309821356553584,\n",
       " 0.035609523300081491,\n",
       " 0.034797696629539132,\n",
       " 0.034740897826850414,\n",
       " 0.038723822392057627,\n",
       " 0.040652762749232352,\n",
       " 0.037839883822016418,\n",
       " 0.038353246171027422,\n",
       " 0.04017687332816422,\n",
       " 0.039406167808920145,\n",
       " 0.037366984004620463,\n",
       " 0.035772214760072529,\n",
       " 0.039362120791338384,\n",
       " 0.037269078602548689,\n",
       " 0.040537520428188145,\n",
       " 0.039901600743178278,\n",
       " 0.036706047656480223,\n",
       " 0.036892783246003091,\n",
       " 0.038925413158722222,\n",
       " 0.036031038966029882,\n",
       " 0.0480876270448789,\n",
       " 0.037470119365025312,\n",
       " 0.035049394879024476,\n",
       " 0.034466822980903089,\n",
       " 0.035162353189662099,\n",
       " 0.036416188289877027,\n",
       " 0.036778215318918228,\n",
       " 0.037093761959113181,\n",
       " 0.03471701469970867,\n",
       " 0.037853406625799835,\n",
       " 0.035216459422372282,\n",
       " 0.03641967533621937,\n",
       " 0.036493940569926053,\n",
       " 0.036279645399190485,\n",
       " 0.034245472284965217,\n",
       " 0.036752401269041002,\n",
       " 0.037389543489553034,\n",
       " 0.037425493123009801,\n",
       " 0.036369539913721383,\n",
       " 0.034881836851127446,\n",
       " 0.038934370968490839,\n",
       " 0.039606685284525156,\n",
       " 0.035828908847179264,\n",
       " 0.034954598639160395,\n",
       " 0.039349483209662139,\n",
       " 0.037268890242557973,\n",
       " 0.036521165282465518,\n",
       " 0.040009877586271614,\n",
       " 0.041745948721654713,\n",
       " 0.037745660869404674,\n",
       " 0.03990940295625478,\n",
       " 0.037538528791628778,\n",
       " 0.05249941220972687,\n",
       " 0.043836701079271734,\n",
       " 0.038992513902485371,\n",
       " 0.042099550948478281,\n",
       " 0.041034756344743073,\n",
       " 0.041991259902715683,\n",
       " 0.038683347404003143,\n",
       " 0.034281198866665363,\n",
       " 0.036283424939028919,\n",
       " 0.035789346729870886,\n",
       " 0.038836262305267155,\n",
       " 0.037961634923703969,\n",
       " 0.035212674993090332,\n",
       " 0.0390152822365053,\n",
       " 0.035928460536524653,\n",
       " 0.032988611725158989,\n",
       " 0.035288017068523914,\n",
       " 0.037261509569361806,\n",
       " 0.038208665791898966,\n",
       " 0.037008615327067673,\n",
       " 0.035013254615478218,\n",
       " 0.034692301880568266,\n",
       " 0.037927425117231905,\n",
       " 0.040467681712470949,\n",
       " 0.061977294506505132,\n",
       " 0.046211775741539896,\n",
       " 0.039074427797459066,\n",
       " 0.038440988981164992,\n",
       " 0.036119048541877419,\n",
       " 0.035480782738886774,\n",
       " 0.038149172440171242,\n",
       " 0.035098976572044194,\n",
       " 0.036425323865842074,\n",
       " 0.034840337466448545,\n",
       " 0.034260969492606819,\n",
       " 0.034929349087178707,\n",
       " 0.036807787779252976,\n",
       " 0.036406813189387321,\n",
       " 0.034274447709321976,\n",
       " 0.035063161398284137,\n",
       " 0.034556721861008555,\n",
       " 0.034189319354481995,\n",
       " 0.034827643306925893,\n",
       " 0.040877058461774141,\n",
       " 0.042355195502750576,\n",
       " 0.038297673454508185,\n",
       " 0.038409221451729536,\n",
       " 0.038057593628764153,\n",
       " 0.03341674292460084,\n",
       " 0.035875489993486553,\n",
       " 0.034183704061433673,\n",
       " 0.034698467992711812,\n",
       " 0.03431743272813037,\n",
       " 0.034518855216447264,\n",
       " 0.034076875075697899,\n",
       " 0.033006681827828288]"
      ]
     },
     "execution_count": 85,
     "metadata": {},
     "output_type": "execute_result"
    }
   ],
   "source": [
    "history.history['loss']"
   ]
  },
  {
   "cell_type": "code",
   "execution_count": 86,
   "metadata": {
    "collapsed": true
   },
   "outputs": [],
   "source": [
    "y_pred = model.predict(X)"
   ]
  },
  {
   "cell_type": "code",
   "execution_count": 87,
   "metadata": {},
   "outputs": [
    {
     "data": {
      "image/png": "[encoded data removed]",
      "text/plain": [
       "<matplotlib.figure.Figure at 0x130a2f470>"
      ]
     },
     "metadata": {},
     "output_type": "display_data"
    }
   ],
   "source": [
    "plt.plot(y_pred.flatten()[:])\n",
    "plt.plot(y.flatten()[:])\n",
    "plt.show()"
   ]
  },
  {
   "cell_type": "code",
   "execution_count": 88,
   "metadata": {},
   "outputs": [
    {
     "data": {
      "image/png": "[encoded data removed]",
      "text/plain": [
       "<matplotlib.figure.Figure at 0x12dd156d8>"
      ]
     },
     "metadata": {},
     "output_type": "display_data"
    }
   ],
   "source": [
    "plt.plot(y_pred.flatten()[-20*24:-19*24])\n",
    "plt.plot(y.flatten()[-20*24:-19*24])\n",
    "plt.show()"
   ]
  },
  {
   "cell_type": "code",
   "execution_count": 118,
   "metadata": {},
   "outputs": [
    {
     "name": "stdout",
     "output_type": "stream",
     "text": [
      "6/6 [==============================] - 0s\n",
      "26435.2552593\n",
      "0.0469852279653\n"
     ]
    }
   ],
   "source": [
    "rmse_test = model.evaluate(X_test, y_test)\n",
    "print(rmse_test * std['W'])\n",
    "print(rmse_test * std['W']/562629.0730947304)"
   ]
  },
  {
   "cell_type": "code",
   "execution_count": 90,
   "metadata": {
    "collapsed": true
   },
   "outputs": [],
   "source": [
    "model.compile(loss='mean_squared_error', optimizer=adagrad(lr=0.1))"
   ]
  },
  {
   "cell_type": "code",
   "execution_count": 91,
   "metadata": {
    "collapsed": true
   },
   "outputs": [],
   "source": [
    "model.save_weights('model_weights_new_input.h5')"
   ]
  },
  {
   "cell_type": "code",
   "execution_count": 92,
   "metadata": {
    "collapsed": true
   },
   "outputs": [],
   "source": [
    "testData = df_test.values"
   ]
  },
  {
   "cell_type": "code",
   "execution_count": 93,
   "metadata": {},
   "outputs": [
    {
     "data": {
      "text/plain": [
       "(264, 3)"
      ]
     },
     "execution_count": 93,
     "metadata": {},
     "output_type": "execute_result"
    }
   ],
   "source": [
    "testData.shape"
   ]
  },
  {
   "cell_type": "code",
   "execution_count": 94,
   "metadata": {},
   "outputs": [
    {
     "data": {
      "text/plain": [
       "array([[ 3.4,  1.4,  0. ],\n",
       "       [ 3.4,  1.4,  0. ],\n",
       "       [ 3.4,  1.4,  0. ],\n",
       "       [ 3.4,  1.4,  0. ],\n",
       "       [ 3.4,  1.4,  0. ],\n",
       "       [ 3.4,  1.4,  0. ],\n",
       "       [ 3.4,  1.4,  0. ],\n",
       "       [ 3.4,  1.4,  0. ],\n",
       "       [ 3.4,  1.4,  0. ],\n",
       "       [ 3.4,  1.4,  0. ],\n",
       "       [ 3.4,  1.4,  0. ],\n",
       "       [ 3.4,  1.4,  0. ],\n",
       "       [ 3.4,  1.4,  0. ],\n",
       "       [ 3.4,  1.4,  0. ],\n",
       "       [ 3.4,  1.4,  0. ],\n",
       "       [ 3.4,  1.4,  0. ],\n",
       "       [ 3.4,  1.4,  0. ],\n",
       "       [ 3.4,  1.4,  0. ],\n",
       "       [ 3.4,  1.4,  0. ],\n",
       "       [ 3.4,  1.4,  0. ],\n",
       "       [ 3.4,  1.4,  0. ],\n",
       "       [ 3.4,  1.4,  0. ],\n",
       "       [ 3.4,  1.4,  0. ],\n",
       "       [ 3.4,  1.4,  0. ],\n",
       "       [ 3.8,  1.6,  0. ],\n",
       "       [ 3.8,  1.6,  0. ],\n",
       "       [ 3.8,  1.6,  0. ],\n",
       "       [ 3.8,  1.6,  0. ],\n",
       "       [ 3.8,  1.6,  0. ],\n",
       "       [ 3.8,  1.6,  0. ],\n",
       "       [ 3.8,  1.6,  0. ],\n",
       "       [ 3.8,  1.6,  0. ],\n",
       "       [ 3.8,  1.6,  0. ],\n",
       "       [ 3.8,  1.6,  0. ],\n",
       "       [ 3.8,  1.6,  0. ],\n",
       "       [ 3.8,  1.6,  0. ],\n",
       "       [ 3.8,  1.6,  0. ],\n",
       "       [ 3.8,  1.6,  0. ],\n",
       "       [ 3.8,  1.6,  0. ],\n",
       "       [ 3.8,  1.6,  0. ],\n",
       "       [ 3.8,  1.6,  0. ],\n",
       "       [ 3.8,  1.6,  0. ],\n",
       "       [ 3.8,  1.6,  0. ],\n",
       "       [ 3.8,  1.6,  0. ],\n",
       "       [ 3.8,  1.6,  0. ],\n",
       "       [ 3.8,  1.6,  0. ],\n",
       "       [ 3.8,  1.6,  0. ],\n",
       "       [ 3.8,  1.6,  0. ],\n",
       "       [ 3.8,  1.4,  0. ],\n",
       "       [ 3.8,  1.4,  0. ],\n",
       "       [ 3.8,  1.4,  0. ],\n",
       "       [ 3.8,  1.4,  0. ],\n",
       "       [ 3.8,  1.4,  0. ],\n",
       "       [ 3.8,  1.4,  0. ],\n",
       "       [ 3.8,  1.4,  0. ],\n",
       "       [ 3.8,  1.4,  0. ],\n",
       "       [ 3.8,  1.4,  0. ],\n",
       "       [ 3.8,  1.4,  0. ],\n",
       "       [ 3.8,  1.4,  0. ],\n",
       "       [ 3.8,  1.4,  0. ],\n",
       "       [ 3.8,  1.4,  0. ],\n",
       "       [ 3.8,  1.4,  0. ],\n",
       "       [ 3.8,  1.4,  0. ],\n",
       "       [ 3.8,  1.4,  0. ],\n",
       "       [ 3.8,  1.4,  0. ],\n",
       "       [ 3.8,  1.4,  0. ],\n",
       "       [ 3.8,  1.4,  0. ],\n",
       "       [ 3.8,  1.4,  0. ],\n",
       "       [ 3.8,  1.4,  0. ],\n",
       "       [ 3.8,  1.4,  0. ],\n",
       "       [ 3.8,  1.4,  0. ],\n",
       "       [ 3.8,  1.4,  0. ],\n",
       "       [ 3.6,  1.6,  1. ],\n",
       "       [ 3.6,  1.6,  1. ],\n",
       "       [ 3.6,  1.6,  1. ],\n",
       "       [ 3.6,  1.6,  1. ],\n",
       "       [ 3.6,  1.6,  1. ],\n",
       "       [ 3.6,  1.6,  1. ],\n",
       "       [ 3.6,  1.6,  1. ],\n",
       "       [ 3.6,  1.6,  1. ],\n",
       "       [ 3.6,  1.6,  1. ],\n",
       "       [ 3.6,  1.6,  1. ],\n",
       "       [ 3.6,  1.6,  1. ],\n",
       "       [ 3.6,  1.6,  1. ],\n",
       "       [ 3.6,  1.6,  1. ],\n",
       "       [ 3.6,  1.6,  1. ],\n",
       "       [ 3.6,  1.6,  1. ],\n",
       "       [ 3.6,  1.6,  1. ],\n",
       "       [ 3.6,  1.6,  1. ],\n",
       "       [ 3.6,  1.6,  1. ],\n",
       "       [ 3.6,  1.6,  1. ],\n",
       "       [ 3.6,  1.6,  1. ],\n",
       "       [ 3.6,  1.6,  1. ],\n",
       "       [ 3.6,  1.6,  1. ],\n",
       "       [ 3.6,  1.6,  1. ],\n",
       "       [ 3.6,  1.6,  1. ],\n",
       "       [ 4.4,  1.6,  1. ],\n",
       "       [ 4.4,  1.6,  1. ],\n",
       "       [ 4.4,  1.6,  1. ],\n",
       "       [ 4.4,  1.6,  1. ],\n",
       "       [ 4.4,  1.6,  1. ],\n",
       "       [ 4.4,  1.6,  1. ],\n",
       "       [ 4.4,  1.6,  1. ],\n",
       "       [ 4.4,  1.6,  1. ],\n",
       "       [ 4.4,  1.6,  1. ],\n",
       "       [ 4.4,  1.6,  1. ],\n",
       "       [ 4.4,  1.6,  1. ],\n",
       "       [ 4.4,  1.6,  1. ],\n",
       "       [ 4.4,  1.6,  1. ],\n",
       "       [ 4.4,  1.6,  1. ],\n",
       "       [ 4.4,  1.6,  1. ],\n",
       "       [ 4.4,  1.6,  1. ],\n",
       "       [ 4.4,  1.6,  1. ],\n",
       "       [ 4.4,  1.6,  1. ],\n",
       "       [ 4.4,  1.6,  1. ],\n",
       "       [ 4.4,  1.6,  1. ],\n",
       "       [ 4.4,  1.6,  1. ],\n",
       "       [ 4.4,  1.6,  1. ],\n",
       "       [ 4.4,  1.6,  1. ],\n",
       "       [ 4.4,  1.6,  1. ],\n",
       "       [ 4.4,  1.4,  0. ],\n",
       "       [ 4.4,  1.4,  0. ],\n",
       "       [ 4.4,  1.4,  0. ],\n",
       "       [ 4.4,  1.4,  0. ],\n",
       "       [ 4.4,  1.4,  0. ],\n",
       "       [ 4.4,  1.4,  0. ],\n",
       "       [ 4.4,  1.4,  0. ],\n",
       "       [ 4.4,  1.4,  0. ],\n",
       "       [ 4.4,  1.4,  0. ],\n",
       "       [ 4.4,  1.4,  0. ],\n",
       "       [ 4.4,  1.4,  0. ],\n",
       "       [ 4.4,  1.4,  0. ],\n",
       "       [ 4.4,  1.4,  0. ],\n",
       "       [ 4.4,  1.4,  0. ],\n",
       "       [ 4.4,  1.4,  0. ],\n",
       "       [ 4.4,  1.4,  0. ],\n",
       "       [ 4.4,  1.4,  0. ],\n",
       "       [ 4.4,  1.4,  0. ],\n",
       "       [ 4.4,  1.4,  0. ],\n",
       "       [ 4.4,  1.4,  0. ],\n",
       "       [ 4.4,  1.4,  0. ],\n",
       "       [ 4.4,  1.4,  0. ],\n",
       "       [ 4.4,  1.4,  0. ],\n",
       "       [ 4.4,  1.4,  0. ],\n",
       "       [ 5. ,  1.4,  0. ],\n",
       "       [ 5. ,  1.4,  0. ],\n",
       "       [ 5. ,  1.4,  0. ],\n",
       "       [ 5. ,  1.4,  0. ],\n",
       "       [ 5. ,  1.4,  0. ],\n",
       "       [ 5. ,  1.4,  0. ],\n",
       "       [ 5. ,  1.4,  0. ],\n",
       "       [ 5. ,  1.4,  0. ],\n",
       "       [ 5. ,  1.4,  0. ],\n",
       "       [ 5. ,  1.4,  0. ],\n",
       "       [ 5. ,  1.4,  0. ],\n",
       "       [ 5. ,  1.4,  0. ],\n",
       "       [ 5. ,  1.4,  0. ],\n",
       "       [ 5. ,  1.4,  0. ],\n",
       "       [ 5. ,  1.4,  0. ],\n",
       "       [ 5. ,  1.4,  0. ],\n",
       "       [ 5. ,  1.4,  0. ],\n",
       "       [ 5. ,  1.4,  0. ],\n",
       "       [ 5. ,  1.4,  0. ],\n",
       "       [ 5. ,  1.4,  0. ],\n",
       "       [ 5. ,  1.4,  0. ],\n",
       "       [ 5. ,  1.4,  0. ],\n",
       "       [ 5. ,  1.4,  0. ],\n",
       "       [ 5. ,  1.4,  0. ],\n",
       "       [ 5. ,  2. ,  0. ],\n",
       "       [ 5. ,  2. ,  0. ],\n",
       "       [ 5. ,  2. ,  0. ],\n",
       "       [ 5. ,  2. ,  0. ],\n",
       "       [ 5. ,  2. ,  0. ],\n",
       "       [ 5. ,  2. ,  0. ],\n",
       "       [ 5. ,  2. ,  0. ],\n",
       "       [ 5. ,  2. ,  0. ],\n",
       "       [ 5. ,  2. ,  0. ],\n",
       "       [ 5. ,  2. ,  0. ],\n",
       "       [ 5. ,  2. ,  0. ],\n",
       "       [ 5. ,  2. ,  0. ],\n",
       "       [ 5. ,  2. ,  0. ],\n",
       "       [ 5. ,  2. ,  0. ],\n",
       "       [ 5. ,  2. ,  0. ],\n",
       "       [ 5. ,  2. ,  0. ],\n",
       "       [ 5. ,  2. ,  0. ],\n",
       "       [ 5. ,  2. ,  0. ],\n",
       "       [ 5. ,  2. ,  0. ],\n",
       "       [ 5. ,  2. ,  0. ],\n",
       "       [ 5. ,  2. ,  0. ],\n",
       "       [ 5. ,  2. ,  0. ],\n",
       "       [ 5. ,  2. ,  0. ],\n",
       "       [ 5. ,  2. ,  0. ],\n",
       "       [ 4.6,  2. ,  0. ],\n",
       "       [ 4.6,  2. ,  0. ],\n",
       "       [ 4.6,  2. ,  0. ],\n",
       "       [ 4.6,  2. ,  0. ],\n",
       "       [ 4.6,  2. ,  0. ],\n",
       "       [ 4.6,  2. ,  0. ],\n",
       "       [ 4.6,  2. ,  0. ],\n",
       "       [ 4.6,  2. ,  0. ],\n",
       "       [ 4.6,  2. ,  0. ],\n",
       "       [ 4.6,  2. ,  0. ],\n",
       "       [ 4.6,  2. ,  0. ],\n",
       "       [ 4.6,  2. ,  0. ],\n",
       "       [ 4.6,  2. ,  0. ],\n",
       "       [ 4.6,  2. ,  0. ],\n",
       "       [ 4.6,  2. ,  0. ],\n",
       "       [ 4.6,  2. ,  0. ],\n",
       "       [ 4.6,  2. ,  0. ],\n",
       "       [ 4.6,  2. ,  0. ],\n",
       "       [ 4.6,  2. ,  0. ],\n",
       "       [ 4.6,  2. ,  0. ],\n",
       "       [ 4.6,  2. ,  0. ],\n",
       "       [ 4.6,  2. ,  0. ],\n",
       "       [ 4.6,  2. ,  0. ],\n",
       "       [ 4.6,  2. ,  0. ],\n",
       "       [ 3.6,  2.2,  0. ],\n",
       "       [ 3.6,  2.2,  0. ],\n",
       "       [ 3.6,  2.2,  0. ],\n",
       "       [ 3.6,  2.2,  0. ],\n",
       "       [ 3.6,  2.2,  0. ],\n",
       "       [ 3.6,  2.2,  0. ],\n",
       "       [ 3.6,  2.2,  0. ],\n",
       "       [ 3.6,  2.2,  0. ],\n",
       "       [ 3.6,  2.2,  0. ],\n",
       "       [ 3.6,  2.2,  0. ],\n",
       "       [ 3.6,  2.2,  0. ],\n",
       "       [ 3.6,  2.2,  0. ],\n",
       "       [ 3.6,  2.2,  0. ],\n",
       "       [ 3.6,  2.2,  0. ],\n",
       "       [ 3.6,  2.2,  0. ],\n",
       "       [ 3.6,  2.2,  0. ],\n",
       "       [ 3.6,  2.2,  0. ],\n",
       "       [ 3.6,  2.2,  0. ],\n",
       "       [ 3.6,  2.2,  0. ],\n",
       "       [ 3.6,  2.2,  0. ],\n",
       "       [ 3.6,  2.2,  0. ],\n",
       "       [ 3.6,  2.2,  0. ],\n",
       "       [ 3.6,  2.2,  0. ],\n",
       "       [ 3.6,  2.2,  0. ],\n",
       "       [ 4.6,  1.6,  1. ],\n",
       "       [ 4.6,  1.6,  1. ],\n",
       "       [ 4.6,  1.6,  1. ],\n",
       "       [ 4.6,  1.6,  1. ],\n",
       "       [ 4.6,  1.6,  1. ],\n",
       "       [ 4.6,  1.6,  1. ],\n",
       "       [ 4.6,  1.6,  1. ],\n",
       "       [ 4.6,  1.6,  1. ],\n",
       "       [ 4.6,  1.6,  1. ],\n",
       "       [ 4.6,  1.6,  1. ],\n",
       "       [ 4.6,  1.6,  1. ],\n",
       "       [ 4.6,  1.6,  1. ],\n",
       "       [ 4.6,  1.6,  1. ],\n",
       "       [ 4.6,  1.6,  1. ],\n",
       "       [ 4.6,  1.6,  1. ],\n",
       "       [ 4.6,  1.6,  1. ],\n",
       "       [ 4.6,  1.6,  1. ],\n",
       "       [ 4.6,  1.6,  1. ],\n",
       "       [ 4.6,  1.6,  1. ],\n",
       "       [ 4.6,  1.6,  1. ],\n",
       "       [ 4.6,  1.6,  1. ],\n",
       "       [ 4.6,  1.6,  1. ],\n",
       "       [ 4.6,  1.6,  1. ],\n",
       "       [ 4.6,  1.6,  1. ]])"
      ]
     },
     "execution_count": 94,
     "metadata": {},
     "output_type": "execute_result"
    }
   ],
   "source": [
    "testData"
   ]
  },
  {
   "cell_type": "code",
   "execution_count": 95,
   "metadata": {
    "collapsed": true
   },
   "outputs": [],
   "source": [
    "X_prev = X[-1:]\n",
    "y_prev = model.predict(X_prev)"
   ]
  },
  {
   "cell_type": "code",
   "execution_count": 96,
   "metadata": {},
   "outputs": [
    {
     "data": {
      "text/plain": [
       "(1, 24)"
      ]
     },
     "execution_count": 96,
     "metadata": {},
     "output_type": "execute_result"
    }
   ],
   "source": [
    "y_prev.shape"
   ]
  },
  {
   "cell_type": "code",
   "execution_count": 97,
   "metadata": {},
   "outputs": [
    {
     "data": {
      "text/plain": [
       "(24, 1)"
      ]
     },
     "execution_count": 97,
     "metadata": {},
     "output_type": "execute_result"
    }
   ],
   "source": [
    "i = 0\n",
    "# testData[i*24: (i+1)*24].shape\n",
    "y_prev = model.predict(X_prev)\n",
    "y_prev.T.shape"
   ]
  },
  {
   "cell_type": "code",
   "execution_count": 98,
   "metadata": {},
   "outputs": [
    {
     "data": {
      "text/plain": [
       "(24, 3)"
      ]
     },
     "execution_count": 98,
     "metadata": {},
     "output_type": "execute_result"
    }
   ],
   "source": [
    "testData[i*24: (i+1)*24].shape"
   ]
  },
  {
   "cell_type": "code",
   "execution_count": 106,
   "metadata": {
    "collapsed": true
   },
   "outputs": [],
   "source": [
    "X_add = np.concatenate((y_prev.T, testData[i*24: (i+1)*24]), axis=1).reshape((1, 1, 24 * 4))"
   ]
  },
  {
   "cell_type": "code",
   "execution_count": 107,
   "metadata": {},
   "outputs": [
    {
     "data": {
      "text/plain": [
       "(1, 1, 96)"
      ]
     },
     "execution_count": 107,
     "metadata": {},
     "output_type": "execute_result"
    }
   ],
   "source": [
    "X_add.shape"
   ]
  },
  {
   "cell_type": "code",
   "execution_count": 108,
   "metadata": {},
   "outputs": [
    {
     "data": {
      "text/plain": [
       "(1, 6, 96)"
      ]
     },
     "execution_count": 108,
     "metadata": {},
     "output_type": "execute_result"
    }
   ],
   "source": [
    "X_prev[:, 1:].shape"
   ]
  },
  {
   "cell_type": "code",
   "execution_count": 109,
   "metadata": {},
   "outputs": [
    {
     "data": {
      "text/plain": [
       "(1, 7, 96)"
      ]
     },
     "execution_count": 109,
     "metadata": {},
     "output_type": "execute_result"
    }
   ],
   "source": [
    "np.concatenate((X_prev[:, 1:], X_add), axis=1).shape"
   ]
  },
  {
   "cell_type": "code",
   "execution_count": 110,
   "metadata": {},
   "outputs": [],
   "source": [
    "to_predict = 7\n",
    "X_prev = X[-1:]\n",
    "preds = []\n",
    "for i in range(to_predict):\n",
    "    y_prev = model.predict(X_prev)\n",
    "    preds.append(y_prev)\n",
    "    X_add = np.concatenate((y_prev.T, testData[i*24: (i+1)*24]), axis=1).reshape((1, 1, 24 * 4))\n",
    "    X_prev = np.concatenate((X_prev[:, 1:], X_add), axis=1)"
   ]
  },
  {
   "cell_type": "code",
   "execution_count": 111,
   "metadata": {
    "collapsed": true
   },
   "outputs": [],
   "source": [
    "preds = np.asarray(preds).flatten()"
   ]
  },
  {
   "cell_type": "code",
   "execution_count": 112,
   "metadata": {},
   "outputs": [
    {
     "data": {
      "image/png": "[encoded data removed]",
      "text/plain": [
       "<matplotlib.figure.Figure at 0x12eb6a5c0>"
      ]
     },
     "metadata": {},
     "output_type": "display_data"
    }
   ],
   "source": [
    "plt.plot(preds)\n",
    "plt.show()"
   ]
  },
  {
   "cell_type": "code",
   "execution_count": 113,
   "metadata": {
    "collapsed": true
   },
   "outputs": [],
   "source": [
    "model.save_weights('best_model_4th_feb_3:30pm')"
   ]
  },
  {
   "cell_type": "code",
   "execution_count": 117,
   "metadata": {},
   "outputs": [
    {
     "data": {
      "image/png": "[encoded data removed]",
      "text/plain": [
       "<matplotlib.figure.Figure at 0x12eb45470>"
      ]
     },
     "metadata": {},
     "output_type": "display_data"
    }
   ],
   "source": [
    "\n",
    "plt.plot(preds)\n",
    "plt.show()"
   ]
  },
  {
   "cell_type": "code",
   "execution_count": null,
   "metadata": {
    "collapsed": true
   },
   "outputs": [],
   "source": []
  }
 ],
 "metadata": {
  "kernelspec": {
   "display_name": "Python 3",
   "language": "python",
   "name": "python3"
  },
  "language_info": {
   "codemirror_mode": {
    "name": "ipython",
    "version": 3
   },
   "file_extension": ".py",
   "mimetype": "text/x-python",
   "name": "python",
   "nbconvert_exporter": "python",
   "pygments_lexer": "ipython3",
   "version": "3.6.1"
  }
 },
 "nbformat": 4,
 "nbformat_minor": 2
}
