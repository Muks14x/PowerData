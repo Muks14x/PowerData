{
 "cells": [
  {
   "cell_type": "code",
   "execution_count": 1,
   "metadata": {
    "collapsed": true
   },
   "outputs": [],
   "source": [
    "import pandas as pd\n",
    "import numpy as np\n",
    "import numpy\n",
    "import matplotlib.pyplot as plt\n",
    "import os\n",
    "import glob"
   ]
  },
  {
   "cell_type": "markdown",
   "metadata": {},
   "source": [
    "## Loading preprocessed data"
   ]
  },
  {
   "cell_type": "code",
   "execution_count": 3,
   "metadata": {
    "collapsed": true
   },
   "outputs": [],
   "source": [
    "df_train = pd.read_pickle('df_train')\n",
    "df_test = pd.read_pickle('df_test')\n",
    "del(df_train['DateTime'])"
   ]
  },
  {
   "cell_type": "code",
   "execution_count": 4,
   "metadata": {
    "collapsed": true
   },
   "outputs": [],
   "source": [
    "std = {'W': 1.5e5, 'HiT': 5, 'LoT' : 5}"
   ]
  },
  {
   "cell_type": "code",
   "execution_count": 5,
   "metadata": {},
   "outputs": [
    {
     "data": {
      "text/plain": [
       "562629.0730947304"
      ]
     },
     "execution_count": 5,
     "metadata": {},
     "output_type": "execute_result"
    }
   ],
   "source": [
    "df_train['W'].mean()"
   ]
  },
  {
   "cell_type": "code",
   "execution_count": 6,
   "metadata": {
    "collapsed": true
   },
   "outputs": [],
   "source": [
    "df_train['W'] = df_train['W'] / std['W']\n",
    "for param in ['HiT', 'LoT']:\n",
    "    df_train[param] = df_train[param] / std[param]\n",
    "    df_test[param] = df_test[param] / std[param]"
   ]
  },
  {
   "cell_type": "markdown",
   "metadata": {},
   "source": [
    "#### Sample: W - Load values, HiT/LoT - High/Low temperatures, isWeekend - 1 for Sat, Sun"
   ]
  },
  {
   "cell_type": "code",
   "execution_count": 7,
   "metadata": {
    "scrolled": true
   },
   "outputs": [
    {
     "data": {
      "text/html": [
       "<div>\n",
       "<style>\n",
       "    .dataframe thead tr:only-child th {\n",
       "        text-align: right;\n",
       "    }\n",
       "\n",
       "    .dataframe thead th {\n",
       "        text-align: left;\n",
       "    }\n",
       "\n",
       "    .dataframe tbody tr th {\n",
       "        vertical-align: top;\n",
       "    }\n",
       "</style>\n",
       "<table border=\"1\" class=\"dataframe\">\n",
       "  <thead>\n",
       "    <tr style=\"text-align: right;\">\n",
       "      <th></th>\n",
       "      <th>W</th>\n",
       "      <th>HiT</th>\n",
       "      <th>LoT</th>\n",
       "      <th>isWeekend</th>\n",
       "    </tr>\n",
       "  </thead>\n",
       "  <tbody>\n",
       "    <tr>\n",
       "      <th>0</th>\n",
       "      <td>3.463985</td>\n",
       "      <td>6.0</td>\n",
       "      <td>3.6</td>\n",
       "      <td>0</td>\n",
       "    </tr>\n",
       "    <tr>\n",
       "      <th>1</th>\n",
       "      <td>3.322316</td>\n",
       "      <td>6.0</td>\n",
       "      <td>3.6</td>\n",
       "      <td>0</td>\n",
       "    </tr>\n",
       "    <tr>\n",
       "      <th>2</th>\n",
       "      <td>3.228695</td>\n",
       "      <td>6.0</td>\n",
       "      <td>3.6</td>\n",
       "      <td>0</td>\n",
       "    </tr>\n",
       "    <tr>\n",
       "      <th>3</th>\n",
       "      <td>3.109198</td>\n",
       "      <td>6.0</td>\n",
       "      <td>3.6</td>\n",
       "      <td>0</td>\n",
       "    </tr>\n",
       "    <tr>\n",
       "      <th>4</th>\n",
       "      <td>3.237810</td>\n",
       "      <td>6.0</td>\n",
       "      <td>3.6</td>\n",
       "      <td>0</td>\n",
       "    </tr>\n",
       "    <tr>\n",
       "      <th>5</th>\n",
       "      <td>3.122625</td>\n",
       "      <td>6.0</td>\n",
       "      <td>3.6</td>\n",
       "      <td>0</td>\n",
       "    </tr>\n",
       "    <tr>\n",
       "      <th>6</th>\n",
       "      <td>2.610293</td>\n",
       "      <td>6.0</td>\n",
       "      <td>3.6</td>\n",
       "      <td>0</td>\n",
       "    </tr>\n",
       "    <tr>\n",
       "      <th>7</th>\n",
       "      <td>2.879477</td>\n",
       "      <td>6.0</td>\n",
       "      <td>3.6</td>\n",
       "      <td>0</td>\n",
       "    </tr>\n",
       "    <tr>\n",
       "      <th>8</th>\n",
       "      <td>3.389768</td>\n",
       "      <td>6.0</td>\n",
       "      <td>3.6</td>\n",
       "      <td>0</td>\n",
       "    </tr>\n",
       "    <tr>\n",
       "      <th>9</th>\n",
       "      <td>4.812751</td>\n",
       "      <td>6.0</td>\n",
       "      <td>3.6</td>\n",
       "      <td>0</td>\n",
       "    </tr>\n",
       "    <tr>\n",
       "      <th>10</th>\n",
       "      <td>5.289655</td>\n",
       "      <td>6.0</td>\n",
       "      <td>3.6</td>\n",
       "      <td>0</td>\n",
       "    </tr>\n",
       "    <tr>\n",
       "      <th>11</th>\n",
       "      <td>5.141343</td>\n",
       "      <td>6.0</td>\n",
       "      <td>3.6</td>\n",
       "      <td>0</td>\n",
       "    </tr>\n",
       "    <tr>\n",
       "      <th>12</th>\n",
       "      <td>5.526908</td>\n",
       "      <td>6.0</td>\n",
       "      <td>3.6</td>\n",
       "      <td>0</td>\n",
       "    </tr>\n",
       "    <tr>\n",
       "      <th>13</th>\n",
       "      <td>5.151816</td>\n",
       "      <td>6.0</td>\n",
       "      <td>3.6</td>\n",
       "      <td>0</td>\n",
       "    </tr>\n",
       "    <tr>\n",
       "      <th>14</th>\n",
       "      <td>4.930735</td>\n",
       "      <td>6.0</td>\n",
       "      <td>3.6</td>\n",
       "      <td>0</td>\n",
       "    </tr>\n",
       "    <tr>\n",
       "      <th>15</th>\n",
       "      <td>5.219530</td>\n",
       "      <td>6.0</td>\n",
       "      <td>3.6</td>\n",
       "      <td>0</td>\n",
       "    </tr>\n",
       "    <tr>\n",
       "      <th>16</th>\n",
       "      <td>4.863530</td>\n",
       "      <td>6.0</td>\n",
       "      <td>3.6</td>\n",
       "      <td>0</td>\n",
       "    </tr>\n",
       "    <tr>\n",
       "      <th>17</th>\n",
       "      <td>4.714960</td>\n",
       "      <td>6.0</td>\n",
       "      <td>3.6</td>\n",
       "      <td>0</td>\n",
       "    </tr>\n",
       "    <tr>\n",
       "      <th>18</th>\n",
       "      <td>4.559728</td>\n",
       "      <td>6.0</td>\n",
       "      <td>3.6</td>\n",
       "      <td>0</td>\n",
       "    </tr>\n",
       "    <tr>\n",
       "      <th>19</th>\n",
       "      <td>4.334817</td>\n",
       "      <td>6.0</td>\n",
       "      <td>3.6</td>\n",
       "      <td>0</td>\n",
       "    </tr>\n",
       "    <tr>\n",
       "      <th>20</th>\n",
       "      <td>4.184715</td>\n",
       "      <td>6.0</td>\n",
       "      <td>3.6</td>\n",
       "      <td>0</td>\n",
       "    </tr>\n",
       "    <tr>\n",
       "      <th>21</th>\n",
       "      <td>4.044635</td>\n",
       "      <td>6.0</td>\n",
       "      <td>3.6</td>\n",
       "      <td>0</td>\n",
       "    </tr>\n",
       "    <tr>\n",
       "      <th>22</th>\n",
       "      <td>3.935146</td>\n",
       "      <td>6.0</td>\n",
       "      <td>3.6</td>\n",
       "      <td>0</td>\n",
       "    </tr>\n",
       "    <tr>\n",
       "      <th>23</th>\n",
       "      <td>3.622731</td>\n",
       "      <td>6.0</td>\n",
       "      <td>3.6</td>\n",
       "      <td>0</td>\n",
       "    </tr>\n",
       "    <tr>\n",
       "      <th>24</th>\n",
       "      <td>3.440633</td>\n",
       "      <td>6.4</td>\n",
       "      <td>3.6</td>\n",
       "      <td>0</td>\n",
       "    </tr>\n",
       "    <tr>\n",
       "      <th>25</th>\n",
       "      <td>3.274538</td>\n",
       "      <td>6.4</td>\n",
       "      <td>3.6</td>\n",
       "      <td>0</td>\n",
       "    </tr>\n",
       "    <tr>\n",
       "      <th>26</th>\n",
       "      <td>3.185594</td>\n",
       "      <td>6.4</td>\n",
       "      <td>3.6</td>\n",
       "      <td>0</td>\n",
       "    </tr>\n",
       "    <tr>\n",
       "      <th>27</th>\n",
       "      <td>3.118055</td>\n",
       "      <td>6.4</td>\n",
       "      <td>3.6</td>\n",
       "      <td>0</td>\n",
       "    </tr>\n",
       "    <tr>\n",
       "      <th>28</th>\n",
       "      <td>3.154375</td>\n",
       "      <td>6.4</td>\n",
       "      <td>3.6</td>\n",
       "      <td>0</td>\n",
       "    </tr>\n",
       "    <tr>\n",
       "      <th>29</th>\n",
       "      <td>3.052466</td>\n",
       "      <td>6.4</td>\n",
       "      <td>3.6</td>\n",
       "      <td>0</td>\n",
       "    </tr>\n",
       "    <tr>\n",
       "      <th>...</th>\n",
       "      <td>...</td>\n",
       "      <td>...</td>\n",
       "      <td>...</td>\n",
       "      <td>...</td>\n",
       "    </tr>\n",
       "    <tr>\n",
       "      <th>1818</th>\n",
       "      <td>6.943750</td>\n",
       "      <td>3.8</td>\n",
       "      <td>1.8</td>\n",
       "      <td>0</td>\n",
       "    </tr>\n",
       "    <tr>\n",
       "      <th>1819</th>\n",
       "      <td>6.545413</td>\n",
       "      <td>3.8</td>\n",
       "      <td>1.8</td>\n",
       "      <td>0</td>\n",
       "    </tr>\n",
       "    <tr>\n",
       "      <th>1820</th>\n",
       "      <td>6.307789</td>\n",
       "      <td>3.8</td>\n",
       "      <td>1.8</td>\n",
       "      <td>0</td>\n",
       "    </tr>\n",
       "    <tr>\n",
       "      <th>1821</th>\n",
       "      <td>6.215786</td>\n",
       "      <td>3.8</td>\n",
       "      <td>1.8</td>\n",
       "      <td>0</td>\n",
       "    </tr>\n",
       "    <tr>\n",
       "      <th>1822</th>\n",
       "      <td>6.272914</td>\n",
       "      <td>3.8</td>\n",
       "      <td>1.8</td>\n",
       "      <td>0</td>\n",
       "    </tr>\n",
       "    <tr>\n",
       "      <th>1823</th>\n",
       "      <td>5.965230</td>\n",
       "      <td>3.8</td>\n",
       "      <td>1.8</td>\n",
       "      <td>0</td>\n",
       "    </tr>\n",
       "    <tr>\n",
       "      <th>1824</th>\n",
       "      <td>5.654907</td>\n",
       "      <td>3.4</td>\n",
       "      <td>1.6</td>\n",
       "      <td>0</td>\n",
       "    </tr>\n",
       "    <tr>\n",
       "      <th>1825</th>\n",
       "      <td>5.218493</td>\n",
       "      <td>3.4</td>\n",
       "      <td>1.6</td>\n",
       "      <td>0</td>\n",
       "    </tr>\n",
       "    <tr>\n",
       "      <th>1826</th>\n",
       "      <td>4.921540</td>\n",
       "      <td>3.4</td>\n",
       "      <td>1.6</td>\n",
       "      <td>0</td>\n",
       "    </tr>\n",
       "    <tr>\n",
       "      <th>1827</th>\n",
       "      <td>4.909021</td>\n",
       "      <td>3.4</td>\n",
       "      <td>1.6</td>\n",
       "      <td>0</td>\n",
       "    </tr>\n",
       "    <tr>\n",
       "      <th>1828</th>\n",
       "      <td>4.759489</td>\n",
       "      <td>3.4</td>\n",
       "      <td>1.6</td>\n",
       "      <td>0</td>\n",
       "    </tr>\n",
       "    <tr>\n",
       "      <th>1829</th>\n",
       "      <td>4.949052</td>\n",
       "      <td>3.4</td>\n",
       "      <td>1.6</td>\n",
       "      <td>0</td>\n",
       "    </tr>\n",
       "    <tr>\n",
       "      <th>1830</th>\n",
       "      <td>4.771395</td>\n",
       "      <td>3.4</td>\n",
       "      <td>1.6</td>\n",
       "      <td>0</td>\n",
       "    </tr>\n",
       "    <tr>\n",
       "      <th>1831</th>\n",
       "      <td>4.582617</td>\n",
       "      <td>3.4</td>\n",
       "      <td>1.6</td>\n",
       "      <td>0</td>\n",
       "    </tr>\n",
       "    <tr>\n",
       "      <th>1832</th>\n",
       "      <td>5.599603</td>\n",
       "      <td>3.4</td>\n",
       "      <td>1.6</td>\n",
       "      <td>0</td>\n",
       "    </tr>\n",
       "    <tr>\n",
       "      <th>1833</th>\n",
       "      <td>6.256426</td>\n",
       "      <td>3.4</td>\n",
       "      <td>1.6</td>\n",
       "      <td>0</td>\n",
       "    </tr>\n",
       "    <tr>\n",
       "      <th>1834</th>\n",
       "      <td>6.733124</td>\n",
       "      <td>3.4</td>\n",
       "      <td>1.6</td>\n",
       "      <td>0</td>\n",
       "    </tr>\n",
       "    <tr>\n",
       "      <th>1835</th>\n",
       "      <td>6.708533</td>\n",
       "      <td>3.4</td>\n",
       "      <td>1.6</td>\n",
       "      <td>0</td>\n",
       "    </tr>\n",
       "    <tr>\n",
       "      <th>1836</th>\n",
       "      <td>6.695493</td>\n",
       "      <td>3.4</td>\n",
       "      <td>1.6</td>\n",
       "      <td>0</td>\n",
       "    </tr>\n",
       "    <tr>\n",
       "      <th>1837</th>\n",
       "      <td>6.419834</td>\n",
       "      <td>3.4</td>\n",
       "      <td>1.6</td>\n",
       "      <td>0</td>\n",
       "    </tr>\n",
       "    <tr>\n",
       "      <th>1838</th>\n",
       "      <td>6.024301</td>\n",
       "      <td>3.4</td>\n",
       "      <td>1.6</td>\n",
       "      <td>0</td>\n",
       "    </tr>\n",
       "    <tr>\n",
       "      <th>1839</th>\n",
       "      <td>5.988680</td>\n",
       "      <td>3.4</td>\n",
       "      <td>1.6</td>\n",
       "      <td>0</td>\n",
       "    </tr>\n",
       "    <tr>\n",
       "      <th>1840</th>\n",
       "      <td>5.862726</td>\n",
       "      <td>3.4</td>\n",
       "      <td>1.6</td>\n",
       "      <td>0</td>\n",
       "    </tr>\n",
       "    <tr>\n",
       "      <th>1841</th>\n",
       "      <td>6.210493</td>\n",
       "      <td>3.4</td>\n",
       "      <td>1.6</td>\n",
       "      <td>0</td>\n",
       "    </tr>\n",
       "    <tr>\n",
       "      <th>1842</th>\n",
       "      <td>6.526997</td>\n",
       "      <td>3.4</td>\n",
       "      <td>1.6</td>\n",
       "      <td>0</td>\n",
       "    </tr>\n",
       "    <tr>\n",
       "      <th>1843</th>\n",
       "      <td>6.586719</td>\n",
       "      <td>3.4</td>\n",
       "      <td>1.6</td>\n",
       "      <td>0</td>\n",
       "    </tr>\n",
       "    <tr>\n",
       "      <th>1844</th>\n",
       "      <td>6.262180</td>\n",
       "      <td>3.4</td>\n",
       "      <td>1.6</td>\n",
       "      <td>0</td>\n",
       "    </tr>\n",
       "    <tr>\n",
       "      <th>1845</th>\n",
       "      <td>6.196034</td>\n",
       "      <td>3.4</td>\n",
       "      <td>1.6</td>\n",
       "      <td>0</td>\n",
       "    </tr>\n",
       "    <tr>\n",
       "      <th>1846</th>\n",
       "      <td>6.388007</td>\n",
       "      <td>3.4</td>\n",
       "      <td>1.6</td>\n",
       "      <td>0</td>\n",
       "    </tr>\n",
       "    <tr>\n",
       "      <th>1847</th>\n",
       "      <td>6.171583</td>\n",
       "      <td>3.4</td>\n",
       "      <td>1.6</td>\n",
       "      <td>0</td>\n",
       "    </tr>\n",
       "  </tbody>\n",
       "</table>\n",
       "<p>1848 rows × 4 columns</p>\n",
       "</div>"
      ],
      "text/plain": [
       "             W  HiT  LoT  isWeekend\n",
       "0     3.463985  6.0  3.6          0\n",
       "1     3.322316  6.0  3.6          0\n",
       "2     3.228695  6.0  3.6          0\n",
       "3     3.109198  6.0  3.6          0\n",
       "4     3.237810  6.0  3.6          0\n",
       "5     3.122625  6.0  3.6          0\n",
       "6     2.610293  6.0  3.6          0\n",
       "7     2.879477  6.0  3.6          0\n",
       "8     3.389768  6.0  3.6          0\n",
       "9     4.812751  6.0  3.6          0\n",
       "10    5.289655  6.0  3.6          0\n",
       "11    5.141343  6.0  3.6          0\n",
       "12    5.526908  6.0  3.6          0\n",
       "13    5.151816  6.0  3.6          0\n",
       "14    4.930735  6.0  3.6          0\n",
       "15    5.219530  6.0  3.6          0\n",
       "16    4.863530  6.0  3.6          0\n",
       "17    4.714960  6.0  3.6          0\n",
       "18    4.559728  6.0  3.6          0\n",
       "19    4.334817  6.0  3.6          0\n",
       "20    4.184715  6.0  3.6          0\n",
       "21    4.044635  6.0  3.6          0\n",
       "22    3.935146  6.0  3.6          0\n",
       "23    3.622731  6.0  3.6          0\n",
       "24    3.440633  6.4  3.6          0\n",
       "25    3.274538  6.4  3.6          0\n",
       "26    3.185594  6.4  3.6          0\n",
       "27    3.118055  6.4  3.6          0\n",
       "28    3.154375  6.4  3.6          0\n",
       "29    3.052466  6.4  3.6          0\n",
       "...        ...  ...  ...        ...\n",
       "1818  6.943750  3.8  1.8          0\n",
       "1819  6.545413  3.8  1.8          0\n",
       "1820  6.307789  3.8  1.8          0\n",
       "1821  6.215786  3.8  1.8          0\n",
       "1822  6.272914  3.8  1.8          0\n",
       "1823  5.965230  3.8  1.8          0\n",
       "1824  5.654907  3.4  1.6          0\n",
       "1825  5.218493  3.4  1.6          0\n",
       "1826  4.921540  3.4  1.6          0\n",
       "1827  4.909021  3.4  1.6          0\n",
       "1828  4.759489  3.4  1.6          0\n",
       "1829  4.949052  3.4  1.6          0\n",
       "1830  4.771395  3.4  1.6          0\n",
       "1831  4.582617  3.4  1.6          0\n",
       "1832  5.599603  3.4  1.6          0\n",
       "1833  6.256426  3.4  1.6          0\n",
       "1834  6.733124  3.4  1.6          0\n",
       "1835  6.708533  3.4  1.6          0\n",
       "1836  6.695493  3.4  1.6          0\n",
       "1837  6.419834  3.4  1.6          0\n",
       "1838  6.024301  3.4  1.6          0\n",
       "1839  5.988680  3.4  1.6          0\n",
       "1840  5.862726  3.4  1.6          0\n",
       "1841  6.210493  3.4  1.6          0\n",
       "1842  6.526997  3.4  1.6          0\n",
       "1843  6.586719  3.4  1.6          0\n",
       "1844  6.262180  3.4  1.6          0\n",
       "1845  6.196034  3.4  1.6          0\n",
       "1846  6.388007  3.4  1.6          0\n",
       "1847  6.171583  3.4  1.6          0\n",
       "\n",
       "[1848 rows x 4 columns]"
      ]
     },
     "execution_count": 7,
     "metadata": {},
     "output_type": "execute_result"
    }
   ],
   "source": [
    "df_train"
   ]
  },
  {
   "cell_type": "markdown",
   "metadata": {},
   "source": [
    "## Cleaning anomolous data"
   ]
  },
  {
   "cell_type": "code",
   "execution_count": 8,
   "metadata": {
    "scrolled": false
   },
   "outputs": [
    {
     "data": {
      "image/png": "[encoded data removed]",
      "text/plain": [
       "<matplotlib.figure.Figure at 0x113fbc860>"
      ]
     },
     "metadata": {},
     "output_type": "display_data"
    }
   ],
   "source": [
    "plt.plot(df_train['W'][:])\n",
    "plt.show()"
   ]
  },
  {
   "cell_type": "code",
   "execution_count": 9,
   "metadata": {},
   "outputs": [
    {
     "data": {
      "text/plain": [
       "1.5103111618364438"
      ]
     },
     "execution_count": 9,
     "metadata": {},
     "output_type": "execute_result"
    }
   ],
   "source": [
    "df_train['W'][326:393].mean()"
   ]
  },
  {
   "cell_type": "code",
   "execution_count": 10,
   "metadata": {},
   "outputs": [
    {
     "name": "stderr",
     "output_type": "stream",
     "text": [
      "/Users/Muks/anaconda3/lib/python3.6/site-packages/ipykernel/__main__.py:1: SettingWithCopyWarning: \n",
      "A value is trying to be set on a copy of a slice from a DataFrame\n",
      "\n",
      "See the caveats in the documentation: http://pandas.pydata.org/pandas-docs/stable/indexing.html#indexing-view-versus-copy\n",
      "  if __name__ == '__main__':\n"
     ]
    }
   ],
   "source": [
    "df_train['W'][326:396] += df_train['W'][0:1500].mean() - df_train['W'][326:393].mean()"
   ]
  },
  {
   "cell_type": "code",
   "execution_count": 11,
   "metadata": {},
   "outputs": [
    {
     "data": {
      "image/png": "[encoded data removed]",
      "text/plain": [
       "<matplotlib.figure.Figure at 0x1173f2f98>"
      ]
     },
     "metadata": {},
     "output_type": "display_data"
    }
   ],
   "source": [
    "plt.plot(df_train['W'][:])\n",
    "plt.show()"
   ]
  },
  {
   "cell_type": "markdown",
   "metadata": {},
   "source": [
    "## Creating training sequences (predicting from previous 7 days' features --> next day)"
   ]
  },
  {
   "cell_type": "code",
   "execution_count": 12,
   "metadata": {
    "collapsed": true
   },
   "outputs": [],
   "source": [
    "# convert an array of values into a dataset matrix\n",
    "def create_dataset(dataset, look_back=1):\n",
    "\tdataX, dataY = [], []\n",
    "\tfor i in range(len(dataset)-look_back):\n",
    "\t\ta = dataset[i:(i+look_back)]\n",
    "\t\tdataX.append(a)\n",
    "\t\tdataY.append(dataset[i + look_back, :, 0])\n",
    "\treturn numpy.array(dataX), numpy.array(dataY)"
   ]
  },
  {
   "cell_type": "code",
   "execution_count": 13,
   "metadata": {
    "collapsed": true
   },
   "outputs": [],
   "source": [
    "dataset = df_train.values.reshape((-1, 24, 4))"
   ]
  },
  {
   "cell_type": "code",
   "execution_count": 14,
   "metadata": {},
   "outputs": [
    {
     "data": {
      "text/plain": [
       "(77, 24, 4)"
      ]
     },
     "execution_count": 14,
     "metadata": {},
     "output_type": "execute_result"
    }
   ],
   "source": [
    "dataset.shape"
   ]
  },
  {
   "cell_type": "code",
   "execution_count": 21,
   "metadata": {
    "collapsed": true
   },
   "outputs": [],
   "source": [
    "X, y = create_dataset(dataset, look_back=7)\n",
    "X = X.reshape((X.shape[0], 7, -1))"
   ]
  },
  {
   "cell_type": "code",
   "execution_count": 22,
   "metadata": {},
   "outputs": [
    {
     "data": {
      "text/plain": [
       "((70, 7, 96), (70, 24))"
      ]
     },
     "execution_count": 22,
     "metadata": {},
     "output_type": "execute_result"
    }
   ],
   "source": [
    "X.shape, y.shape"
   ]
  },
  {
   "cell_type": "code",
   "execution_count": 67,
   "metadata": {
    "collapsed": true
   },
   "outputs": [],
   "source": [
    "from keras.models import Sequential\n",
    "from keras.layers import Dense\n",
    "from keras.layers import LSTM\n",
    "from keras.layers import Input\n",
    "from keras.callbacks import Callback\n",
    "from keras.optimizers import adagrad, adam\n",
    "from sklearn.preprocessing import MinMaxScaler\n",
    "from sklearn.metrics import mean_squared_error\n",
    "from IPython.display import clear_output"
   ]
  },
  {
   "cell_type": "markdown",
   "metadata": {},
   "source": [
    "## Setting up LSTM model"
   ]
  },
  {
   "cell_type": "code",
   "execution_count": 70,
   "metadata": {
    "collapsed": true
   },
   "outputs": [],
   "source": [
    "# create and fit the LSTM network\n",
    "model = Sequential()\n",
    "model.add(LSTM(100, input_shape=(7 , 24 * 4)))\n",
    "model.add(Dense(50, activation='relu'))\n",
    "model.add(Dense(24))"
   ]
  },
  {
   "cell_type": "code",
   "execution_count": 71,
   "metadata": {},
   "outputs": [
    {
     "name": "stdout",
     "output_type": "stream",
     "text": [
      "_________________________________________________________________\n",
      "Layer (type)                 Output Shape              Param #   \n",
      "=================================================================\n",
      "lstm_6 (LSTM)                (None, 100)               78800     \n",
      "_________________________________________________________________\n",
      "dense_9 (Dense)              (None, 50)                5050      \n",
      "_________________________________________________________________\n",
      "dense_10 (Dense)             (None, 24)                1224      \n",
      "=================================================================\n",
      "Total params: 85,074\n",
      "Trainable params: 85,074\n",
      "Non-trainable params: 0\n",
      "_________________________________________________________________\n"
     ]
    }
   ],
   "source": [
    "model.summary()"
   ]
  },
  {
   "cell_type": "code",
   "execution_count": 73,
   "metadata": {
    "collapsed": true
   },
   "outputs": [],
   "source": [
    "# model.compile(loss='mean_squared_error', optimizer=adagrad(lr=0.01))\n",
    "model.compile(loss='mean_squared_error', optimizer='adam')"
   ]
  },
  {
   "cell_type": "markdown",
   "metadata": {},
   "source": [
    "## Spitting Training & Validation Data"
   ]
  },
  {
   "cell_type": "code",
   "execution_count": 74,
   "metadata": {
    "collapsed": true
   },
   "outputs": [],
   "source": [
    "num_train = 64\n",
    "X_train = X[ : num_train]\n",
    "y_train = y[ : num_train]\n",
    "X_test = X[num_train : ]\n",
    "y_test = y[num_train : ]"
   ]
  },
  {
   "cell_type": "code",
   "execution_count": 75,
   "metadata": {
    "collapsed": true
   },
   "outputs": [],
   "source": [
    "## From https://gist.github.com/stared/dfb4dfaf6d9a8501cd1cc8b8cb806d2e\n",
    "\n",
    "class PlotLosses(Callback):\n",
    "    def on_train_begin(self, logs={}):\n",
    "        self.i = 0\n",
    "        self.x = []\n",
    "        self.losses = []\n",
    "        self.val_losses = []\n",
    "        \n",
    "        self.fig = plt.figure()\n",
    "        \n",
    "        self.logs = []\n",
    "\n",
    "    def on_epoch_end(self, epoch, logs={}):\n",
    "        \n",
    "        self.logs.append(logs)\n",
    "        self.x.append(self.i)\n",
    "        self.losses.append(logs.get('loss'))\n",
    "        self.val_losses.append(logs.get('val_loss'))\n",
    "        self.i += 1\n",
    "        \n",
    "        clear_output(wait=True)\n",
    "        plt.plot(self.x, self.losses, label=\"loss\")\n",
    "        plt.plot(self.x, self.val_losses, label=\"val_loss\")\n",
    "        plt.legend()\n",
    "        plt.show();\n",
    "        \n",
    "plot_losses = PlotLosses()"
   ]
  },
  {
   "cell_type": "markdown",
   "metadata": {},
   "source": [
    "## Training the model, plotting loss curve across epochs"
   ]
  },
  {
   "cell_type": "code",
   "execution_count": 76,
   "metadata": {},
   "outputs": [
    {
     "data": {
      "image/png": "[encoded data removed]",
      "text/plain": [
       "<matplotlib.figure.Figure at 0x12d4beba8>"
      ]
     },
     "metadata": {},
     "output_type": "display_data"
    },
    {
     "name": "stdout",
     "output_type": "stream",
     "text": [
      "64/64 [==============================] - 0s - loss: 0.2694     \n"
     ]
    },
    {
     "data": {
      "text/plain": [
       "<keras.callbacks.History at 0x12d0b8d68>"
      ]
     },
     "execution_count": 76,
     "metadata": {},
     "output_type": "execute_result"
    }
   ],
   "source": [
    "model.fit(X_train, y_train, epochs=20, callbacks=[plot_losses], batch_size=4)"
   ]
  },
  {
   "cell_type": "code",
   "execution_count": 77,
   "metadata": {
    "scrolled": true
   },
   "outputs": [
    {
     "data": {
      "image/png": "[encoded data removed]",
      "text/plain": [
       "<matplotlib.figure.Figure at 0x12e38b5c0>"
      ]
     },
     "metadata": {},
     "output_type": "display_data"
    },
    {
     "name": "stdout",
     "output_type": "stream",
     "text": [
      "64/64 [==============================] - 0s - loss: 0.0330     \n"
     ]
    }
   ],
   "source": [
    "history = model.fit(X_train, y_train, epochs=500, callbacks=[plot_losses], batch_size=4, initial_epoch=21)"
   ]
  },
  {
   "cell_type": "code",
   "execution_count": 2,
   "metadata": {
    "scrolled": true
   },
   "outputs": [],
   "source": [
    "# history.history['loss']"
   ]
  },
  {
   "cell_type": "markdown",
   "metadata": {},
   "source": [
    "## Predictions for the whole dataset"
   ]
  },
  {
   "cell_type": "code",
   "execution_count": 86,
   "metadata": {
    "collapsed": true
   },
   "outputs": [],
   "source": [
    "y_pred = model.predict(X)"
   ]
  },
  {
   "cell_type": "code",
   "execution_count": 87,
   "metadata": {},
   "outputs": [
    {
     "data": {
      "image/png": "[encoded data removed]",
      "text/plain": [
       "<matplotlib.figure.Figure at 0x130a2f470>"
      ]
     },
     "metadata": {},
     "output_type": "display_data"
    }
   ],
   "source": [
    "plt.plot(y_pred.flatten()[:])\n",
    "plt.plot(y.flatten()[:])\n",
    "plt.show()"
   ]
  },
  {
   "cell_type": "markdown",
   "metadata": {},
   "source": [
    "## Plots and evaluation for validation data"
   ]
  },
  {
   "cell_type": "code",
   "execution_count": 27,
   "metadata": {
    "scrolled": false
   },
   "outputs": [
    {
     "name": "stderr",
     "output_type": "stream",
     "text": [
      "/Users/Muks/anaconda3/lib/python3.6/site-packages/matplotlib/axes/_axes.py:545: UserWarning: No labelled objects found. Use label='...' kwarg on individual plots.\n",
      "  warnings.warn(\"No labelled objects found. \"\n"
     ]
    },
    {
     "data": {
      "image/png": "[encoded data removed]",
      "text/plain": [
       "<matplotlib.figure.Figure at 0x12aacf470>"
      ]
     },
     "metadata": {},
     "output_type": "display_data"
    },
    {
     "name": "stdout",
     "output_type": "stream",
     "text": [
      "Average rms error =  24036.8776023\n",
      "Average percentage error =  4.27224236212 %\n"
     ]
    }
   ],
   "source": [
    "plt.plot(y_pred[-7:].flatten() * std['W'])\n",
    "plt.plot(y[-7:].flatten() * std['W'])\n",
    "plt.axes().get_xaxis().set_ticks([])\n",
    "orange_patch = mpatches.Patch(color='orange', label='Actual Values')\n",
    "blue_patch = mpatches.Patch(color='#1f77b4', label='Predictions')\n",
    "plt.xlabel('DateTime - 11th to 17th Jan')\n",
    "plt.ylabel('W (Active power, total)')\n",
    "plt.legend(handles=[orange_patch, blue_patch])\n",
    "plt.legend()\n",
    "plt.show()\n",
    "print(\"Average rms error = \", 24036.8776023)\n",
    "print(\"Average percentage error = \", 0.0427224236212 * 100,  \"%\")"
   ]
  },
  {
   "cell_type": "code",
   "execution_count": 39,
   "metadata": {},
   "outputs": [
    {
     "name": "stdout",
     "output_type": "stream",
     "text": [
      "6/6 [==============================] - 0s\n",
      "24036.8776023\n",
      "0.0427224236212\n"
     ]
    }
   ],
   "source": [
    "rmse_test = model.evaluate(X_test, y_test)\n",
    "print(rmse_test * std['W'])\n",
    "print(rmse_test * std['W']/562629.0730947304)"
   ]
  },
  {
   "cell_type": "code",
   "execution_count": 113,
   "metadata": {
    "collapsed": true
   },
   "outputs": [],
   "source": [
    "model.save_weights('best_model_4th_feb_3:30pm')"
   ]
  },
  {
   "cell_type": "markdown",
   "metadata": {},
   "source": [
    "## Generating predictions for the next 7 days"
   ]
  },
  {
   "cell_type": "code",
   "execution_count": 92,
   "metadata": {
    "collapsed": true
   },
   "outputs": [],
   "source": [
    "testData = df_test.values"
   ]
  },
  {
   "cell_type": "code",
   "execution_count": 93,
   "metadata": {},
   "outputs": [
    {
     "data": {
      "text/plain": [
       "(264, 3)"
      ]
     },
     "execution_count": 93,
     "metadata": {},
     "output_type": "execute_result"
    }
   ],
   "source": [
    "testData.shape"
   ]
  },
  {
   "cell_type": "markdown",
   "metadata": {},
   "source": [
    "### Test data contains only temperature & isWeekend features, as W (load) is generated day-by-day"
   ]
  },
  {
   "cell_type": "code",
   "execution_count": 94,
   "metadata": {},
   "outputs": [
    {
     "data": {
      "text/plain": [
       "array([[ 3.4,  1.4,  0. ],\n",
       "       [ 3.4,  1.4,  0. ],\n",
       "       [ 3.4,  1.4,  0. ],\n",
       "       [ 3.4,  1.4,  0. ],\n",
       "       [ 3.4,  1.4,  0. ],\n",
       "       [ 3.4,  1.4,  0. ],\n",
       "       [ 3.4,  1.4,  0. ],\n",
       "       [ 3.4,  1.4,  0. ],\n",
       "       [ 3.4,  1.4,  0. ],\n",
       "       [ 3.4,  1.4,  0. ],\n",
       "       [ 3.4,  1.4,  0. ],\n",
       "       [ 3.4,  1.4,  0. ],\n",
       "       [ 3.4,  1.4,  0. ],\n",
       "       [ 3.4,  1.4,  0. ],\n",
       "       [ 3.4,  1.4,  0. ],\n",
       "       [ 3.4,  1.4,  0. ],\n",
       "       [ 3.4,  1.4,  0. ],\n",
       "       [ 3.4,  1.4,  0. ],\n",
       "       [ 3.4,  1.4,  0. ],\n",
       "       [ 3.4,  1.4,  0. ],\n",
       "       [ 3.4,  1.4,  0. ],\n",
       "       [ 3.4,  1.4,  0. ],\n",
       "       [ 3.4,  1.4,  0. ],\n",
       "       [ 3.4,  1.4,  0. ],\n",
       "       [ 3.8,  1.6,  0. ],\n",
       "       [ 3.8,  1.6,  0. ],\n",
       "       [ 3.8,  1.6,  0. ],\n",
       "       [ 3.8,  1.6,  0. ],\n",
       "       [ 3.8,  1.6,  0. ],\n",
       "       [ 3.8,  1.6,  0. ],\n",
       "       [ 3.8,  1.6,  0. ],\n",
       "       [ 3.8,  1.6,  0. ],\n",
       "       [ 3.8,  1.6,  0. ],\n",
       "       [ 3.8,  1.6,  0. ],\n",
       "       [ 3.8,  1.6,  0. ],\n",
       "       [ 3.8,  1.6,  0. ],\n",
       "       [ 3.8,  1.6,  0. ],\n",
       "       [ 3.8,  1.6,  0. ],\n",
       "       [ 3.8,  1.6,  0. ],\n",
       "       [ 3.8,  1.6,  0. ],\n",
       "       [ 3.8,  1.6,  0. ],\n",
       "       [ 3.8,  1.6,  0. ],\n",
       "       [ 3.8,  1.6,  0. ],\n",
       "       [ 3.8,  1.6,  0. ],\n",
       "       [ 3.8,  1.6,  0. ],\n",
       "       [ 3.8,  1.6,  0. ],\n",
       "       [ 3.8,  1.6,  0. ],\n",
       "       [ 3.8,  1.6,  0. ],\n",
       "       [ 3.8,  1.4,  0. ],\n",
       "       [ 3.8,  1.4,  0. ],\n",
       "       [ 3.8,  1.4,  0. ],\n",
       "       [ 3.8,  1.4,  0. ],\n",
       "       [ 3.8,  1.4,  0. ],\n",
       "       [ 3.8,  1.4,  0. ],\n",
       "       [ 3.8,  1.4,  0. ],\n",
       "       [ 3.8,  1.4,  0. ],\n",
       "       [ 3.8,  1.4,  0. ],\n",
       "       [ 3.8,  1.4,  0. ],\n",
       "       [ 3.8,  1.4,  0. ],\n",
       "       [ 3.8,  1.4,  0. ],\n",
       "       [ 3.8,  1.4,  0. ],\n",
       "       [ 3.8,  1.4,  0. ],\n",
       "       [ 3.8,  1.4,  0. ],\n",
       "       [ 3.8,  1.4,  0. ],\n",
       "       [ 3.8,  1.4,  0. ],\n",
       "       [ 3.8,  1.4,  0. ],\n",
       "       [ 3.8,  1.4,  0. ],\n",
       "       [ 3.8,  1.4,  0. ],\n",
       "       [ 3.8,  1.4,  0. ],\n",
       "       [ 3.8,  1.4,  0. ],\n",
       "       [ 3.8,  1.4,  0. ],\n",
       "       [ 3.8,  1.4,  0. ],\n",
       "       [ 3.6,  1.6,  1. ],\n",
       "       [ 3.6,  1.6,  1. ],\n",
       "       [ 3.6,  1.6,  1. ],\n",
       "       [ 3.6,  1.6,  1. ],\n",
       "       [ 3.6,  1.6,  1. ],\n",
       "       [ 3.6,  1.6,  1. ],\n",
       "       [ 3.6,  1.6,  1. ],\n",
       "       [ 3.6,  1.6,  1. ],\n",
       "       [ 3.6,  1.6,  1. ],\n",
       "       [ 3.6,  1.6,  1. ],\n",
       "       [ 3.6,  1.6,  1. ],\n",
       "       [ 3.6,  1.6,  1. ],\n",
       "       [ 3.6,  1.6,  1. ],\n",
       "       [ 3.6,  1.6,  1. ],\n",
       "       [ 3.6,  1.6,  1. ],\n",
       "       [ 3.6,  1.6,  1. ],\n",
       "       [ 3.6,  1.6,  1. ],\n",
       "       [ 3.6,  1.6,  1. ],\n",
       "       [ 3.6,  1.6,  1. ],\n",
       "       [ 3.6,  1.6,  1. ],\n",
       "       [ 3.6,  1.6,  1. ],\n",
       "       [ 3.6,  1.6,  1. ],\n",
       "       [ 3.6,  1.6,  1. ],\n",
       "       [ 3.6,  1.6,  1. ],\n",
       "       [ 4.4,  1.6,  1. ],\n",
       "       [ 4.4,  1.6,  1. ],\n",
       "       [ 4.4,  1.6,  1. ],\n",
       "       [ 4.4,  1.6,  1. ],\n",
       "       [ 4.4,  1.6,  1. ],\n",
       "       [ 4.4,  1.6,  1. ],\n",
       "       [ 4.4,  1.6,  1. ],\n",
       "       [ 4.4,  1.6,  1. ],\n",
       "       [ 4.4,  1.6,  1. ],\n",
       "       [ 4.4,  1.6,  1. ],\n",
       "       [ 4.4,  1.6,  1. ],\n",
       "       [ 4.4,  1.6,  1. ],\n",
       "       [ 4.4,  1.6,  1. ],\n",
       "       [ 4.4,  1.6,  1. ],\n",
       "       [ 4.4,  1.6,  1. ],\n",
       "       [ 4.4,  1.6,  1. ],\n",
       "       [ 4.4,  1.6,  1. ],\n",
       "       [ 4.4,  1.6,  1. ],\n",
       "       [ 4.4,  1.6,  1. ],\n",
       "       [ 4.4,  1.6,  1. ],\n",
       "       [ 4.4,  1.6,  1. ],\n",
       "       [ 4.4,  1.6,  1. ],\n",
       "       [ 4.4,  1.6,  1. ],\n",
       "       [ 4.4,  1.6,  1. ],\n",
       "       [ 4.4,  1.4,  0. ],\n",
       "       [ 4.4,  1.4,  0. ],\n",
       "       [ 4.4,  1.4,  0. ],\n",
       "       [ 4.4,  1.4,  0. ],\n",
       "       [ 4.4,  1.4,  0. ],\n",
       "       [ 4.4,  1.4,  0. ],\n",
       "       [ 4.4,  1.4,  0. ],\n",
       "       [ 4.4,  1.4,  0. ],\n",
       "       [ 4.4,  1.4,  0. ],\n",
       "       [ 4.4,  1.4,  0. ],\n",
       "       [ 4.4,  1.4,  0. ],\n",
       "       [ 4.4,  1.4,  0. ],\n",
       "       [ 4.4,  1.4,  0. ],\n",
       "       [ 4.4,  1.4,  0. ],\n",
       "       [ 4.4,  1.4,  0. ],\n",
       "       [ 4.4,  1.4,  0. ],\n",
       "       [ 4.4,  1.4,  0. ],\n",
       "       [ 4.4,  1.4,  0. ],\n",
       "       [ 4.4,  1.4,  0. ],\n",
       "       [ 4.4,  1.4,  0. ],\n",
       "       [ 4.4,  1.4,  0. ],\n",
       "       [ 4.4,  1.4,  0. ],\n",
       "       [ 4.4,  1.4,  0. ],\n",
       "       [ 4.4,  1.4,  0. ],\n",
       "       [ 5. ,  1.4,  0. ],\n",
       "       [ 5. ,  1.4,  0. ],\n",
       "       [ 5. ,  1.4,  0. ],\n",
       "       [ 5. ,  1.4,  0. ],\n",
       "       [ 5. ,  1.4,  0. ],\n",
       "       [ 5. ,  1.4,  0. ],\n",
       "       [ 5. ,  1.4,  0. ],\n",
       "       [ 5. ,  1.4,  0. ],\n",
       "       [ 5. ,  1.4,  0. ],\n",
       "       [ 5. ,  1.4,  0. ],\n",
       "       [ 5. ,  1.4,  0. ],\n",
       "       [ 5. ,  1.4,  0. ],\n",
       "       [ 5. ,  1.4,  0. ],\n",
       "       [ 5. ,  1.4,  0. ],\n",
       "       [ 5. ,  1.4,  0. ],\n",
       "       [ 5. ,  1.4,  0. ],\n",
       "       [ 5. ,  1.4,  0. ],\n",
       "       [ 5. ,  1.4,  0. ],\n",
       "       [ 5. ,  1.4,  0. ],\n",
       "       [ 5. ,  1.4,  0. ],\n",
       "       [ 5. ,  1.4,  0. ],\n",
       "       [ 5. ,  1.4,  0. ],\n",
       "       [ 5. ,  1.4,  0. ],\n",
       "       [ 5. ,  1.4,  0. ],\n",
       "       [ 5. ,  2. ,  0. ],\n",
       "       [ 5. ,  2. ,  0. ],\n",
       "       [ 5. ,  2. ,  0. ],\n",
       "       [ 5. ,  2. ,  0. ],\n",
       "       [ 5. ,  2. ,  0. ],\n",
       "       [ 5. ,  2. ,  0. ],\n",
       "       [ 5. ,  2. ,  0. ],\n",
       "       [ 5. ,  2. ,  0. ],\n",
       "       [ 5. ,  2. ,  0. ],\n",
       "       [ 5. ,  2. ,  0. ],\n",
       "       [ 5. ,  2. ,  0. ],\n",
       "       [ 5. ,  2. ,  0. ],\n",
       "       [ 5. ,  2. ,  0. ],\n",
       "       [ 5. ,  2. ,  0. ],\n",
       "       [ 5. ,  2. ,  0. ],\n",
       "       [ 5. ,  2. ,  0. ],\n",
       "       [ 5. ,  2. ,  0. ],\n",
       "       [ 5. ,  2. ,  0. ],\n",
       "       [ 5. ,  2. ,  0. ],\n",
       "       [ 5. ,  2. ,  0. ],\n",
       "       [ 5. ,  2. ,  0. ],\n",
       "       [ 5. ,  2. ,  0. ],\n",
       "       [ 5. ,  2. ,  0. ],\n",
       "       [ 5. ,  2. ,  0. ],\n",
       "       [ 4.6,  2. ,  0. ],\n",
       "       [ 4.6,  2. ,  0. ],\n",
       "       [ 4.6,  2. ,  0. ],\n",
       "       [ 4.6,  2. ,  0. ],\n",
       "       [ 4.6,  2. ,  0. ],\n",
       "       [ 4.6,  2. ,  0. ],\n",
       "       [ 4.6,  2. ,  0. ],\n",
       "       [ 4.6,  2. ,  0. ],\n",
       "       [ 4.6,  2. ,  0. ],\n",
       "       [ 4.6,  2. ,  0. ],\n",
       "       [ 4.6,  2. ,  0. ],\n",
       "       [ 4.6,  2. ,  0. ],\n",
       "       [ 4.6,  2. ,  0. ],\n",
       "       [ 4.6,  2. ,  0. ],\n",
       "       [ 4.6,  2. ,  0. ],\n",
       "       [ 4.6,  2. ,  0. ],\n",
       "       [ 4.6,  2. ,  0. ],\n",
       "       [ 4.6,  2. ,  0. ],\n",
       "       [ 4.6,  2. ,  0. ],\n",
       "       [ 4.6,  2. ,  0. ],\n",
       "       [ 4.6,  2. ,  0. ],\n",
       "       [ 4.6,  2. ,  0. ],\n",
       "       [ 4.6,  2. ,  0. ],\n",
       "       [ 4.6,  2. ,  0. ],\n",
       "       [ 3.6,  2.2,  0. ],\n",
       "       [ 3.6,  2.2,  0. ],\n",
       "       [ 3.6,  2.2,  0. ],\n",
       "       [ 3.6,  2.2,  0. ],\n",
       "       [ 3.6,  2.2,  0. ],\n",
       "       [ 3.6,  2.2,  0. ],\n",
       "       [ 3.6,  2.2,  0. ],\n",
       "       [ 3.6,  2.2,  0. ],\n",
       "       [ 3.6,  2.2,  0. ],\n",
       "       [ 3.6,  2.2,  0. ],\n",
       "       [ 3.6,  2.2,  0. ],\n",
       "       [ 3.6,  2.2,  0. ],\n",
       "       [ 3.6,  2.2,  0. ],\n",
       "       [ 3.6,  2.2,  0. ],\n",
       "       [ 3.6,  2.2,  0. ],\n",
       "       [ 3.6,  2.2,  0. ],\n",
       "       [ 3.6,  2.2,  0. ],\n",
       "       [ 3.6,  2.2,  0. ],\n",
       "       [ 3.6,  2.2,  0. ],\n",
       "       [ 3.6,  2.2,  0. ],\n",
       "       [ 3.6,  2.2,  0. ],\n",
       "       [ 3.6,  2.2,  0. ],\n",
       "       [ 3.6,  2.2,  0. ],\n",
       "       [ 3.6,  2.2,  0. ],\n",
       "       [ 4.6,  1.6,  1. ],\n",
       "       [ 4.6,  1.6,  1. ],\n",
       "       [ 4.6,  1.6,  1. ],\n",
       "       [ 4.6,  1.6,  1. ],\n",
       "       [ 4.6,  1.6,  1. ],\n",
       "       [ 4.6,  1.6,  1. ],\n",
       "       [ 4.6,  1.6,  1. ],\n",
       "       [ 4.6,  1.6,  1. ],\n",
       "       [ 4.6,  1.6,  1. ],\n",
       "       [ 4.6,  1.6,  1. ],\n",
       "       [ 4.6,  1.6,  1. ],\n",
       "       [ 4.6,  1.6,  1. ],\n",
       "       [ 4.6,  1.6,  1. ],\n",
       "       [ 4.6,  1.6,  1. ],\n",
       "       [ 4.6,  1.6,  1. ],\n",
       "       [ 4.6,  1.6,  1. ],\n",
       "       [ 4.6,  1.6,  1. ],\n",
       "       [ 4.6,  1.6,  1. ],\n",
       "       [ 4.6,  1.6,  1. ],\n",
       "       [ 4.6,  1.6,  1. ],\n",
       "       [ 4.6,  1.6,  1. ],\n",
       "       [ 4.6,  1.6,  1. ],\n",
       "       [ 4.6,  1.6,  1. ],\n",
       "       [ 4.6,  1.6,  1. ]])"
      ]
     },
     "execution_count": 94,
     "metadata": {},
     "output_type": "execute_result"
    }
   ],
   "source": [
    "testData"
   ]
  },
  {
   "cell_type": "code",
   "execution_count": 95,
   "metadata": {
    "collapsed": true
   },
   "outputs": [],
   "source": [
    "X_prev = X[-1:]\n",
    "y_prev = model.predict(X_prev)"
   ]
  },
  {
   "cell_type": "code",
   "execution_count": 96,
   "metadata": {},
   "outputs": [
    {
     "data": {
      "text/plain": [
       "(1, 24)"
      ]
     },
     "execution_count": 96,
     "metadata": {},
     "output_type": "execute_result"
    }
   ],
   "source": [
    "y_prev.shape"
   ]
  },
  {
   "cell_type": "code",
   "execution_count": 97,
   "metadata": {},
   "outputs": [
    {
     "data": {
      "text/plain": [
       "(24, 1)"
      ]
     },
     "execution_count": 97,
     "metadata": {},
     "output_type": "execute_result"
    }
   ],
   "source": [
    "i = 0\n",
    "# testData[i*24: (i+1)*24].shape\n",
    "y_prev = model.predict(X_prev)\n",
    "y_prev.T.shape"
   ]
  },
  {
   "cell_type": "code",
   "execution_count": 98,
   "metadata": {},
   "outputs": [
    {
     "data": {
      "text/plain": [
       "(24, 3)"
      ]
     },
     "execution_count": 98,
     "metadata": {},
     "output_type": "execute_result"
    }
   ],
   "source": [
    "testData[i*24: (i+1)*24].shape"
   ]
  },
  {
   "cell_type": "code",
   "execution_count": 106,
   "metadata": {
    "collapsed": true
   },
   "outputs": [],
   "source": [
    "X_add = np.concatenate((y_prev.T, testData[i*24: (i+1)*24]), axis=1).reshape((1, 1, 24 * 4))"
   ]
  },
  {
   "cell_type": "code",
   "execution_count": 107,
   "metadata": {},
   "outputs": [
    {
     "data": {
      "text/plain": [
       "(1, 1, 96)"
      ]
     },
     "execution_count": 107,
     "metadata": {},
     "output_type": "execute_result"
    }
   ],
   "source": [
    "X_add.shape"
   ]
  },
  {
   "cell_type": "code",
   "execution_count": 108,
   "metadata": {},
   "outputs": [
    {
     "data": {
      "text/plain": [
       "(1, 6, 96)"
      ]
     },
     "execution_count": 108,
     "metadata": {},
     "output_type": "execute_result"
    }
   ],
   "source": [
    "X_prev[:, 1:].shape"
   ]
  },
  {
   "cell_type": "code",
   "execution_count": 109,
   "metadata": {},
   "outputs": [
    {
     "data": {
      "text/plain": [
       "(1, 7, 96)"
      ]
     },
     "execution_count": 109,
     "metadata": {},
     "output_type": "execute_result"
    }
   ],
   "source": [
    "np.concatenate((X_prev[:, 1:], X_add), axis=1).shape"
   ]
  },
  {
   "cell_type": "markdown",
   "metadata": {},
   "source": [
    "### For every day, data from the previous 7 days (including predictions) are used dynamically"
   ]
  },
  {
   "cell_type": "code",
   "execution_count": 74,
   "metadata": {
    "collapsed": true
   },
   "outputs": [],
   "source": [
    "to_predict = 11\n",
    "X_prev = X[-1:]\n",
    "preds = []\n",
    "for i in range(to_predict):\n",
    "    y_prev = model.predict(X_prev)\n",
    "    preds.append(y_prev)\n",
    "    X_add = np.concatenate((y_prev.T, testData[i*24: (i+1)*24]), axis=1).reshape((1, 1, 24 * 4))\n",
    "    X_prev = np.concatenate((X_prev[:, 1:], X_add), axis=1)"
   ]
  },
  {
   "cell_type": "code",
   "execution_count": 75,
   "metadata": {
    "collapsed": true
   },
   "outputs": [],
   "source": [
    "preds = np.asarray(preds).flatten()"
   ]
  },
  {
   "cell_type": "code",
   "execution_count": 79,
   "metadata": {},
   "outputs": [
    {
     "data": {
      "image/png": "[encoded data removed]",
      "text/plain": [
       "<matplotlib.figure.Figure at 0x12cb51c88>"
      ]
     },
     "metadata": {},
     "output_type": "display_data"
    }
   ],
   "source": [
    "preds = preds * std['W']\n",
    "plt.plot(preds)\n",
    "plt.show()"
   ]
  },
  {
   "cell_type": "markdown",
   "metadata": {},
   "source": [
    "## Dumping generated predictions into a csv"
   ]
  },
  {
   "cell_type": "code",
   "execution_count": 97,
   "metadata": {
    "collapsed": true
   },
   "outputs": [],
   "source": [
    "s = \"Date,Time,\\\"W (Active power, total)\\\"\\n\"\n",
    "for i in range(17, 27 + 1):\n",
    "    date = str(i) + \"-01-2018\"\n",
    "    for j in range(24):\n",
    "        time = \"%02d:00:00\" %(j)\n",
    "        s += date + \",\" + time + \",\" + str(\"%0.4f\") % (preds[(i - 17) * 24 + j]) + \"\\n\""
   ]
  },
  {
   "cell_type": "code",
   "execution_count": 99,
   "metadata": {
    "collapsed": true
   },
   "outputs": [],
   "source": [
    "with open(\"hourly_predictions.csv\", \"w\") as f:\n",
    "    f.write(s)"
   ]
  },
  {
   "cell_type": "code",
   "execution_count": null,
   "metadata": {
    "collapsed": true
   },
   "outputs": [],
   "source": []
  }
 ],
 "metadata": {
  "kernelspec": {
   "display_name": "Python 3",
   "language": "python",
   "name": "python3"
  },
  "language_info": {
   "codemirror_mode": {
    "name": "ipython",
    "version": 3
   },
   "file_extension": ".py",
   "mimetype": "text/x-python",
   "name": "python",
   "nbconvert_exporter": "python",
   "pygments_lexer": "ipython3",
   "version": "3.6.1"
  }
 },
 "nbformat": 4,
 "nbformat_minor": 2
}
