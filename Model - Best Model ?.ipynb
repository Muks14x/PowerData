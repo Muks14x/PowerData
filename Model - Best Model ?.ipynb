{
 "cells": [
  {
   "cell_type": "code",
   "execution_count": 1,
   "metadata": {
    "collapsed": true
   },
   "outputs": [],
   "source": [
    "import pandas as pd\n",
    "import numpy as np\n",
    "import numpy\n",
    "import matplotlib.pyplot as plt\n",
    "import matplotlib.patches as mpatches\n",
    "import os\n",
    "import glob"
   ]
  },
  {
   "cell_type": "code",
   "execution_count": 2,
   "metadata": {
    "collapsed": true
   },
   "outputs": [],
   "source": [
    "df_train = pd.read_pickle('df_train')\n",
    "df_test = pd.read_pickle('df_test')\n",
    "del(df_train['DateTime'])"
   ]
  },
  {
   "cell_type": "code",
   "execution_count": 3,
   "metadata": {
    "collapsed": true
   },
   "outputs": [],
   "source": [
    "std = {'W': 1.5e5, 'HiT': 5, 'LoT' : 5}"
   ]
  },
  {
   "cell_type": "code",
   "execution_count": 4,
   "metadata": {},
   "outputs": [
    {
     "data": {
      "text/plain": [
       "562629.0730947304"
      ]
     },
     "execution_count": 4,
     "metadata": {},
     "output_type": "execute_result"
    }
   ],
   "source": [
    "df_train['W'].mean()"
   ]
  },
  {
   "cell_type": "code",
   "execution_count": 5,
   "metadata": {
    "collapsed": true
   },
   "outputs": [],
   "source": [
    "df_train['W'] = df_train['W'] / std['W']\n",
    "for param in ['HiT', 'LoT']:\n",
    "    df_train[param] = df_train[param] / std[param]\n",
    "    df_test[param] = df_test[param] / std[param]"
   ]
  },
  {
   "cell_type": "code",
   "execution_count": 6,
   "metadata": {
    "scrolled": true
   },
   "outputs": [
    {
     "data": {
      "text/html": [
       "<div>\n",
       "<style>\n",
       "    .dataframe thead tr:only-child th {\n",
       "        text-align: right;\n",
       "    }\n",
       "\n",
       "    .dataframe thead th {\n",
       "        text-align: left;\n",
       "    }\n",
       "\n",
       "    .dataframe tbody tr th {\n",
       "        vertical-align: top;\n",
       "    }\n",
       "</style>\n",
       "<table border=\"1\" class=\"dataframe\">\n",
       "  <thead>\n",
       "    <tr style=\"text-align: right;\">\n",
       "      <th></th>\n",
       "      <th>W</th>\n",
       "      <th>HiT</th>\n",
       "      <th>LoT</th>\n",
       "      <th>isWeekend</th>\n",
       "    </tr>\n",
       "  </thead>\n",
       "  <tbody>\n",
       "    <tr>\n",
       "      <th>0</th>\n",
       "      <td>3.463985</td>\n",
       "      <td>6.0</td>\n",
       "      <td>3.6</td>\n",
       "      <td>0</td>\n",
       "    </tr>\n",
       "    <tr>\n",
       "      <th>1</th>\n",
       "      <td>3.322316</td>\n",
       "      <td>6.0</td>\n",
       "      <td>3.6</td>\n",
       "      <td>0</td>\n",
       "    </tr>\n",
       "    <tr>\n",
       "      <th>2</th>\n",
       "      <td>3.228695</td>\n",
       "      <td>6.0</td>\n",
       "      <td>3.6</td>\n",
       "      <td>0</td>\n",
       "    </tr>\n",
       "    <tr>\n",
       "      <th>3</th>\n",
       "      <td>3.109198</td>\n",
       "      <td>6.0</td>\n",
       "      <td>3.6</td>\n",
       "      <td>0</td>\n",
       "    </tr>\n",
       "    <tr>\n",
       "      <th>4</th>\n",
       "      <td>3.237810</td>\n",
       "      <td>6.0</td>\n",
       "      <td>3.6</td>\n",
       "      <td>0</td>\n",
       "    </tr>\n",
       "    <tr>\n",
       "      <th>5</th>\n",
       "      <td>3.122625</td>\n",
       "      <td>6.0</td>\n",
       "      <td>3.6</td>\n",
       "      <td>0</td>\n",
       "    </tr>\n",
       "    <tr>\n",
       "      <th>6</th>\n",
       "      <td>2.610293</td>\n",
       "      <td>6.0</td>\n",
       "      <td>3.6</td>\n",
       "      <td>0</td>\n",
       "    </tr>\n",
       "    <tr>\n",
       "      <th>7</th>\n",
       "      <td>2.879477</td>\n",
       "      <td>6.0</td>\n",
       "      <td>3.6</td>\n",
       "      <td>0</td>\n",
       "    </tr>\n",
       "    <tr>\n",
       "      <th>8</th>\n",
       "      <td>3.389768</td>\n",
       "      <td>6.0</td>\n",
       "      <td>3.6</td>\n",
       "      <td>0</td>\n",
       "    </tr>\n",
       "    <tr>\n",
       "      <th>9</th>\n",
       "      <td>4.812751</td>\n",
       "      <td>6.0</td>\n",
       "      <td>3.6</td>\n",
       "      <td>0</td>\n",
       "    </tr>\n",
       "    <tr>\n",
       "      <th>10</th>\n",
       "      <td>5.289655</td>\n",
       "      <td>6.0</td>\n",
       "      <td>3.6</td>\n",
       "      <td>0</td>\n",
       "    </tr>\n",
       "    <tr>\n",
       "      <th>11</th>\n",
       "      <td>5.141343</td>\n",
       "      <td>6.0</td>\n",
       "      <td>3.6</td>\n",
       "      <td>0</td>\n",
       "    </tr>\n",
       "    <tr>\n",
       "      <th>12</th>\n",
       "      <td>5.526908</td>\n",
       "      <td>6.0</td>\n",
       "      <td>3.6</td>\n",
       "      <td>0</td>\n",
       "    </tr>\n",
       "    <tr>\n",
       "      <th>13</th>\n",
       "      <td>5.151816</td>\n",
       "      <td>6.0</td>\n",
       "      <td>3.6</td>\n",
       "      <td>0</td>\n",
       "    </tr>\n",
       "    <tr>\n",
       "      <th>14</th>\n",
       "      <td>4.930735</td>\n",
       "      <td>6.0</td>\n",
       "      <td>3.6</td>\n",
       "      <td>0</td>\n",
       "    </tr>\n",
       "    <tr>\n",
       "      <th>15</th>\n",
       "      <td>5.219530</td>\n",
       "      <td>6.0</td>\n",
       "      <td>3.6</td>\n",
       "      <td>0</td>\n",
       "    </tr>\n",
       "    <tr>\n",
       "      <th>16</th>\n",
       "      <td>4.863530</td>\n",
       "      <td>6.0</td>\n",
       "      <td>3.6</td>\n",
       "      <td>0</td>\n",
       "    </tr>\n",
       "    <tr>\n",
       "      <th>17</th>\n",
       "      <td>4.714960</td>\n",
       "      <td>6.0</td>\n",
       "      <td>3.6</td>\n",
       "      <td>0</td>\n",
       "    </tr>\n",
       "    <tr>\n",
       "      <th>18</th>\n",
       "      <td>4.559728</td>\n",
       "      <td>6.0</td>\n",
       "      <td>3.6</td>\n",
       "      <td>0</td>\n",
       "    </tr>\n",
       "    <tr>\n",
       "      <th>19</th>\n",
       "      <td>4.334817</td>\n",
       "      <td>6.0</td>\n",
       "      <td>3.6</td>\n",
       "      <td>0</td>\n",
       "    </tr>\n",
       "    <tr>\n",
       "      <th>20</th>\n",
       "      <td>4.184715</td>\n",
       "      <td>6.0</td>\n",
       "      <td>3.6</td>\n",
       "      <td>0</td>\n",
       "    </tr>\n",
       "    <tr>\n",
       "      <th>21</th>\n",
       "      <td>4.044635</td>\n",
       "      <td>6.0</td>\n",
       "      <td>3.6</td>\n",
       "      <td>0</td>\n",
       "    </tr>\n",
       "    <tr>\n",
       "      <th>22</th>\n",
       "      <td>3.935146</td>\n",
       "      <td>6.0</td>\n",
       "      <td>3.6</td>\n",
       "      <td>0</td>\n",
       "    </tr>\n",
       "    <tr>\n",
       "      <th>23</th>\n",
       "      <td>3.622731</td>\n",
       "      <td>6.0</td>\n",
       "      <td>3.6</td>\n",
       "      <td>0</td>\n",
       "    </tr>\n",
       "    <tr>\n",
       "      <th>24</th>\n",
       "      <td>3.440633</td>\n",
       "      <td>6.4</td>\n",
       "      <td>3.6</td>\n",
       "      <td>0</td>\n",
       "    </tr>\n",
       "    <tr>\n",
       "      <th>25</th>\n",
       "      <td>3.274538</td>\n",
       "      <td>6.4</td>\n",
       "      <td>3.6</td>\n",
       "      <td>0</td>\n",
       "    </tr>\n",
       "    <tr>\n",
       "      <th>26</th>\n",
       "      <td>3.185594</td>\n",
       "      <td>6.4</td>\n",
       "      <td>3.6</td>\n",
       "      <td>0</td>\n",
       "    </tr>\n",
       "    <tr>\n",
       "      <th>27</th>\n",
       "      <td>3.118055</td>\n",
       "      <td>6.4</td>\n",
       "      <td>3.6</td>\n",
       "      <td>0</td>\n",
       "    </tr>\n",
       "    <tr>\n",
       "      <th>28</th>\n",
       "      <td>3.154375</td>\n",
       "      <td>6.4</td>\n",
       "      <td>3.6</td>\n",
       "      <td>0</td>\n",
       "    </tr>\n",
       "    <tr>\n",
       "      <th>29</th>\n",
       "      <td>3.052466</td>\n",
       "      <td>6.4</td>\n",
       "      <td>3.6</td>\n",
       "      <td>0</td>\n",
       "    </tr>\n",
       "    <tr>\n",
       "      <th>...</th>\n",
       "      <td>...</td>\n",
       "      <td>...</td>\n",
       "      <td>...</td>\n",
       "      <td>...</td>\n",
       "    </tr>\n",
       "    <tr>\n",
       "      <th>1818</th>\n",
       "      <td>6.943750</td>\n",
       "      <td>3.8</td>\n",
       "      <td>1.8</td>\n",
       "      <td>0</td>\n",
       "    </tr>\n",
       "    <tr>\n",
       "      <th>1819</th>\n",
       "      <td>6.545413</td>\n",
       "      <td>3.8</td>\n",
       "      <td>1.8</td>\n",
       "      <td>0</td>\n",
       "    </tr>\n",
       "    <tr>\n",
       "      <th>1820</th>\n",
       "      <td>6.307789</td>\n",
       "      <td>3.8</td>\n",
       "      <td>1.8</td>\n",
       "      <td>0</td>\n",
       "    </tr>\n",
       "    <tr>\n",
       "      <th>1821</th>\n",
       "      <td>6.215786</td>\n",
       "      <td>3.8</td>\n",
       "      <td>1.8</td>\n",
       "      <td>0</td>\n",
       "    </tr>\n",
       "    <tr>\n",
       "      <th>1822</th>\n",
       "      <td>6.272914</td>\n",
       "      <td>3.8</td>\n",
       "      <td>1.8</td>\n",
       "      <td>0</td>\n",
       "    </tr>\n",
       "    <tr>\n",
       "      <th>1823</th>\n",
       "      <td>5.965230</td>\n",
       "      <td>3.8</td>\n",
       "      <td>1.8</td>\n",
       "      <td>0</td>\n",
       "    </tr>\n",
       "    <tr>\n",
       "      <th>1824</th>\n",
       "      <td>5.654907</td>\n",
       "      <td>3.4</td>\n",
       "      <td>1.6</td>\n",
       "      <td>0</td>\n",
       "    </tr>\n",
       "    <tr>\n",
       "      <th>1825</th>\n",
       "      <td>5.218493</td>\n",
       "      <td>3.4</td>\n",
       "      <td>1.6</td>\n",
       "      <td>0</td>\n",
       "    </tr>\n",
       "    <tr>\n",
       "      <th>1826</th>\n",
       "      <td>4.921540</td>\n",
       "      <td>3.4</td>\n",
       "      <td>1.6</td>\n",
       "      <td>0</td>\n",
       "    </tr>\n",
       "    <tr>\n",
       "      <th>1827</th>\n",
       "      <td>4.909021</td>\n",
       "      <td>3.4</td>\n",
       "      <td>1.6</td>\n",
       "      <td>0</td>\n",
       "    </tr>\n",
       "    <tr>\n",
       "      <th>1828</th>\n",
       "      <td>4.759489</td>\n",
       "      <td>3.4</td>\n",
       "      <td>1.6</td>\n",
       "      <td>0</td>\n",
       "    </tr>\n",
       "    <tr>\n",
       "      <th>1829</th>\n",
       "      <td>4.949052</td>\n",
       "      <td>3.4</td>\n",
       "      <td>1.6</td>\n",
       "      <td>0</td>\n",
       "    </tr>\n",
       "    <tr>\n",
       "      <th>1830</th>\n",
       "      <td>4.771395</td>\n",
       "      <td>3.4</td>\n",
       "      <td>1.6</td>\n",
       "      <td>0</td>\n",
       "    </tr>\n",
       "    <tr>\n",
       "      <th>1831</th>\n",
       "      <td>4.582617</td>\n",
       "      <td>3.4</td>\n",
       "      <td>1.6</td>\n",
       "      <td>0</td>\n",
       "    </tr>\n",
       "    <tr>\n",
       "      <th>1832</th>\n",
       "      <td>5.599603</td>\n",
       "      <td>3.4</td>\n",
       "      <td>1.6</td>\n",
       "      <td>0</td>\n",
       "    </tr>\n",
       "    <tr>\n",
       "      <th>1833</th>\n",
       "      <td>6.256426</td>\n",
       "      <td>3.4</td>\n",
       "      <td>1.6</td>\n",
       "      <td>0</td>\n",
       "    </tr>\n",
       "    <tr>\n",
       "      <th>1834</th>\n",
       "      <td>6.733124</td>\n",
       "      <td>3.4</td>\n",
       "      <td>1.6</td>\n",
       "      <td>0</td>\n",
       "    </tr>\n",
       "    <tr>\n",
       "      <th>1835</th>\n",
       "      <td>6.708533</td>\n",
       "      <td>3.4</td>\n",
       "      <td>1.6</td>\n",
       "      <td>0</td>\n",
       "    </tr>\n",
       "    <tr>\n",
       "      <th>1836</th>\n",
       "      <td>6.695493</td>\n",
       "      <td>3.4</td>\n",
       "      <td>1.6</td>\n",
       "      <td>0</td>\n",
       "    </tr>\n",
       "    <tr>\n",
       "      <th>1837</th>\n",
       "      <td>6.419834</td>\n",
       "      <td>3.4</td>\n",
       "      <td>1.6</td>\n",
       "      <td>0</td>\n",
       "    </tr>\n",
       "    <tr>\n",
       "      <th>1838</th>\n",
       "      <td>6.024301</td>\n",
       "      <td>3.4</td>\n",
       "      <td>1.6</td>\n",
       "      <td>0</td>\n",
       "    </tr>\n",
       "    <tr>\n",
       "      <th>1839</th>\n",
       "      <td>5.988680</td>\n",
       "      <td>3.4</td>\n",
       "      <td>1.6</td>\n",
       "      <td>0</td>\n",
       "    </tr>\n",
       "    <tr>\n",
       "      <th>1840</th>\n",
       "      <td>5.862726</td>\n",
       "      <td>3.4</td>\n",
       "      <td>1.6</td>\n",
       "      <td>0</td>\n",
       "    </tr>\n",
       "    <tr>\n",
       "      <th>1841</th>\n",
       "      <td>6.210493</td>\n",
       "      <td>3.4</td>\n",
       "      <td>1.6</td>\n",
       "      <td>0</td>\n",
       "    </tr>\n",
       "    <tr>\n",
       "      <th>1842</th>\n",
       "      <td>6.526997</td>\n",
       "      <td>3.4</td>\n",
       "      <td>1.6</td>\n",
       "      <td>0</td>\n",
       "    </tr>\n",
       "    <tr>\n",
       "      <th>1843</th>\n",
       "      <td>6.586719</td>\n",
       "      <td>3.4</td>\n",
       "      <td>1.6</td>\n",
       "      <td>0</td>\n",
       "    </tr>\n",
       "    <tr>\n",
       "      <th>1844</th>\n",
       "      <td>6.262180</td>\n",
       "      <td>3.4</td>\n",
       "      <td>1.6</td>\n",
       "      <td>0</td>\n",
       "    </tr>\n",
       "    <tr>\n",
       "      <th>1845</th>\n",
       "      <td>6.196034</td>\n",
       "      <td>3.4</td>\n",
       "      <td>1.6</td>\n",
       "      <td>0</td>\n",
       "    </tr>\n",
       "    <tr>\n",
       "      <th>1846</th>\n",
       "      <td>6.388007</td>\n",
       "      <td>3.4</td>\n",
       "      <td>1.6</td>\n",
       "      <td>0</td>\n",
       "    </tr>\n",
       "    <tr>\n",
       "      <th>1847</th>\n",
       "      <td>6.171583</td>\n",
       "      <td>3.4</td>\n",
       "      <td>1.6</td>\n",
       "      <td>0</td>\n",
       "    </tr>\n",
       "  </tbody>\n",
       "</table>\n",
       "<p>1848 rows × 4 columns</p>\n",
       "</div>"
      ],
      "text/plain": [
       "             W  HiT  LoT  isWeekend\n",
       "0     3.463985  6.0  3.6          0\n",
       "1     3.322316  6.0  3.6          0\n",
       "2     3.228695  6.0  3.6          0\n",
       "3     3.109198  6.0  3.6          0\n",
       "4     3.237810  6.0  3.6          0\n",
       "5     3.122625  6.0  3.6          0\n",
       "6     2.610293  6.0  3.6          0\n",
       "7     2.879477  6.0  3.6          0\n",
       "8     3.389768  6.0  3.6          0\n",
       "9     4.812751  6.0  3.6          0\n",
       "10    5.289655  6.0  3.6          0\n",
       "11    5.141343  6.0  3.6          0\n",
       "12    5.526908  6.0  3.6          0\n",
       "13    5.151816  6.0  3.6          0\n",
       "14    4.930735  6.0  3.6          0\n",
       "15    5.219530  6.0  3.6          0\n",
       "16    4.863530  6.0  3.6          0\n",
       "17    4.714960  6.0  3.6          0\n",
       "18    4.559728  6.0  3.6          0\n",
       "19    4.334817  6.0  3.6          0\n",
       "20    4.184715  6.0  3.6          0\n",
       "21    4.044635  6.0  3.6          0\n",
       "22    3.935146  6.0  3.6          0\n",
       "23    3.622731  6.0  3.6          0\n",
       "24    3.440633  6.4  3.6          0\n",
       "25    3.274538  6.4  3.6          0\n",
       "26    3.185594  6.4  3.6          0\n",
       "27    3.118055  6.4  3.6          0\n",
       "28    3.154375  6.4  3.6          0\n",
       "29    3.052466  6.4  3.6          0\n",
       "...        ...  ...  ...        ...\n",
       "1818  6.943750  3.8  1.8          0\n",
       "1819  6.545413  3.8  1.8          0\n",
       "1820  6.307789  3.8  1.8          0\n",
       "1821  6.215786  3.8  1.8          0\n",
       "1822  6.272914  3.8  1.8          0\n",
       "1823  5.965230  3.8  1.8          0\n",
       "1824  5.654907  3.4  1.6          0\n",
       "1825  5.218493  3.4  1.6          0\n",
       "1826  4.921540  3.4  1.6          0\n",
       "1827  4.909021  3.4  1.6          0\n",
       "1828  4.759489  3.4  1.6          0\n",
       "1829  4.949052  3.4  1.6          0\n",
       "1830  4.771395  3.4  1.6          0\n",
       "1831  4.582617  3.4  1.6          0\n",
       "1832  5.599603  3.4  1.6          0\n",
       "1833  6.256426  3.4  1.6          0\n",
       "1834  6.733124  3.4  1.6          0\n",
       "1835  6.708533  3.4  1.6          0\n",
       "1836  6.695493  3.4  1.6          0\n",
       "1837  6.419834  3.4  1.6          0\n",
       "1838  6.024301  3.4  1.6          0\n",
       "1839  5.988680  3.4  1.6          0\n",
       "1840  5.862726  3.4  1.6          0\n",
       "1841  6.210493  3.4  1.6          0\n",
       "1842  6.526997  3.4  1.6          0\n",
       "1843  6.586719  3.4  1.6          0\n",
       "1844  6.262180  3.4  1.6          0\n",
       "1845  6.196034  3.4  1.6          0\n",
       "1846  6.388007  3.4  1.6          0\n",
       "1847  6.171583  3.4  1.6          0\n",
       "\n",
       "[1848 rows x 4 columns]"
      ]
     },
     "execution_count": 6,
     "metadata": {},
     "output_type": "execute_result"
    }
   ],
   "source": [
    "df_train"
   ]
  },
  {
   "cell_type": "code",
   "execution_count": 7,
   "metadata": {
    "scrolled": false
   },
   "outputs": [
    {
     "data": {
      "image/png": "[encoded data removed]",
      "text/plain": [
       "<matplotlib.figure.Figure at 0x10eb9a470>"
      ]
     },
     "metadata": {},
     "output_type": "display_data"
    }
   ],
   "source": [
    "plt.plot(df_train['W'][:])\n",
    "plt.show()"
   ]
  },
  {
   "cell_type": "code",
   "execution_count": 8,
   "metadata": {},
   "outputs": [
    {
     "data": {
      "text/plain": [
       "1.5103111618364438"
      ]
     },
     "execution_count": 8,
     "metadata": {},
     "output_type": "execute_result"
    }
   ],
   "source": [
    "df_train['W'][326:393].mean()"
   ]
  },
  {
   "cell_type": "code",
   "execution_count": 9,
   "metadata": {},
   "outputs": [
    {
     "name": "stderr",
     "output_type": "stream",
     "text": [
      "/Users/Muks/anaconda3/lib/python3.6/site-packages/ipykernel/__main__.py:1: SettingWithCopyWarning: \n",
      "A value is trying to be set on a copy of a slice from a DataFrame\n",
      "\n",
      "See the caveats in the documentation: http://pandas.pydata.org/pandas-docs/stable/indexing.html#indexing-view-versus-copy\n",
      "  if __name__ == '__main__':\n"
     ]
    }
   ],
   "source": [
    "df_train['W'][326:396] += df_train['W'][0:1500].mean() - df_train['W'][326:393].mean()"
   ]
  },
  {
   "cell_type": "code",
   "execution_count": 10,
   "metadata": {},
   "outputs": [
    {
     "data": {
      "image/png": "[encoded data removed]",
      "text/plain": [
       "<matplotlib.figure.Figure at 0x11ad84e48>"
      ]
     },
     "metadata": {},
     "output_type": "display_data"
    }
   ],
   "source": [
    "plt.plot(df_train['W'][:])\n",
    "plt.show()"
   ]
  },
  {
   "cell_type": "code",
   "execution_count": 11,
   "metadata": {
    "collapsed": true
   },
   "outputs": [],
   "source": [
    "# convert an array of values into a dataset matrix\n",
    "def create_dataset(dataset, look_back=1):\n",
    "\tdataX, dataY = [], []\n",
    "\tfor i in range(len(dataset)-look_back):\n",
    "\t\ta = dataset[i:(i+look_back)]\n",
    "\t\tdataX.append(a)\n",
    "\t\tdataY.append(dataset[i + look_back, :, 0])\n",
    "\treturn numpy.array(dataX), numpy.array(dataY)"
   ]
  },
  {
   "cell_type": "code",
   "execution_count": 12,
   "metadata": {
    "collapsed": true
   },
   "outputs": [],
   "source": [
    "dataset = df_train.values.reshape((-1, 24, 4))"
   ]
  },
  {
   "cell_type": "code",
   "execution_count": 13,
   "metadata": {},
   "outputs": [
    {
     "data": {
      "text/plain": [
       "(77, 24, 4)"
      ]
     },
     "execution_count": 13,
     "metadata": {},
     "output_type": "execute_result"
    }
   ],
   "source": [
    "dataset.shape"
   ]
  },
  {
   "cell_type": "code",
   "execution_count": 14,
   "metadata": {
    "collapsed": true
   },
   "outputs": [],
   "source": [
    "X, y = create_dataset(dataset, look_back=7)\n",
    "X = X.reshape((X.shape[0], 7, -1))"
   ]
  },
  {
   "cell_type": "code",
   "execution_count": 15,
   "metadata": {},
   "outputs": [
    {
     "data": {
      "text/plain": [
       "((70, 7, 96), (70, 24))"
      ]
     },
     "execution_count": 15,
     "metadata": {},
     "output_type": "execute_result"
    }
   ],
   "source": [
    "X.shape, y.shape"
   ]
  },
  {
   "cell_type": "code",
   "execution_count": 16,
   "metadata": {},
   "outputs": [
    {
     "name": "stderr",
     "output_type": "stream",
     "text": [
      "Using TensorFlow backend.\n"
     ]
    }
   ],
   "source": [
    "from keras.models import Sequential\n",
    "from keras.layers import Dense\n",
    "from keras.layers import LSTM\n",
    "from keras.layers import Input\n",
    "from keras.callbacks import Callback\n",
    "from keras.optimizers import adagrad, adam\n",
    "from sklearn.preprocessing import MinMaxScaler\n",
    "from sklearn.metrics import mean_squared_error\n",
    "from IPython.display import clear_output"
   ]
  },
  {
   "cell_type": "code",
   "execution_count": 17,
   "metadata": {
    "collapsed": true
   },
   "outputs": [],
   "source": [
    "# create and fit the LSTM network\n",
    "model = Sequential()\n",
    "model.add(LSTM(100, input_shape=(7 , 24 * 4)))\n",
    "model.add(Dense(50, activation='relu'))\n",
    "model.add(Dense(24))"
   ]
  },
  {
   "cell_type": "code",
   "execution_count": 18,
   "metadata": {},
   "outputs": [
    {
     "name": "stdout",
     "output_type": "stream",
     "text": [
      "_________________________________________________________________\n",
      "Layer (type)                 Output Shape              Param #   \n",
      "=================================================================\n",
      "lstm_1 (LSTM)                (None, 100)               78800     \n",
      "_________________________________________________________________\n",
      "dense_1 (Dense)              (None, 50)                5050      \n",
      "_________________________________________________________________\n",
      "dense_2 (Dense)              (None, 24)                1224      \n",
      "=================================================================\n",
      "Total params: 85,074\n",
      "Trainable params: 85,074\n",
      "Non-trainable params: 0\n",
      "_________________________________________________________________\n"
     ]
    }
   ],
   "source": [
    "model.summary()"
   ]
  },
  {
   "cell_type": "code",
   "execution_count": 19,
   "metadata": {
    "collapsed": true
   },
   "outputs": [],
   "source": [
    "# model.compile(loss='mean_squared_error', optimizer=adagrad(lr=0.01))\n",
    "model.compile(loss='mean_squared_error', optimizer='adam')"
   ]
  },
  {
   "cell_type": "code",
   "execution_count": 20,
   "metadata": {
    "collapsed": true
   },
   "outputs": [],
   "source": [
    "num_train = 64\n",
    "X_train = X[ : num_train]\n",
    "y_train = y[ : num_train]\n",
    "X_test = X[num_train : ]\n",
    "y_test = y[num_train : ]"
   ]
  },
  {
   "cell_type": "code",
   "execution_count": 21,
   "metadata": {
    "collapsed": true
   },
   "outputs": [],
   "source": [
    "## From https://gist.github.com/stared/dfb4dfaf6d9a8501cd1cc8b8cb806d2e\n",
    "\n",
    "class PlotLosses(Callback):\n",
    "    def on_train_begin(self, logs={}):\n",
    "        self.i = 0\n",
    "        self.x = []\n",
    "        self.losses = []\n",
    "        self.val_losses = []\n",
    "        \n",
    "        self.fig = plt.figure()\n",
    "        \n",
    "        self.logs = []\n",
    "\n",
    "    def on_epoch_end(self, epoch, logs={}):\n",
    "        \n",
    "        self.logs.append(logs)\n",
    "        self.x.append(self.i)\n",
    "        self.losses.append(logs.get('loss'))\n",
    "        self.val_losses.append(logs.get('val_loss'))\n",
    "        self.i += 1\n",
    "        \n",
    "        clear_output(wait=True)\n",
    "        plt.plot(self.x, self.losses, label=\"loss\")\n",
    "        plt.plot(self.x, self.val_losses, label=\"val_loss\")\n",
    "        plt.legend()\n",
    "        plt.show();\n",
    "        \n",
    "plot_losses = PlotLosses()"
   ]
  },
  {
   "cell_type": "code",
   "execution_count": 27,
   "metadata": {},
   "outputs": [
    {
     "data": {
      "image/png": "[encoded data removed]",
      "text/plain": [
       "<matplotlib.figure.Figure at 0x12c420cc0>"
      ]
     },
     "metadata": {},
     "output_type": "display_data"
    },
    {
     "name": "stdout",
     "output_type": "stream",
     "text": [
      "64/64 [==============================] - 0s - loss: 0.1650     \n"
     ]
    },
    {
     "data": {
      "text/plain": [
       "<keras.callbacks.History at 0x128b45470>"
      ]
     },
     "execution_count": 27,
     "metadata": {},
     "output_type": "execute_result"
    }
   ],
   "source": [
    "# model.fit(X_train, y_train, epochs=20, callbacks=[plot_losses], batch_size=4)"
   ]
  },
  {
   "cell_type": "code",
   "execution_count": 31,
   "metadata": {
    "scrolled": true
   },
   "outputs": [
    {
     "data": {
      "image/png": "[encoded data removed]",
      "text/plain": [
       "<matplotlib.figure.Figure at 0x12b98d3c8>"
      ]
     },
     "metadata": {},
     "output_type": "display_data"
    },
    {
     "name": "stdout",
     "output_type": "stream",
     "text": [
      "64/64 [==============================] - 0s - loss: 0.0316 - val_loss: 0.1602\n"
     ]
    }
   ],
   "source": [
    "# history = model.fit(X_train, y_train, epochs=500, validation_data=(X_test, y_test), callbacks=[plot_losses], batch_size=4, initial_epoch=21)"
   ]
  },
  {
   "cell_type": "code",
   "execution_count": 33,
   "metadata": {},
   "outputs": [
    {
     "data": {
      "text/plain": [
       "[0.16041859053075314,\n",
       " 0.17037396249361336,\n",
       " 0.14731158223003149,\n",
       " 0.14975836756639183,\n",
       " 0.14485323335975409,\n",
       " 0.14526178175583482,\n",
       " 0.13738622609525919,\n",
       " 0.14146931353025138,\n",
       " 0.13107382762245834,\n",
       " 0.14005271741189063,\n",
       " 0.13048708345741034,\n",
       " 0.1199723007157445,\n",
       " 0.11768088466487825,\n",
       " 0.12030540825799108,\n",
       " 0.12696011853404343,\n",
       " 0.13855692185461521,\n",
       " 0.14641667925752699,\n",
       " 0.13477752287872136,\n",
       " 0.12412399821914732,\n",
       " 0.11378922057338059,\n",
       " 0.11839232966303825,\n",
       " 0.11354493489488959,\n",
       " 0.10923413909040391,\n",
       " 0.1161244404502213,\n",
       " 0.11406299727968872,\n",
       " 0.10630741342902184,\n",
       " 0.098868431290611625,\n",
       " 0.1118667081464082,\n",
       " 0.10216403007507324,\n",
       " 0.10470817540772259,\n",
       " 0.11720751004759222,\n",
       " 0.10554664942901582,\n",
       " 0.15418845042586327,\n",
       " 0.1222418318502605,\n",
       " 0.11600259318947792,\n",
       " 0.12107434496283531,\n",
       " 0.10957710794173181,\n",
       " 0.1015868466347456,\n",
       " 0.1041385754942894,\n",
       " 0.099820194765925407,\n",
       " 0.10116108856163919,\n",
       " 0.11045190063305199,\n",
       " 0.10532455681823194,\n",
       " 0.095197621732950211,\n",
       " 0.11408213363029063,\n",
       " 0.1120831489097327,\n",
       " 0.11739799077622592,\n",
       " 0.11193899204954505,\n",
       " 0.099595291772857308,\n",
       " 0.094103742623701692,\n",
       " 0.098513487377204001,\n",
       " 0.098577586002647877,\n",
       " 0.093609180534258485,\n",
       " 0.092236930737271905,\n",
       " 0.10395827586762607,\n",
       " 0.092926130164414644,\n",
       " 0.092120068613439798,\n",
       " 0.10103204101324081,\n",
       " 0.095733424881473184,\n",
       " 0.10428803926333785,\n",
       " 0.11102445679716766,\n",
       " 0.086277957307174802,\n",
       " 0.090480448212474585,\n",
       " 0.090644360752776265,\n",
       " 0.091563437134027481,\n",
       " 0.097634761012159288,\n",
       " 0.088144299341365695,\n",
       " 0.089627383626066148,\n",
       " 0.086959825246594846,\n",
       " 0.091595349018462002,\n",
       " 0.090771886985749006,\n",
       " 0.091607398819178343,\n",
       " 0.099907043157145381,\n",
       " 0.099671554053202271,\n",
       " 0.087968280073255301,\n",
       " 0.083249953109771013,\n",
       " 0.095386421657167375,\n",
       " 0.10036733467131853,\n",
       " 0.099482860416173935,\n",
       " 0.098406607285141945,\n",
       " 0.095060525927692652,\n",
       " 0.09458661382086575,\n",
       " 0.083375353249721229,\n",
       " 0.10072934906929731,\n",
       " 0.082755483686923981,\n",
       " 0.087729877326637506,\n",
       " 0.086323184426873922,\n",
       " 0.085087651619687676,\n",
       " 0.078304030117578804,\n",
       " 0.091409716522321105,\n",
       " 0.1163843129761517,\n",
       " 0.08257548522669822,\n",
       " 0.074749696534126997,\n",
       " 0.07940584747120738,\n",
       " 0.073366004857234657,\n",
       " 0.078116872813552618,\n",
       " 0.077106678625568748,\n",
       " 0.075682494323700666,\n",
       " 0.074759237351827323,\n",
       " 0.075476156547665596,\n",
       " 0.072872503777034581,\n",
       " 0.077046450460329652,\n",
       " 0.07457500253804028,\n",
       " 0.072781498311087489,\n",
       " 0.099096048623323441,\n",
       " 0.076714383205398917,\n",
       " 0.075231373775750399,\n",
       " 0.078914725105278194,\n",
       " 0.072702666744589806,\n",
       " 0.081091085565276444,\n",
       " 0.077022429089993238,\n",
       " 0.072851376258768141,\n",
       " 0.076836139895021915,\n",
       " 0.076875466736964881,\n",
       " 0.077158258762210608,\n",
       " 0.085135617759078741,\n",
       " 0.079241423169150949,\n",
       " 0.074754990346264094,\n",
       " 0.071477498859167099,\n",
       " 0.067924013477750123,\n",
       " 0.069015267887152731,\n",
       " 0.069514660863205791,\n",
       " 0.077093971893191338,\n",
       " 0.0794611043529585,\n",
       " 0.070861373096704483,\n",
       " 0.070939506869763136,\n",
       " 0.081550377304665744,\n",
       " 0.069878192618489265,\n",
       " 0.081244716187939048,\n",
       " 0.073223614715971053,\n",
       " 0.075093907187692821,\n",
       " 0.06966688868124038,\n",
       " 0.066980950883589685,\n",
       " 0.074752399465069175,\n",
       " 0.074992563808336854,\n",
       " 0.072475291090086102,\n",
       " 0.066795862163417041,\n",
       " 0.074492702726274729,\n",
       " 0.070620516897179186,\n",
       " 0.080485300277359784,\n",
       " 0.08820965769700706,\n",
       " 0.087164765689522028,\n",
       " 0.074851378565654159,\n",
       " 0.071514602052047849,\n",
       " 0.06651132320985198,\n",
       " 0.06378923449665308,\n",
       " 0.065011936705559492,\n",
       " 0.077760468004271388,\n",
       " 0.066262634703889489,\n",
       " 0.065262315096333623,\n",
       " 0.06030380487209186,\n",
       " 0.063500057905912399,\n",
       " 0.059309798118192703,\n",
       " 0.060398455476388335,\n",
       " 0.061873432714492083,\n",
       " 0.061094888835214078,\n",
       " 0.060366226127371192,\n",
       " 0.056934881373308599,\n",
       " 0.05899224488530308,\n",
       " 0.062280691578052938,\n",
       " 0.058251461712643504,\n",
       " 0.051230182056315243,\n",
       " 0.055098890268709511,\n",
       " 0.053807880030944943,\n",
       " 0.053073642193339765,\n",
       " 0.053854808676987886,\n",
       " 0.052075336687266827,\n",
       " 0.058574871509335935,\n",
       " 0.051450842875055969,\n",
       " 0.055987241910770535,\n",
       " 0.054904415970668197,\n",
       " 0.064871814334765077,\n",
       " 0.056095977313816547,\n",
       " 0.058164021233096719,\n",
       " 0.053766856784932315,\n",
       " 0.057040905114263296,\n",
       " 0.051767888362519443,\n",
       " 0.049652454094029963,\n",
       " 0.049301067017950118,\n",
       " 0.051199052482843399,\n",
       " 0.049495630315504968,\n",
       " 0.056541241006925702,\n",
       " 0.059780337032862008,\n",
       " 0.055351571238134056,\n",
       " 0.052811226109042764,\n",
       " 0.05208662012591958,\n",
       " 0.050147507223300636,\n",
       " 0.055034407181665301,\n",
       " 0.06442484981380403,\n",
       " 0.057648458052426577,\n",
       " 0.074298742227256298,\n",
       " 0.059973378083668649,\n",
       " 0.05852892342954874,\n",
       " 0.050633999402634799,\n",
       " 0.052110209129750729,\n",
       " 0.054928220226429403,\n",
       " 0.052372633654158562,\n",
       " 0.047648163978010416,\n",
       " 0.049564545683097094,\n",
       " 0.054390238714404404,\n",
       " 0.066152351209893823,\n",
       " 0.072227645781822503,\n",
       " 0.062951390049420297,\n",
       " 0.061006656847894192,\n",
       " 0.055381889105774462,\n",
       " 0.049114353663753718,\n",
       " 0.050825194688513875,\n",
       " 0.058567899570334703,\n",
       " 0.053653341834433377,\n",
       " 0.050146537832915783,\n",
       " 0.052938985289074481,\n",
       " 0.05084298929432407,\n",
       " 0.04637892497703433,\n",
       " 0.046853178064338863,\n",
       " 0.04750879155471921,\n",
       " 0.048120471299625933,\n",
       " 0.046684468863531947,\n",
       " 0.044718542834743857,\n",
       " 0.047450880752876401,\n",
       " 0.045575652970001101,\n",
       " 0.045874351635575294,\n",
       " 0.04767716396600008,\n",
       " 0.048832278000190854,\n",
       " 0.043998387292958796,\n",
       " 0.048346693685743958,\n",
       " 0.045242226682603359,\n",
       " 0.044260593072976917,\n",
       " 0.044971658498980105,\n",
       " 0.047455191845074296,\n",
       " 0.04926086706109345,\n",
       " 0.048500939388759434,\n",
       " 0.04595702385995537,\n",
       " 0.041496931109577417,\n",
       " 0.045844562933780253,\n",
       " 0.044547644094564021,\n",
       " 0.043435200466774404,\n",
       " 0.048620697518344969,\n",
       " 0.044782983954064548,\n",
       " 0.043029110063798726,\n",
       " 0.042670565075241029,\n",
       " 0.043399832677096128,\n",
       " 0.042149068904109299,\n",
       " 0.04258272226434201,\n",
       " 0.045507057453505695,\n",
       " 0.041579726617783308,\n",
       " 0.047665139078162611,\n",
       " 0.046347892610356212,\n",
       " 0.049122740514576435,\n",
       " 0.042201914358884096,\n",
       " 0.040544743416830897,\n",
       " 0.046424613683484495,\n",
       " 0.042797618778422475,\n",
       " 0.046806017344351858,\n",
       " 0.047178859706036747,\n",
       " 0.043357152841053903,\n",
       " 0.049050618661567569,\n",
       " 0.044093266013078392,\n",
       " 0.048846965073607862,\n",
       " 0.045739783556200564,\n",
       " 0.044134593103080988,\n",
       " 0.042147746891714633,\n",
       " 0.042779257521033287,\n",
       " 0.041606279381085187,\n",
       " 0.040071301104035228,\n",
       " 0.051276007434353232,\n",
       " 0.045261631137691438,\n",
       " 0.04089414153713733,\n",
       " 0.042526719509623945,\n",
       " 0.042555861873552203,\n",
       " 0.042220857576467097,\n",
       " 0.041348423110321164,\n",
       " 0.043306044186465442,\n",
       " 0.041201498999726027,\n",
       " 0.040281111840158701,\n",
       " 0.043492029886692762,\n",
       " 0.053434459958225489,\n",
       " 0.056385054718703032,\n",
       " 0.044115444994531572,\n",
       " 0.04072175978217274,\n",
       " 0.046503661200404167,\n",
       " 0.048696270445361733,\n",
       " 0.042542285984382033,\n",
       " 0.038653164636343718,\n",
       " 0.038768291473388672,\n",
       " 0.041312355897389352,\n",
       " 0.03956370014930144,\n",
       " 0.039184729335829616,\n",
       " 0.038785173674114048,\n",
       " 0.038767517544329166,\n",
       " 0.037588191218674183,\n",
       " 0.041252863418776542,\n",
       " 0.045164127601310611,\n",
       " 0.053335764328949153,\n",
       " 0.04321190295740962,\n",
       " 0.041662550007458776,\n",
       " 0.038475962006486952,\n",
       " 0.042142939288169146,\n",
       " 0.040531972539611161,\n",
       " 0.038454563589766622,\n",
       " 0.050086211762391031,\n",
       " 0.0413444185978733,\n",
       " 0.0444997827289626,\n",
       " 0.038471238454803824,\n",
       " 0.038119751610793173,\n",
       " 0.037821646896190941,\n",
       " 0.040706152329221368,\n",
       " 0.038516709115356207,\n",
       " 0.042688043904490769,\n",
       " 0.039920702343806624,\n",
       " 0.039713128062430769,\n",
       " 0.040341876214370131,\n",
       " 0.04251554817892611,\n",
       " 0.039043549099005759,\n",
       " 0.047640338307246566,\n",
       " 0.046352962031960487,\n",
       " 0.03975805570371449,\n",
       " 0.039692566730082035,\n",
       " 0.041368754580616951,\n",
       " 0.046337912324815989,\n",
       " 0.042836169479414821,\n",
       " 0.041241990984417498,\n",
       " 0.041281062527559698,\n",
       " 0.044536052737385035,\n",
       " 0.04600820189807564,\n",
       " 0.056862079305574298,\n",
       " 0.04374223540071398,\n",
       " 0.039831205096561462,\n",
       " 0.042248195153661072,\n",
       " 0.049688289407640696,\n",
       " 0.043114695581607521,\n",
       " 0.041060519521124661,\n",
       " 0.047453479492105544,\n",
       " 0.04090597975300625,\n",
       " 0.041470950003713369,\n",
       " 0.039344334043562412,\n",
       " 0.042724677361547947,\n",
       " 0.057380676851607859,\n",
       " 0.04402169759850949,\n",
       " 0.040956988465040922,\n",
       " 0.041309520951472223,\n",
       " 0.042917080805636942,\n",
       " 0.038233432511333376,\n",
       " 0.038204658194445074,\n",
       " 0.039521925151348114,\n",
       " 0.042590421682689339,\n",
       " 0.040034618636127561,\n",
       " 0.045262775965966284,\n",
       " 0.041365543729625642,\n",
       " 0.036960191442631185,\n",
       " 0.042495350120589137,\n",
       " 0.045434239786118269,\n",
       " 0.043233638978563249,\n",
       " 0.049382442608475685,\n",
       " 0.038411071291193366,\n",
       " 0.038948100642301142,\n",
       " 0.040480560215655714,\n",
       " 0.04084753361530602,\n",
       " 0.037411716708447784,\n",
       " 0.042479071475099772,\n",
       " 0.0422093610977754,\n",
       " 0.0364327312563546,\n",
       " 0.039436174207367003,\n",
       " 0.04895840841345489,\n",
       " 0.03721449407748878,\n",
       " 0.0361066535115242,\n",
       " 0.035588823026046157,\n",
       " 0.041363641270436347,\n",
       " 0.035595474997535348,\n",
       " 0.037844257021788508,\n",
       " 0.037200409919023514,\n",
       " 0.037583846948109567,\n",
       " 0.039501514285802841,\n",
       " 0.038459128118120134,\n",
       " 0.037595392263028771,\n",
       " 0.037314229994080961,\n",
       " 0.038526448712218553,\n",
       " 0.03443114273250103,\n",
       " 0.040620237705297768,\n",
       " 0.042221936280839145,\n",
       " 0.037214397161733359,\n",
       " 0.044952954107429832,\n",
       " 0.043648262973874807,\n",
       " 0.035023113829083741,\n",
       " 0.037396815256215632,\n",
       " 0.037330739200115204,\n",
       " 0.036888043046928942,\n",
       " 0.036412897694390267,\n",
       " 0.038054145232308656,\n",
       " 0.043825851636938751,\n",
       " 0.037578364659566432,\n",
       " 0.038335531367920339,\n",
       " 0.035825714818201959,\n",
       " 0.036128336098045111,\n",
       " 0.039649203536100686,\n",
       " 0.038753582048229873,\n",
       " 0.035507386084645987,\n",
       " 0.039748730137944221,\n",
       " 0.041281393205281347,\n",
       " 0.035763209802098572,\n",
       " 0.038572266697883606,\n",
       " 0.033988918119575828,\n",
       " 0.034443914424628019,\n",
       " 0.034399893891531974,\n",
       " 0.035660383058711886,\n",
       " 0.037767210451420397,\n",
       " 0.035645299358293414,\n",
       " 0.036124129255767912,\n",
       " 0.03332476579817012,\n",
       " 0.041915432782843709,\n",
       " 0.037430397584103048,\n",
       " 0.035107757663354278,\n",
       " 0.033796041447203606,\n",
       " 0.03512437385506928,\n",
       " 0.03642726392718032,\n",
       " 0.040206462435889989,\n",
       " 0.039798148907721043,\n",
       " 0.040645869565196335,\n",
       " 0.042100691818632185,\n",
       " 0.038160458381753415,\n",
       " 0.038665286672767252,\n",
       " 0.03640007326612249,\n",
       " 0.033889593905769289,\n",
       " 0.037083322706166655,\n",
       " 0.03501075180247426,\n",
       " 0.034663300088141114,\n",
       " 0.035130033444147557,\n",
       " 0.035244877508375794,\n",
       " 0.033931943587958813,\n",
       " 0.033706602407619357,\n",
       " 0.035754086100496352,\n",
       " 0.037353311607148498,\n",
       " 0.035376221756450832,\n",
       " 0.034461511648260057,\n",
       " 0.036363139748573303,\n",
       " 0.037594259541947395,\n",
       " 0.033006145327817649,\n",
       " 0.034488342993427068,\n",
       " 0.035328302066773176,\n",
       " 0.03238395816879347,\n",
       " 0.034360100806225091,\n",
       " 0.035496769531164318,\n",
       " 0.035788638168014586,\n",
       " 0.03731230681296438,\n",
       " 0.033506387379020452,\n",
       " 0.033636065840255469,\n",
       " 0.034157640940975398,\n",
       " 0.035635179548989981,\n",
       " 0.037853818503208458,\n",
       " 0.034960942401085049,\n",
       " 0.035751045565120876,\n",
       " 0.035283776989672333,\n",
       " 0.034713706059847027,\n",
       " 0.037823244987521321,\n",
       " 0.039482726017013192,\n",
       " 0.041175733087584376,\n",
       " 0.037527380394749343,\n",
       " 0.034268792485818267,\n",
       " 0.039536811062134802,\n",
       " 0.037834100949112326,\n",
       " 0.035968425159808248,\n",
       " 0.036037591053172946,\n",
       " 0.036222526454366744,\n",
       " 0.03436598478583619,\n",
       " 0.03992841619765386,\n",
       " 0.03903957357397303,\n",
       " 0.032942617253866047,\n",
       " 0.034452856052666903,\n",
       " 0.035056296910624951,\n",
       " 0.03315949416719377,\n",
       " 0.030770586105063558,\n",
       " 0.033332097344100475,\n",
       " 0.033360669680405408,\n",
       " 0.034177379333414137,\n",
       " 0.036497058405075222,\n",
       " 0.035934222512878478,\n",
       " 0.034605512977577746,\n",
       " 0.03595912508899346,\n",
       " 0.03254532819846645,\n",
       " 0.031606843404006213]"
      ]
     },
     "execution_count": 33,
     "metadata": {},
     "output_type": "execute_result"
    }
   ],
   "source": [
    "history.history['loss']"
   ]
  },
  {
   "cell_type": "code",
   "execution_count": 24,
   "metadata": {
    "collapsed": true
   },
   "outputs": [],
   "source": [
    "y_pred = model.predict(X)"
   ]
  },
  {
   "cell_type": "code",
   "execution_count": 27,
   "metadata": {
    "scrolled": false
   },
   "outputs": [
    {
     "name": "stderr",
     "output_type": "stream",
     "text": [
      "/Users/Muks/anaconda3/lib/python3.6/site-packages/matplotlib/axes/_axes.py:545: UserWarning: No labelled objects found. Use label='...' kwarg on individual plots.\n",
      "  warnings.warn(\"No labelled objects found. \"\n"
     ]
    },
    {
     "data": {
      "image/png": "[encoded data removed]",
      "text/plain": [
       "<matplotlib.figure.Figure at 0x12aacf470>"
      ]
     },
     "metadata": {},
     "output_type": "display_data"
    },
    {
     "name": "stdout",
     "output_type": "stream",
     "text": [
      "Average rms error =  24036.8776023\n",
      "Average percentage error =  4.27224236212 %\n"
     ]
    }
   ],
   "source": [
    "plt.plot(y_pred[-7:].flatten() * std['W'])\n",
    "plt.plot(y[-7:].flatten() * std['W'])\n",
    "plt.axes().get_xaxis().set_ticks([])\n",
    "orange_patch = mpatches.Patch(color='orange', label='Actual Values')\n",
    "blue_patch = mpatches.Patch(color='#1f77b4', label='Predictions')\n",
    "plt.xlabel('DateTime - 11th to 17th Jan')\n",
    "plt.ylabel('W (Active power, total)')\n",
    "plt.legend(handles=[orange_patch, blue_patch])\n",
    "plt.legend()\n",
    "plt.show()\n",
    "print(\"Average rms error = \", 24036.8776023)\n",
    "print(\"Average percentage error = \", 0.0427224236212 * 100,  \"%\")"
   ]
  },
  {
   "cell_type": "code",
   "execution_count": 38,
   "metadata": {},
   "outputs": [
    {
     "data": {
      "image/png": "[encoded data removed]",
      "text/plain": [
       "<matplotlib.figure.Figure at 0x12ca9ada0>"
      ]
     },
     "metadata": {},
     "output_type": "display_data"
    }
   ],
   "source": [
    "plt.plot(y_pred.flatten()[-21*24:-20*24])\n",
    "plt.plot(y.flatten()[-21*24:-20*24])\n",
    "plt.show()"
   ]
  },
  {
   "cell_type": "code",
   "execution_count": 39,
   "metadata": {},
   "outputs": [
    {
     "name": "stdout",
     "output_type": "stream",
     "text": [
      "6/6 [==============================] - 0s\n",
      "24036.8776023\n",
      "0.0427224236212\n"
     ]
    }
   ],
   "source": [
    "rmse_test = model.evaluate(X_test, y_test)\n",
    "print(rmse_test * std['W'])\n",
    "print(rmse_test * std['W']/562629.0730947304)"
   ]
  },
  {
   "cell_type": "code",
   "execution_count": 40,
   "metadata": {
    "collapsed": true
   },
   "outputs": [],
   "source": [
    "model.compile(loss='mean_squared_error', optimizer=adagrad(lr=0.1))"
   ]
  },
  {
   "cell_type": "code",
   "execution_count": 23,
   "metadata": {
    "collapsed": true
   },
   "outputs": [],
   "source": [
    "model.load_weights('model_weights_new_input.h5')"
   ]
  },
  {
   "cell_type": "code",
   "execution_count": 60,
   "metadata": {
    "collapsed": true
   },
   "outputs": [],
   "source": [
    "testData = df_test.values"
   ]
  },
  {
   "cell_type": "code",
   "execution_count": 61,
   "metadata": {},
   "outputs": [
    {
     "data": {
      "text/plain": [
       "(264, 3)"
      ]
     },
     "execution_count": 61,
     "metadata": {},
     "output_type": "execute_result"
    }
   ],
   "source": [
    "testData.shape"
   ]
  },
  {
   "cell_type": "code",
   "execution_count": 62,
   "metadata": {},
   "outputs": [
    {
     "data": {
      "text/plain": [
       "array([[ 3.4,  1.4,  0. ],\n",
       "       [ 3.4,  1.4,  0. ],\n",
       "       [ 3.4,  1.4,  0. ],\n",
       "       [ 3.4,  1.4,  0. ],\n",
       "       [ 3.4,  1.4,  0. ],\n",
       "       [ 3.4,  1.4,  0. ],\n",
       "       [ 3.4,  1.4,  0. ],\n",
       "       [ 3.4,  1.4,  0. ],\n",
       "       [ 3.4,  1.4,  0. ],\n",
       "       [ 3.4,  1.4,  0. ],\n",
       "       [ 3.4,  1.4,  0. ],\n",
       "       [ 3.4,  1.4,  0. ],\n",
       "       [ 3.4,  1.4,  0. ],\n",
       "       [ 3.4,  1.4,  0. ],\n",
       "       [ 3.4,  1.4,  0. ],\n",
       "       [ 3.4,  1.4,  0. ],\n",
       "       [ 3.4,  1.4,  0. ],\n",
       "       [ 3.4,  1.4,  0. ],\n",
       "       [ 3.4,  1.4,  0. ],\n",
       "       [ 3.4,  1.4,  0. ],\n",
       "       [ 3.4,  1.4,  0. ],\n",
       "       [ 3.4,  1.4,  0. ],\n",
       "       [ 3.4,  1.4,  0. ],\n",
       "       [ 3.4,  1.4,  0. ],\n",
       "       [ 3.8,  1.6,  0. ],\n",
       "       [ 3.8,  1.6,  0. ],\n",
       "       [ 3.8,  1.6,  0. ],\n",
       "       [ 3.8,  1.6,  0. ],\n",
       "       [ 3.8,  1.6,  0. ],\n",
       "       [ 3.8,  1.6,  0. ],\n",
       "       [ 3.8,  1.6,  0. ],\n",
       "       [ 3.8,  1.6,  0. ],\n",
       "       [ 3.8,  1.6,  0. ],\n",
       "       [ 3.8,  1.6,  0. ],\n",
       "       [ 3.8,  1.6,  0. ],\n",
       "       [ 3.8,  1.6,  0. ],\n",
       "       [ 3.8,  1.6,  0. ],\n",
       "       [ 3.8,  1.6,  0. ],\n",
       "       [ 3.8,  1.6,  0. ],\n",
       "       [ 3.8,  1.6,  0. ],\n",
       "       [ 3.8,  1.6,  0. ],\n",
       "       [ 3.8,  1.6,  0. ],\n",
       "       [ 3.8,  1.6,  0. ],\n",
       "       [ 3.8,  1.6,  0. ],\n",
       "       [ 3.8,  1.6,  0. ],\n",
       "       [ 3.8,  1.6,  0. ],\n",
       "       [ 3.8,  1.6,  0. ],\n",
       "       [ 3.8,  1.6,  0. ],\n",
       "       [ 3.8,  1.4,  0. ],\n",
       "       [ 3.8,  1.4,  0. ],\n",
       "       [ 3.8,  1.4,  0. ],\n",
       "       [ 3.8,  1.4,  0. ],\n",
       "       [ 3.8,  1.4,  0. ],\n",
       "       [ 3.8,  1.4,  0. ],\n",
       "       [ 3.8,  1.4,  0. ],\n",
       "       [ 3.8,  1.4,  0. ],\n",
       "       [ 3.8,  1.4,  0. ],\n",
       "       [ 3.8,  1.4,  0. ],\n",
       "       [ 3.8,  1.4,  0. ],\n",
       "       [ 3.8,  1.4,  0. ],\n",
       "       [ 3.8,  1.4,  0. ],\n",
       "       [ 3.8,  1.4,  0. ],\n",
       "       [ 3.8,  1.4,  0. ],\n",
       "       [ 3.8,  1.4,  0. ],\n",
       "       [ 3.8,  1.4,  0. ],\n",
       "       [ 3.8,  1.4,  0. ],\n",
       "       [ 3.8,  1.4,  0. ],\n",
       "       [ 3.8,  1.4,  0. ],\n",
       "       [ 3.8,  1.4,  0. ],\n",
       "       [ 3.8,  1.4,  0. ],\n",
       "       [ 3.8,  1.4,  0. ],\n",
       "       [ 3.8,  1.4,  0. ],\n",
       "       [ 3.6,  1.6,  1. ],\n",
       "       [ 3.6,  1.6,  1. ],\n",
       "       [ 3.6,  1.6,  1. ],\n",
       "       [ 3.6,  1.6,  1. ],\n",
       "       [ 3.6,  1.6,  1. ],\n",
       "       [ 3.6,  1.6,  1. ],\n",
       "       [ 3.6,  1.6,  1. ],\n",
       "       [ 3.6,  1.6,  1. ],\n",
       "       [ 3.6,  1.6,  1. ],\n",
       "       [ 3.6,  1.6,  1. ],\n",
       "       [ 3.6,  1.6,  1. ],\n",
       "       [ 3.6,  1.6,  1. ],\n",
       "       [ 3.6,  1.6,  1. ],\n",
       "       [ 3.6,  1.6,  1. ],\n",
       "       [ 3.6,  1.6,  1. ],\n",
       "       [ 3.6,  1.6,  1. ],\n",
       "       [ 3.6,  1.6,  1. ],\n",
       "       [ 3.6,  1.6,  1. ],\n",
       "       [ 3.6,  1.6,  1. ],\n",
       "       [ 3.6,  1.6,  1. ],\n",
       "       [ 3.6,  1.6,  1. ],\n",
       "       [ 3.6,  1.6,  1. ],\n",
       "       [ 3.6,  1.6,  1. ],\n",
       "       [ 3.6,  1.6,  1. ],\n",
       "       [ 4.4,  1.6,  1. ],\n",
       "       [ 4.4,  1.6,  1. ],\n",
       "       [ 4.4,  1.6,  1. ],\n",
       "       [ 4.4,  1.6,  1. ],\n",
       "       [ 4.4,  1.6,  1. ],\n",
       "       [ 4.4,  1.6,  1. ],\n",
       "       [ 4.4,  1.6,  1. ],\n",
       "       [ 4.4,  1.6,  1. ],\n",
       "       [ 4.4,  1.6,  1. ],\n",
       "       [ 4.4,  1.6,  1. ],\n",
       "       [ 4.4,  1.6,  1. ],\n",
       "       [ 4.4,  1.6,  1. ],\n",
       "       [ 4.4,  1.6,  1. ],\n",
       "       [ 4.4,  1.6,  1. ],\n",
       "       [ 4.4,  1.6,  1. ],\n",
       "       [ 4.4,  1.6,  1. ],\n",
       "       [ 4.4,  1.6,  1. ],\n",
       "       [ 4.4,  1.6,  1. ],\n",
       "       [ 4.4,  1.6,  1. ],\n",
       "       [ 4.4,  1.6,  1. ],\n",
       "       [ 4.4,  1.6,  1. ],\n",
       "       [ 4.4,  1.6,  1. ],\n",
       "       [ 4.4,  1.6,  1. ],\n",
       "       [ 4.4,  1.6,  1. ],\n",
       "       [ 4.4,  1.4,  0. ],\n",
       "       [ 4.4,  1.4,  0. ],\n",
       "       [ 4.4,  1.4,  0. ],\n",
       "       [ 4.4,  1.4,  0. ],\n",
       "       [ 4.4,  1.4,  0. ],\n",
       "       [ 4.4,  1.4,  0. ],\n",
       "       [ 4.4,  1.4,  0. ],\n",
       "       [ 4.4,  1.4,  0. ],\n",
       "       [ 4.4,  1.4,  0. ],\n",
       "       [ 4.4,  1.4,  0. ],\n",
       "       [ 4.4,  1.4,  0. ],\n",
       "       [ 4.4,  1.4,  0. ],\n",
       "       [ 4.4,  1.4,  0. ],\n",
       "       [ 4.4,  1.4,  0. ],\n",
       "       [ 4.4,  1.4,  0. ],\n",
       "       [ 4.4,  1.4,  0. ],\n",
       "       [ 4.4,  1.4,  0. ],\n",
       "       [ 4.4,  1.4,  0. ],\n",
       "       [ 4.4,  1.4,  0. ],\n",
       "       [ 4.4,  1.4,  0. ],\n",
       "       [ 4.4,  1.4,  0. ],\n",
       "       [ 4.4,  1.4,  0. ],\n",
       "       [ 4.4,  1.4,  0. ],\n",
       "       [ 4.4,  1.4,  0. ],\n",
       "       [ 5. ,  1.4,  0. ],\n",
       "       [ 5. ,  1.4,  0. ],\n",
       "       [ 5. ,  1.4,  0. ],\n",
       "       [ 5. ,  1.4,  0. ],\n",
       "       [ 5. ,  1.4,  0. ],\n",
       "       [ 5. ,  1.4,  0. ],\n",
       "       [ 5. ,  1.4,  0. ],\n",
       "       [ 5. ,  1.4,  0. ],\n",
       "       [ 5. ,  1.4,  0. ],\n",
       "       [ 5. ,  1.4,  0. ],\n",
       "       [ 5. ,  1.4,  0. ],\n",
       "       [ 5. ,  1.4,  0. ],\n",
       "       [ 5. ,  1.4,  0. ],\n",
       "       [ 5. ,  1.4,  0. ],\n",
       "       [ 5. ,  1.4,  0. ],\n",
       "       [ 5. ,  1.4,  0. ],\n",
       "       [ 5. ,  1.4,  0. ],\n",
       "       [ 5. ,  1.4,  0. ],\n",
       "       [ 5. ,  1.4,  0. ],\n",
       "       [ 5. ,  1.4,  0. ],\n",
       "       [ 5. ,  1.4,  0. ],\n",
       "       [ 5. ,  1.4,  0. ],\n",
       "       [ 5. ,  1.4,  0. ],\n",
       "       [ 5. ,  1.4,  0. ],\n",
       "       [ 5. ,  2. ,  0. ],\n",
       "       [ 5. ,  2. ,  0. ],\n",
       "       [ 5. ,  2. ,  0. ],\n",
       "       [ 5. ,  2. ,  0. ],\n",
       "       [ 5. ,  2. ,  0. ],\n",
       "       [ 5. ,  2. ,  0. ],\n",
       "       [ 5. ,  2. ,  0. ],\n",
       "       [ 5. ,  2. ,  0. ],\n",
       "       [ 5. ,  2. ,  0. ],\n",
       "       [ 5. ,  2. ,  0. ],\n",
       "       [ 5. ,  2. ,  0. ],\n",
       "       [ 5. ,  2. ,  0. ],\n",
       "       [ 5. ,  2. ,  0. ],\n",
       "       [ 5. ,  2. ,  0. ],\n",
       "       [ 5. ,  2. ,  0. ],\n",
       "       [ 5. ,  2. ,  0. ],\n",
       "       [ 5. ,  2. ,  0. ],\n",
       "       [ 5. ,  2. ,  0. ],\n",
       "       [ 5. ,  2. ,  0. ],\n",
       "       [ 5. ,  2. ,  0. ],\n",
       "       [ 5. ,  2. ,  0. ],\n",
       "       [ 5. ,  2. ,  0. ],\n",
       "       [ 5. ,  2. ,  0. ],\n",
       "       [ 5. ,  2. ,  0. ],\n",
       "       [ 4.6,  2. ,  0. ],\n",
       "       [ 4.6,  2. ,  0. ],\n",
       "       [ 4.6,  2. ,  0. ],\n",
       "       [ 4.6,  2. ,  0. ],\n",
       "       [ 4.6,  2. ,  0. ],\n",
       "       [ 4.6,  2. ,  0. ],\n",
       "       [ 4.6,  2. ,  0. ],\n",
       "       [ 4.6,  2. ,  0. ],\n",
       "       [ 4.6,  2. ,  0. ],\n",
       "       [ 4.6,  2. ,  0. ],\n",
       "       [ 4.6,  2. ,  0. ],\n",
       "       [ 4.6,  2. ,  0. ],\n",
       "       [ 4.6,  2. ,  0. ],\n",
       "       [ 4.6,  2. ,  0. ],\n",
       "       [ 4.6,  2. ,  0. ],\n",
       "       [ 4.6,  2. ,  0. ],\n",
       "       [ 4.6,  2. ,  0. ],\n",
       "       [ 4.6,  2. ,  0. ],\n",
       "       [ 4.6,  2. ,  0. ],\n",
       "       [ 4.6,  2. ,  0. ],\n",
       "       [ 4.6,  2. ,  0. ],\n",
       "       [ 4.6,  2. ,  0. ],\n",
       "       [ 4.6,  2. ,  0. ],\n",
       "       [ 4.6,  2. ,  0. ],\n",
       "       [ 3.6,  2.2,  0. ],\n",
       "       [ 3.6,  2.2,  0. ],\n",
       "       [ 3.6,  2.2,  0. ],\n",
       "       [ 3.6,  2.2,  0. ],\n",
       "       [ 3.6,  2.2,  0. ],\n",
       "       [ 3.6,  2.2,  0. ],\n",
       "       [ 3.6,  2.2,  0. ],\n",
       "       [ 3.6,  2.2,  0. ],\n",
       "       [ 3.6,  2.2,  0. ],\n",
       "       [ 3.6,  2.2,  0. ],\n",
       "       [ 3.6,  2.2,  0. ],\n",
       "       [ 3.6,  2.2,  0. ],\n",
       "       [ 3.6,  2.2,  0. ],\n",
       "       [ 3.6,  2.2,  0. ],\n",
       "       [ 3.6,  2.2,  0. ],\n",
       "       [ 3.6,  2.2,  0. ],\n",
       "       [ 3.6,  2.2,  0. ],\n",
       "       [ 3.6,  2.2,  0. ],\n",
       "       [ 3.6,  2.2,  0. ],\n",
       "       [ 3.6,  2.2,  0. ],\n",
       "       [ 3.6,  2.2,  0. ],\n",
       "       [ 3.6,  2.2,  0. ],\n",
       "       [ 3.6,  2.2,  0. ],\n",
       "       [ 3.6,  2.2,  0. ],\n",
       "       [ 4.6,  1.6,  1. ],\n",
       "       [ 4.6,  1.6,  1. ],\n",
       "       [ 4.6,  1.6,  1. ],\n",
       "       [ 4.6,  1.6,  1. ],\n",
       "       [ 4.6,  1.6,  1. ],\n",
       "       [ 4.6,  1.6,  1. ],\n",
       "       [ 4.6,  1.6,  1. ],\n",
       "       [ 4.6,  1.6,  1. ],\n",
       "       [ 4.6,  1.6,  1. ],\n",
       "       [ 4.6,  1.6,  1. ],\n",
       "       [ 4.6,  1.6,  1. ],\n",
       "       [ 4.6,  1.6,  1. ],\n",
       "       [ 4.6,  1.6,  1. ],\n",
       "       [ 4.6,  1.6,  1. ],\n",
       "       [ 4.6,  1.6,  1. ],\n",
       "       [ 4.6,  1.6,  1. ],\n",
       "       [ 4.6,  1.6,  1. ],\n",
       "       [ 4.6,  1.6,  1. ],\n",
       "       [ 4.6,  1.6,  1. ],\n",
       "       [ 4.6,  1.6,  1. ],\n",
       "       [ 4.6,  1.6,  1. ],\n",
       "       [ 4.6,  1.6,  1. ],\n",
       "       [ 4.6,  1.6,  1. ],\n",
       "       [ 4.6,  1.6,  1. ]])"
      ]
     },
     "execution_count": 62,
     "metadata": {},
     "output_type": "execute_result"
    }
   ],
   "source": [
    "testData"
   ]
  },
  {
   "cell_type": "code",
   "execution_count": 63,
   "metadata": {
    "collapsed": true
   },
   "outputs": [],
   "source": [
    "X_prev = X[-1:]\n",
    "y_prev = model.predict(X_prev)"
   ]
  },
  {
   "cell_type": "code",
   "execution_count": 64,
   "metadata": {},
   "outputs": [
    {
     "data": {
      "text/plain": [
       "(1, 24)"
      ]
     },
     "execution_count": 64,
     "metadata": {},
     "output_type": "execute_result"
    }
   ],
   "source": [
    "y_prev.shape"
   ]
  },
  {
   "cell_type": "code",
   "execution_count": 65,
   "metadata": {},
   "outputs": [
    {
     "data": {
      "text/plain": [
       "(24, 1)"
      ]
     },
     "execution_count": 65,
     "metadata": {},
     "output_type": "execute_result"
    }
   ],
   "source": [
    "i = 0\n",
    "# testData[i*24: (i+1)*24].shape\n",
    "y_prev = model.predict(X_prev)\n",
    "y_prev.T.shape"
   ]
  },
  {
   "cell_type": "code",
   "execution_count": 66,
   "metadata": {},
   "outputs": [
    {
     "data": {
      "text/plain": [
       "(24, 3)"
      ]
     },
     "execution_count": 66,
     "metadata": {},
     "output_type": "execute_result"
    }
   ],
   "source": [
    "testData[i*24: (i+1)*24].shape"
   ]
  },
  {
   "cell_type": "code",
   "execution_count": 67,
   "metadata": {
    "collapsed": true
   },
   "outputs": [],
   "source": [
    "X_add = np.concatenate((y_prev.T, testData[i*24: (i+1)*24]), axis=1).reshape((1, 1, 24 * 4))"
   ]
  },
  {
   "cell_type": "code",
   "execution_count": 68,
   "metadata": {},
   "outputs": [
    {
     "data": {
      "text/plain": [
       "(1, 1, 96)"
      ]
     },
     "execution_count": 68,
     "metadata": {},
     "output_type": "execute_result"
    }
   ],
   "source": [
    "X_add.shape"
   ]
  },
  {
   "cell_type": "code",
   "execution_count": 69,
   "metadata": {},
   "outputs": [
    {
     "data": {
      "text/plain": [
       "(1, 6, 96)"
      ]
     },
     "execution_count": 69,
     "metadata": {},
     "output_type": "execute_result"
    }
   ],
   "source": [
    "X_prev[:, 1:].shape"
   ]
  },
  {
   "cell_type": "code",
   "execution_count": 70,
   "metadata": {},
   "outputs": [
    {
     "data": {
      "text/plain": [
       "(1, 7, 96)"
      ]
     },
     "execution_count": 70,
     "metadata": {},
     "output_type": "execute_result"
    }
   ],
   "source": [
    "np.concatenate((X_prev[:, 1:], X_add), axis=1).shape"
   ]
  },
  {
   "cell_type": "code",
   "execution_count": 74,
   "metadata": {
    "collapsed": true
   },
   "outputs": [],
   "source": [
    "to_predict = 11\n",
    "X_prev = X[-1:]\n",
    "preds = []\n",
    "for i in range(to_predict):\n",
    "    y_prev = model.predict(X_prev)\n",
    "    preds.append(y_prev)\n",
    "    X_add = np.concatenate((y_prev.T, testData[i*24: (i+1)*24]), axis=1).reshape((1, 1, 24 * 4))\n",
    "    X_prev = np.concatenate((X_prev[:, 1:], X_add), axis=1)"
   ]
  },
  {
   "cell_type": "code",
   "execution_count": 75,
   "metadata": {
    "collapsed": true
   },
   "outputs": [],
   "source": [
    "preds = np.asarray(preds).flatten()"
   ]
  },
  {
   "cell_type": "code",
   "execution_count": 76,
   "metadata": {},
   "outputs": [
    {
     "data": {
      "image/png": "[encoded data removed]",
      "text/plain": [
       "<matplotlib.figure.Figure at 0x12c747e80>"
      ]
     },
     "metadata": {},
     "output_type": "display_data"
    }
   ],
   "source": [
    "plt.plot(preds)\n",
    "plt.show()"
   ]
  },
  {
   "cell_type": "code",
   "execution_count": 79,
   "metadata": {},
   "outputs": [
    {
     "data": {
      "image/png": "[encoded data removed]",
      "text/plain": [
       "<matplotlib.figure.Figure at 0x12cb51c88>"
      ]
     },
     "metadata": {},
     "output_type": "display_data"
    }
   ],
   "source": [
    "preds = preds * std['W']\n",
    "plt.plot(preds)\n",
    "plt.show()"
   ]
  },
  {
   "cell_type": "code",
   "execution_count": 80,
   "metadata": {
    "scrolled": true
   },
   "outputs": [
    {
     "data": {
      "text/plain": [
       "array([  801261.5   ,   750811.875 ,   738063.75  ,   711612.0625,\n",
       "         717217.125 ,   736334.125 ,   698959.375 ,   715651.6875,\n",
       "         817172.6875,   978939.    ,  1051984.125 ,  1085860.5   ,\n",
       "        1095305.    ,  1039715.3125,  1077374.375 ,  1026965.375 ,\n",
       "        1048005.0625,  1058992.5   ,  1034953.25  ,  1013822.375 ,\n",
       "         982562.75  ,   992253.125 ,   952754.125 ,   899528.5   ,\n",
       "         823860.5   ,   772621.625 ,   748121.1875,   728668.5625,\n",
       "         736041.375 ,   751613.375 ,   716015.    ,   725831.625 ,\n",
       "         833356.8125,   974729.6875,  1052418.5   ,  1082130.125 ,\n",
       "        1089456.5   ,  1040697.6875,  1058764.125 ,  1019221.375 ,\n",
       "        1034492.375 ,  1050279.625 ,  1040226.4375,  1018391.5   ,\n",
       "         992290.5   ,   988653.4375,   958024.8125,   909124.3125,\n",
       "         824638.25  ,   774049.3125,   747950.8125,   728412.125 ,\n",
       "         736085.4375,   751709.875 ,   715829.375 ,   725499.9375,\n",
       "         833098.125 ,   972539.0625,  1049605.5   ,  1079749.625 ,\n",
       "        1087775.    ,  1037756.5625,  1055611.375 ,  1017820.8125,\n",
       "        1031496.625 ,  1048060.875 ,  1038970.375 ,  1016139.9375,\n",
       "         990859.8125,   986548.75  ,   956401.375 ,   907205.9375,\n",
       "         825882.75  ,   776445.125 ,   746898.375 ,   727221.8125,\n",
       "         734133.625 ,   749911.4375,   709755.4375,   718699.4375,\n",
       "         817337.6875,   949154.4375,  1006030.625 ,  1037004.5   ,\n",
       "        1044919.125 ,   994705.125 ,  1004177.1875,   972167.1875,\n",
       "         984117.8125,  1006941.1875,  1008007.8125,   993129.4375,\n",
       "         969675.1875,   966341.    ,   936102.125 ,   890954.5625,\n",
       "         815345.3125,   758358.6875,   741066.9375,   714046.6875,\n",
       "         720058.8125,   739785.1875,   678122.6875,   669406.    ,\n",
       "         742028.0625,   839698.5   ,   840379.3125,   891154.3125,\n",
       "         882470.625 ,   871875.875 ,   802742.3125,   770143.1875,\n",
       "         791129.625 ,   855346.125 ,   898552.0625,   913789.5625,\n",
       "         904751.    ,   923967.0625,   882752.375 ,   848643.625 ,\n",
       "         774996.5   ,   724029.6875,   706937.125 ,   688518.3125,\n",
       "         692416.375 ,   710393.4375,   651770.1875,   629944.25  ,\n",
       "         712885.    ,   797822.5   ,   818107.3125,   864732.1875,\n",
       "         850689.625 ,   851940.1875,   778978.1875,   751351.3125,\n",
       "         771931.4375,   827828.75  ,   873986.625 ,   884702.8125,\n",
       "         880160.375 ,   887761.5625,   849706.9375,   828006.4375,\n",
       "         789326.625 ,   740198.0625,   722489.875 ,   696339.    ,\n",
       "         704904.75  ,   723847.375 ,   682325.25  ,   691625.0625,\n",
       "         801874.4375,   949314.875 ,  1032292.75  ,  1067679.875 ,\n",
       "        1071197.875 ,  1024027.0625,  1048003.    ,  1008962.1875,\n",
       "        1028456.3125,  1038926.4375,  1020005.75  ,   995019.125 ,\n",
       "         969755.6875,   975770.8125,   937915.5625,   888552.125 ,\n",
       "         809557.625 ,   759993.9375,   735134.9375,   715800.75  ,\n",
       "         724209.5   ,   739861.625 ,   698870.0625,   707407.75  ,\n",
       "         818921.375 ,   957580.0625,  1036375.25  ,  1064173.75  ,\n",
       "        1066926.125 ,  1023158.    ,  1038995.0625,  1003247.4375,\n",
       "        1021432.0625,  1031908.25  ,  1022074.25  ,  1001757.3125,\n",
       "         977521.625 ,   974545.3125,   942351.8125,   896461.9375,\n",
       "         772534.4375,   727625.25  ,   712893.75  ,   684056.1875,\n",
       "         695459.25  ,   713835.8125,   662714.5625,   685789.125 ,\n",
       "         796942.25  ,   957342.9375,  1041881.5625,  1072397.75  ,\n",
       "        1078703.5   ,  1023492.6875,  1065918.5   ,  1021200.5   ,\n",
       "        1045072.75  ,  1044548.6875,  1014427.8125,   985221.4375,\n",
       "         957847.9375,   970250.4375,   929887.8125,   870712.4375,\n",
       "         776064.1875,   732659.75  ,   713341.5   ,   686653.5   ,\n",
       "         698605.    ,   714747.8125,   656929.375 ,   682990.    ,\n",
       "         789091.0625,   942049.1875,  1010117.9375,  1035424.5   ,\n",
       "        1040631.875 ,   987201.6875,  1022918.3125,   982062.0625,\n",
       "        1007106.    ,  1007245.    ,   986676.    ,   965743.375 ,\n",
       "         939768.    ,   950784.25  ,   912300.25  ,   855363.75  ,\n",
       "         798103.4375,   754483.5   ,   731505.5625,   704666.9375,\n",
       "         713409.8125,   733094.    ,   655537.4375,   673150.25  ,\n",
       "         763460.75  ,   890313.9375,   886913.6875,   913807.    ,\n",
       "         906841.375 ,   878596.5   ,   880352.4375,   835109.0625,\n",
       "         868879.25  ,   882610.    ,   902615.25  ,   909863.9375,\n",
       "         894502.1875,   915457.875 ,   867559.9375,   827651.4375], dtype=float32)"
      ]
     },
     "execution_count": 80,
     "metadata": {},
     "output_type": "execute_result"
    }
   ],
   "source": [
    "preds"
   ]
  },
  {
   "cell_type": "code",
   "execution_count": 97,
   "metadata": {
    "collapsed": true
   },
   "outputs": [],
   "source": [
    "s = \"Date,Time,\\\"W (Active power, total)\\\"\\n\"\n",
    "for i in range(17, 27 + 1):\n",
    "    date = str(i) + \"-01-2018\"\n",
    "    for j in range(24):\n",
    "        time = \"%02d:00:00\" %(j)\n",
    "        s += date + \",\" + time + \",\" + str(\"%0.4f\") % (preds[(i - 17) * 24 + j]) + \"\\n\""
   ]
  },
  {
   "cell_type": "code",
   "execution_count": 99,
   "metadata": {
    "collapsed": true
   },
   "outputs": [],
   "source": [
    "with open(\"hourly_predictions.csv\", \"w\") as f:\n",
    "    f.write(s)"
   ]
  },
  {
   "cell_type": "code",
   "execution_count": 100,
   "metadata": {
    "collapsed": true
   },
   "outputs": [],
   "source": [
    "s = \"DateTime,\\\"W (Active power, total)\\\"\\n\"\n",
    "for i in range(17, 27 + 1):\n",
    "    date = str(i) + \"-01-2018\"\n",
    "    for j in range(24):\n",
    "        time = \"%02d:00:00\" %(j)\n",
    "        s += date + \" \" + time + \",\" + str(\"%0.4f\") % (preds[(i - 17) * 24 + j]) + \"\\n\""
   ]
  },
  {
   "cell_type": "code",
   "execution_count": 101,
   "metadata": {
    "collapsed": true
   },
   "outputs": [],
   "source": [
    "with open(\"hourly_predictions_for_plot.csv\", \"w\") as f:\n",
    "    f.write(s)"
   ]
  },
  {
   "cell_type": "code",
   "execution_count": null,
   "metadata": {
    "collapsed": true
   },
   "outputs": [],
   "source": []
  }
 ],
 "metadata": {
  "kernelspec": {
   "display_name": "Python 3",
   "language": "python",
   "name": "python3"
  },
  "language_info": {
   "codemirror_mode": {
    "name": "ipython",
    "version": 3
   },
   "file_extension": ".py",
   "mimetype": "text/x-python",
   "name": "python",
   "nbconvert_exporter": "python",
   "pygments_lexer": "ipython3",
   "version": "3.6.1"
  }
 },
 "nbformat": 4,
 "nbformat_minor": 2
}
